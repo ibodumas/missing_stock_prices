{
 "cells": [
  {
   "cell_type": "markdown",
   "metadata": {},
   "source": [
    "#### Import the needed libraries"
   ]
  },
  {
   "cell_type": "code",
   "execution_count": 1,
   "metadata": {},
   "outputs": [
    {
     "data": {
      "text/html": [
       "\n",
       "    <div class=\"bk-root\">\n",
       "        <a href=\"https://bokeh.pydata.org\" target=\"_blank\" class=\"bk-logo bk-logo-small bk-logo-notebook\"></a>\n",
       "        <span id=\"885895f9-bae8-46f3-bf3b-62c5e93be0e6\">Loading BokehJS ...</span>\n",
       "    </div>"
      ]
     },
     "metadata": {},
     "output_type": "execute_result"
    },
    {
     "data": {},
     "metadata": {},
     "output_type": "display_data"
    }
   ],
   "source": [
    "from sklearn.model_selection import train_test_split\n",
    "import pandas as pd\n",
    "from scipy.interpolate import UnivariateSpline as spline\n",
    "from sklearn.model_selection import ParameterGrid\n",
    "from sklearn import metrics\n",
    "from termcolor import colored\n",
    "import matplotlib.pyplot as plt\n",
    "import numpy as np\n",
    "from bokeh.plotting import figure, output_notebook, show\n",
    "from bokeh.models import LabelSet, ColumnDataSource\n",
    "from bokeh.layouts import row\n",
    "output_notebook()"
   ]
  },
  {
   "cell_type": "markdown",
   "metadata": {},
   "source": [
    "#### Load data and Preprocessing"
   ]
  },
  {
   "cell_type": "code",
   "execution_count": 2,
   "metadata": {},
   "outputs": [],
   "source": [
    "def data_preprocessing(input_name: str, output_name: str):\n",
    "    print(colored(\"LOADED FILE \" + input_name[5:7] + \" !!!\", 'blue'))\n",
    "    _data = pd.read_csv(input_name, sep=\"\\t\")\n",
    "    _data.index = range(_data.shape[0])\n",
    "    _data.columns = [\"y\"]\n",
    "    _data[\"x\"] = range(_data.shape[0])\n",
    "\n",
    "    # position of the missing prices\n",
    "    _pos_missing = _data.y.str.startswith(\"Missing\")\n",
    "\n",
    "    DATA_MISSING = _data[_pos_missing]\n",
    "\n",
    "    # training data set\n",
    "    DATA_TRAINING = _data[_pos_missing == False]\n",
    "\n",
    "    ACTUAL_PRICES = pd.read_csv(output_name, header=None)\n",
    "    return DATA_TRAINING, DATA_MISSING, ACTUAL_PRICES"
   ]
  },
  {
   "cell_type": "markdown",
   "metadata": {},
   "source": [
    "#### Build a grid search fuction"
   ]
  },
  {
   "cell_type": "code",
   "execution_count": 3,
   "metadata": {},
   "outputs": [],
   "source": [
    "def grid_search(data_training, model, param_grid):\n",
    "    \"\"\"\n",
    "    :param data_training:\n",
    "    :param model: the function that defines the model.\n",
    "    :param param_grid: Sklearn ParameterGrid\n",
    "    :return: sorted Pandas DataFrame of the gridsearch and the corresponding MSE.\n",
    "    \"\"\"\n",
    "\n",
    "    x_train, x_val, y_train, y_val = train_test_split(\n",
    "        data_training.x, data_training.y, test_size=0.1, random_state=42\n",
    "    )\n",
    "\n",
    "    # sort the data because the x value of spline must be increasing.\n",
    "    train_data = pd.DataFrame({\"x\": x_train, \"y\": y_train}).sort_values(\"x\")\n",
    "    val_data = pd.DataFrame({\"x\": x_val, \"y\": y_val}).sort_values(\"x\")\n",
    "\n",
    "    param_grid_result = pd.DataFrame.from_dict(list(param_grid))\n",
    "    val_MSE = []\n",
    "    tr_MES = []\n",
    "\n",
    "    for ind, grid in enumerate(param_grid):\n",
    "        trained_model = model(train_data, **grid)\n",
    "        y_predicted = trained_model(val_data.x)\n",
    "        val_error = metrics.mean_squared_error(y_predicted, val_data.y)\n",
    "        val_MSE.append(round(val_error, 6))\n",
    "        \n",
    "        training_pred = trained_model(train_data.x)\n",
    "        tr_error = metrics.mean_squared_error(training_pred, train_data.y)\n",
    "        tr_MES.append(round(tr_error, 6))\n",
    "        \n",
    "    \n",
    "    param_grid_result[\"Train_MSE\"] = tr_MES\n",
    "    param_grid_result[\"Validation_MSE\"] = val_MSE\n",
    "    return param_grid_result"
   ]
  },
  {
   "cell_type": "markdown",
   "metadata": {},
   "source": [
    "#### Build The Model"
   ]
  },
  {
   "cell_type": "code",
   "execution_count": 4,
   "metadata": {},
   "outputs": [],
   "source": [
    "def spline_interpolation(train, **kwargs):\n",
    "    \"\"\"\n",
    "    :param train: Pandas DataFrame - Stock prices with some missing values. dim = (n, 2)\n",
    "    :param kwargs: dict with keys degree_spline and smoothing_factor\n",
    "                1. degree_spline: int - Degree of the smoothing spline. Must be <= 5. \n",
    "                Default is k=3, a cubic spline.\n",
    "                2. smoothing_factor: float - Smoothing factor used to choose the \n",
    "                no. of knots. No. of knots will be increased until the smoothing \n",
    "                condition is satisfied.\n",
    "    :return: A function that holds the trained model.\n",
    "    \"\"\"\n",
    "\n",
    "    spline_model = spline(\n",
    "        train.x, train.y, k=kwargs[\"degree_spline\"], s=kwargs[\"smoothing_factor\"]\n",
    "    )\n",
    "\n",
    "    return spline_model"
   ]
  },
  {
   "cell_type": "markdown",
   "metadata": {},
   "source": [
    "#### For visualizing the result of grid search"
   ]
  },
  {
   "cell_type": "code",
   "execution_count": 5,
   "metadata": {},
   "outputs": [],
   "source": [
    "def heatmap(metric, x_axis, y_axis, title):\n",
    "    \"\"\"\n",
    "    :param metric: the computed value - e.g MSE, RMSE\n",
    "    :param x_axis: values on the x-axis\n",
    "    :param y_axis: values on the y-axis\n",
    "    :param title: Plot title\n",
    "    :return: None - Renders the plot.\n",
    "    \"\"\"\n",
    "    plt.figure(figsize=(4, 4))\n",
    "    plt.subplots_adjust(left=.2, right=0.95, bottom=0.15, top=0.95)\n",
    "    plt.imshow(\n",
    "        np.reshape(list(metric), (4, 4)),\n",
    "        interpolation=\"nearest\",\n",
    "        cmap=plt.cm.hot\n",
    "    )\n",
    "    plt.xlabel(\"Degree of Spline\")\n",
    "    plt.ylabel(\"Smoothing Factor\")\n",
    "    plt.colorbar()\n",
    "    plt.xticks(np.arange(4), x_axis, rotation=45)\n",
    "    plt.yticks(np.arange(4), y_axis)\n",
    "    plt.title(title)\n",
    "    plt.show()"
   ]
  },
  {
   "cell_type": "markdown",
   "metadata": {},
   "source": [
    "# <u> Working With Dataset"
   ]
  },
  {
   "cell_type": "markdown",
   "metadata": {},
   "source": [
    "#### Specify the data to be loaded\n",
    "- Change the input data to work through other a specific file."
   ]
  },
  {
   "cell_type": "code",
   "execution_count": 6,
   "metadata": {},
   "outputs": [],
   "source": [
    "input_file = \"input00.txt\"\n",
    "output_file = \"output00.txt\""
   ]
  },
  {
   "cell_type": "code",
   "execution_count": 7,
   "metadata": {},
   "outputs": [
    {
     "name": "stdout",
     "output_type": "stream",
     "text": [
      "\u001b[34mLOADED FILE 00 !!!\u001b[0m\n"
     ]
    }
   ],
   "source": [
    "DATA_TRAINING, DATA_MISSING, ACTUAL_PRICES = data_preprocessing(input_file, output_file)"
   ]
  },
  {
   "cell_type": "markdown",
   "metadata": {},
   "source": [
    "#### Find optimal Parameters via grid search"
   ]
  },
  {
   "cell_type": "code",
   "execution_count": 8,
   "metadata": {},
   "outputs": [
    {
     "data": {
      "text/html": [
       "<div>\n",
       "<style scoped>\n",
       "    .dataframe tbody tr th:only-of-type {\n",
       "        vertical-align: middle;\n",
       "    }\n",
       "\n",
       "    .dataframe tbody tr th {\n",
       "        vertical-align: top;\n",
       "    }\n",
       "\n",
       "    .dataframe thead th {\n",
       "        text-align: right;\n",
       "    }\n",
       "</style>\n",
       "<table border=\"1\" class=\"dataframe\">\n",
       "  <thead>\n",
       "    <tr style=\"text-align: right;\">\n",
       "      <th></th>\n",
       "      <th>degree_spline</th>\n",
       "      <th>smoothing_factor</th>\n",
       "      <th>Train_MSE</th>\n",
       "      <th>Validation_MSE</th>\n",
       "    </tr>\n",
       "  </thead>\n",
       "  <tbody>\n",
       "    <tr>\n",
       "      <th>0</th>\n",
       "      <td>2</td>\n",
       "      <td>2</td>\n",
       "      <td>0.009659</td>\n",
       "      <td>0.132434</td>\n",
       "    </tr>\n",
       "    <tr>\n",
       "      <th>12</th>\n",
       "      <td>5</td>\n",
       "      <td>2</td>\n",
       "      <td>0.009660</td>\n",
       "      <td>0.134916</td>\n",
       "    </tr>\n",
       "    <tr>\n",
       "      <th>8</th>\n",
       "      <td>4</td>\n",
       "      <td>2</td>\n",
       "      <td>0.009661</td>\n",
       "      <td>0.121957</td>\n",
       "    </tr>\n",
       "    <tr>\n",
       "      <th>4</th>\n",
       "      <td>3</td>\n",
       "      <td>2</td>\n",
       "      <td>0.009663</td>\n",
       "      <td>0.118139</td>\n",
       "    </tr>\n",
       "    <tr>\n",
       "      <th>5</th>\n",
       "      <td>3</td>\n",
       "      <td>3</td>\n",
       "      <td>0.014486</td>\n",
       "      <td>0.100552</td>\n",
       "    </tr>\n",
       "  </tbody>\n",
       "</table>\n",
       "</div>"
      ],
      "text/plain": [
       "    degree_spline  smoothing_factor  Train_MSE  Validation_MSE\n",
       "0               2                 2   0.009659        0.132434\n",
       "12              5                 2   0.009660        0.134916\n",
       "8               4                 2   0.009661        0.121957\n",
       "4               3                 2   0.009663        0.118139\n",
       "5               3                 3   0.014486        0.100552"
      ]
     },
     "execution_count": 8,
     "metadata": {},
     "output_type": "execute_result"
    }
   ],
   "source": [
    "degree_spline = [2, 3, 4, 5]\n",
    "smoothing_factor = [2, 3, 4, 5]\n",
    "\n",
    "param_grid = ParameterGrid(\n",
    "    dict(degree_spline=degree_spline, smoothing_factor=smoothing_factor)\n",
    ")\n",
    "\n",
    "grid_search_result = grid_search(\n",
    "    DATA_TRAINING, model=spline_interpolation, param_grid=param_grid\n",
    ")\n",
    "\n",
    "grid_search_result.sort_values(['Train_MSE', 'Validation_MSE']).head()"
   ]
  },
  {
   "cell_type": "code",
   "execution_count": 9,
   "metadata": {},
   "outputs": [
    {
     "data": {
      "image/png": "[encoded data removed]",
      "text/plain": [
       "<Figure size 288x288 with 2 Axes>"
      ]
     },
     "metadata": {},
     "output_type": "display_data"
    },
    {
     "data": {
      "image/png": "[encoded data removed]",
      "text/plain": [
       "<Figure size 288x288 with 2 Axes>"
      ]
     },
     "metadata": {},
     "output_type": "display_data"
    }
   ],
   "source": [
    "heatmap(\n",
    "    grid_search_result.Train_MSE,\n",
    "    degree_spline,\n",
    "    smoothing_factor,\n",
    "    \"Heatmap of Training MSE\",\n",
    ")\n",
    "heatmap(\n",
    "    grid_search_result.Validation_MSE,\n",
    "    degree_spline,\n",
    "    smoothing_factor,\n",
    "    \"Heatmap of Validation MSE\",\n",
    ")"
   ]
  },
  {
   "cell_type": "markdown",
   "metadata": {},
   "source": [
    "#### Predict the missing stock prices\n",
    "- while choosing the set of parameters needed for bias-variance tradeoff.\n",
    "- degree_spline=3 and smoothing_factor=3 will be used because it performs better across the 3 input files."
   ]
  },
  {
   "cell_type": "code",
   "execution_count": 10,
   "metadata": {},
   "outputs": [],
   "source": [
    "pred_missing_prices = spline_interpolation(\n",
    "    DATA_TRAINING,\n",
    "    degree_spline=3,\n",
    "    smoothing_factor=3\n",
    ")(DATA_MISSING.x)"
   ]
  },
  {
   "cell_type": "code",
   "execution_count": 11,
   "metadata": {},
   "outputs": [
    {
     "data": {
      "text/html": [
       "<div>\n",
       "<style scoped>\n",
       "    .dataframe tbody tr th:only-of-type {\n",
       "        vertical-align: middle;\n",
       "    }\n",
       "\n",
       "    .dataframe tbody tr th {\n",
       "        vertical-align: top;\n",
       "    }\n",
       "\n",
       "    .dataframe thead th {\n",
       "        text-align: right;\n",
       "    }\n",
       "</style>\n",
       "<table border=\"1\" class=\"dataframe\">\n",
       "  <thead>\n",
       "    <tr style=\"text-align: right;\">\n",
       "      <th></th>\n",
       "      <th>predicted missing prices</th>\n",
       "      <th>Actual</th>\n",
       "    </tr>\n",
       "  </thead>\n",
       "  <tbody>\n",
       "    <tr>\n",
       "      <th>48</th>\n",
       "      <td>32.668939</td>\n",
       "      <td>32.69</td>\n",
       "    </tr>\n",
       "    <tr>\n",
       "      <th>54</th>\n",
       "      <td>32.025778</td>\n",
       "      <td>32.15</td>\n",
       "    </tr>\n",
       "    <tr>\n",
       "      <th>57</th>\n",
       "      <td>32.521154</td>\n",
       "      <td>32.61</td>\n",
       "    </tr>\n",
       "    <tr>\n",
       "      <th>99</th>\n",
       "      <td>29.395604</td>\n",
       "      <td>29.30</td>\n",
       "    </tr>\n",
       "    <tr>\n",
       "      <th>104</th>\n",
       "      <td>28.924277</td>\n",
       "      <td>28.96</td>\n",
       "    </tr>\n",
       "  </tbody>\n",
       "</table>\n",
       "</div>"
      ],
      "text/plain": [
       "     predicted missing prices  Actual\n",
       "48                  32.668939   32.69\n",
       "54                  32.025778   32.15\n",
       "57                  32.521154   32.61\n",
       "99                  29.395604   29.30\n",
       "104                 28.924277   28.96"
      ]
     },
     "execution_count": 11,
     "metadata": {},
     "output_type": "execute_result"
    }
   ],
   "source": [
    "pd.DataFrame(\n",
    "    {\n",
    "        \"predicted missing prices\": pred_missing_prices,\n",
    "        \"Actual\": ACTUAL_PRICES.iloc[:, 0].tolist(),\n",
    "    },\n",
    "    index=DATA_MISSING.x.tolist()\n",
    ").head()"
   ]
  },
  {
   "cell_type": "markdown",
   "metadata": {},
   "source": [
    "The Mean Square Error:"
   ]
  },
  {
   "cell_type": "code",
   "execution_count": 12,
   "metadata": {},
   "outputs": [
    {
     "data": {
      "text/plain": [
       "0.06727"
      ]
     },
     "execution_count": 12,
     "metadata": {},
     "output_type": "execute_result"
    }
   ],
   "source": [
    "round(metrics.mean_squared_error(pred_missing_prices, ACTUAL_PRICES), 6)"
   ]
  },
  {
   "cell_type": "markdown",
   "metadata": {},
   "source": [
    "# Visualization\n",
    "- Using an interactive plot"
   ]
  },
  {
   "cell_type": "markdown",
   "metadata": {},
   "source": [
    "#### Combine actual data with the predicted prices"
   ]
  },
  {
   "cell_type": "code",
   "execution_count": 13,
   "metadata": {},
   "outputs": [],
   "source": [
    "x_y_predict = DATA_MISSING.copy()\n",
    "# (x, y) Pandas DataFrame of the predicted missing stock prices\n",
    "x_y_predict.y = pred_missing_prices \n",
    "# (x, y) Pandas DataFrame of all data with the actual missing stock prices\n",
    "all_with_pred = pd.concat([DATA_TRAINING, x_y_predict])\n",
    "all_with_pred = all_with_pred.sort_values('x')"
   ]
  },
  {
   "cell_type": "markdown",
   "metadata": {},
   "source": [
    "#### Combine actual data"
   ]
  },
  {
   "cell_type": "code",
   "execution_count": 14,
   "metadata": {},
   "outputs": [],
   "source": [
    "x_y_actual = DATA_MISSING.copy()\n",
    "# (x, y) Pandas DataFrame of the actual missing stock prices\n",
    "x_y_actual.y = ACTUAL_PRICES.iloc[:, 0].tolist()\n",
    "#(x, y) Pandas DataFrame of all data with the predicted missing stock prices\n",
    "all_with_actual = pd.concat([DATA_TRAINING, x_y_actual])"
   ]
  },
  {
   "cell_type": "markdown",
   "metadata": {},
   "source": [
    "###### PLOT 1"
   ]
  },
  {
   "cell_type": "code",
   "execution_count": 15,
   "metadata": {},
   "outputs": [
    {
     "data": {
      "text/html": [
       "\n",
       "<div class=\"bk-root\">\n",
       "    <div class=\"bk-plotdiv\" id=\"c7541961-4417-4bac-ba94-64ed6603d4f0\"></div>\n",
       "</div>"
      ]
     },
     "metadata": {},
     "output_type": "execute_result"
    },
    {
     "data": {},
     "metadata": {
      "application/vnd.bokehjs_exec.v0+json": {
       "id": "4d91ff80-941b-4eaf-bef3-e14d5756047e"
      }
     },
     "output_type": "display_data"
    }
   ],
   "source": [
    "fig = figure(\n",
    "    title=\"Viewing the closeness of Actual vs. Predicting values of the Missing Stock Prices\",\n",
    "    width=950,\n",
    "    height=700,\n",
    ")\n",
    "\n",
    "fig.title.text_font_size = \"20px\"\n",
    "source = ColumnDataSource(\n",
    "    data=dict(x=x_y_actual.x, y=x_y_actual.y, pointer=range(1, 21))\n",
    ")\n",
    "fig.scatter(x=\"x\", y=\"y\", color=\"navy\", legend=[\"Actual\"], source=source)\n",
    "fig.scatter(x_y_predict.x, x_y_predict.y, color=\"firebrick\", legend=[\"Predicted\"])\n",
    "fig.xaxis[0].axis_label = \"Ordered Period (x)\"\n",
    "fig.yaxis[0].axis_label = \"Stock Prices (y)\"\n",
    "labels = LabelSet(\n",
    "    x=\"x\",\n",
    "    y=\"y\",\n",
    "    text=\"pointer\",\n",
    "    level=\"glyph\",\n",
    "    x_offset=5,\n",
    "    y_offset=5,\n",
    "    source=source,\n",
    "    render_mode=\"canvas\",\n",
    ")\n",
    "\n",
    "fig.add_layout(labels)\n",
    "show(fig)"
   ]
  },
  {
   "cell_type": "markdown",
   "metadata": {},
   "source": [
    "###### PLOT 2"
   ]
  },
  {
   "cell_type": "code",
   "execution_count": 16,
   "metadata": {},
   "outputs": [
    {
     "data": {
      "text/html": [
       "\n",
       "<div class=\"bk-root\">\n",
       "    <div class=\"bk-plotdiv\" id=\"37242223-0b77-453e-bb02-7c73b27b71af\"></div>\n",
       "</div>"
      ]
     },
     "metadata": {},
     "output_type": "execute_result"
    },
    {
     "data": {},
     "metadata": {
      "application/vnd.bokehjs_exec.v0+json": {
       "id": "3d758c1d-0555-4efb-904d-03b4d77b143e"
      }
     },
     "output_type": "display_data"
    }
   ],
   "source": [
    "fig_act = figure(\n",
    "    plot_width=475,\n",
    "    plot_height=300,\n",
    "    title=\"All data with the actual values of the missing prices\",\n",
    ")\n",
    "fig_act.scatter(all_with_actual.x, all_with_actual.y, color=\"navy\")\n",
    "fig_act.xaxis[0].axis_label = \"Ordered Period (x)\"\n",
    "fig_act.yaxis[0].axis_label = \"Stock Prices (y)\"\n",
    "\n",
    "fig_pred = figure(\n",
    "    plot_width=475,\n",
    "    plot_height=300,\n",
    "    title=\"All data with the estimated values of the missing prices\",\n",
    ")\n",
    "fig_pred.scatter(all_with_pred.x, all_with_pred.y, color=\"firebrick\")\n",
    "fig_pred.xaxis[0].axis_label = \"Ordered Period (x)\"\n",
    "fig_pred.yaxis[0].axis_label = \"Stock Prices (y)\"\n",
    "\n",
    "show(row(fig_act, fig_pred))"
   ]
  },
  {
   "cell_type": "markdown",
   "metadata": {},
   "source": [
    "###### PLOT 3"
   ]
  },
  {
   "cell_type": "code",
   "execution_count": 17,
   "metadata": {},
   "outputs": [
    {
     "data": {
      "text/html": [
       "\n",
       "<div class=\"bk-root\">\n",
       "    <div class=\"bk-plotdiv\" id=\"6222cd9d-dd6f-4bd7-be89-b865272650f5\"></div>\n",
       "</div>"
      ]
     },
     "metadata": {},
     "output_type": "execute_result"
    },
    {
     "data": {},
     "metadata": {
      "application/vnd.bokehjs_exec.v0+json": {
       "id": "b82ccef0-4bd5-4446-ae0e-ccc448f4c806"
      }
     },
     "output_type": "display_data"
    }
   ],
   "source": [
    "fig = figure(\n",
    "    title=\"Positioning the side-by-side plots above in a single view\", width=900\n",
    ")\n",
    "fig.scatter(all_with_pred.x, all_with_pred.y, color=\"firebrick\", legend=[\"Predicted\"])\n",
    "fig.scatter(all_with_actual.x, all_with_actual.y, color=\"navy\", legend=[\"Actual\"])\n",
    "fig.xaxis[0].axis_label = \"Ordered Period (x)\"\n",
    "fig.yaxis[0].axis_label = \"Stock Prices (y)\"\n",
    "show(fig)\n"
   ]
  }
 ],
 "metadata": {
  "kernelspec": {
   "display_name": "Python 3",
   "language": "python",
   "name": "python3"
  },
  "language_info": {
   "codemirror_mode": {
    "name": "ipython",
    "version": 3
   },
   "file_extension": ".py",
   "mimetype": "text/x-python",
   "name": "python",
   "nbconvert_exporter": "python",
   "pygments_lexer": "ipython3",
   "version": "3.6.5"
  }
 },
 "nbformat": 4,
 "nbformat_minor": 2
}
