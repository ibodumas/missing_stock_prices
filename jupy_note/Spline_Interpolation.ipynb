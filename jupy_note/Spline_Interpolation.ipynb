{
 "cells": [
  {
   "cell_type": "markdown",
   "metadata": {},
   "source": [
    "#### Import the needed libraries"
   ]
  },
  {
   "cell_type": "code",
   "execution_count": 1,
   "metadata": {},
   "outputs": [
    {
     "data": {
      "text/html": [
       "\n",
       "    <div class=\"bk-root\">\n",
       "        <a href=\"https://bokeh.pydata.org\" target=\"_blank\" class=\"bk-logo bk-logo-small bk-logo-notebook\"></a>\n",
       "        <span id=\"16feddba-c3ef-4e3f-b285-725805dd0266\">Loading BokehJS ...</span>\n",
       "    </div>"
      ]
     },
     "metadata": {},
     "output_type": "display_data"
    },
    {
     "data": {
      "application/javascript": [
       "\n",
       "(function(root) {\n",
       "  function now() {\n",
       "    return new Date();\n",
       "  }\n",
       "\n",
       "  var force = true;\n",
       "\n",
       "  if (typeof (root._bokeh_onload_callbacks) === \"undefined\" || force === true) {\n",
       "    root._bokeh_onload_callbacks = [];\n",
       "    root._bokeh_is_loading = undefined;\n",
       "  }\n",
       "\n",
       "  var JS_MIME_TYPE = 'application/javascript';\n",
       "  var HTML_MIME_TYPE = 'text/html';\n",
       "  var EXEC_MIME_TYPE = 'application/vnd.bokehjs_exec.v0+json';\n",
       "  var CLASS_NAME = 'output_bokeh rendered_html';\n",
       "\n",
       "  /**\n",
       "   * Render data to the DOM node\n",
       "   */\n",
       "  function render(props, node) {\n",
       "    var script = document.createElement(\"script\");\n",
       "    node.appendChild(script);\n",
       "  }\n",
       "\n",
       "  /**\n",
       "   * Handle when an output is cleared or removed\n",
       "   */\n",
       "  function handleClearOutput(event, handle) {\n",
       "    var cell = handle.cell;\n",
       "\n",
       "    var id = cell.output_area._bokeh_element_id;\n",
       "    var server_id = cell.output_area._bokeh_server_id;\n",
       "    // Clean up Bokeh references\n",
       "    if (id !== undefined) {\n",
       "      Bokeh.index[id].model.document.clear();\n",
       "      delete Bokeh.index[id];\n",
       "    }\n",
       "\n",
       "    if (server_id !== undefined) {\n",
       "      // Clean up Bokeh references\n",
       "      var cmd = \"from bokeh.io.state import curstate; print(curstate().uuid_to_server['\" + server_id + \"'].get_sessions()[0].document.roots[0]._id)\";\n",
       "      cell.notebook.kernel.execute(cmd, {\n",
       "        iopub: {\n",
       "          output: function(msg) {\n",
       "            var element_id = msg.content.text.trim();\n",
       "            Bokeh.index[element_id].model.document.clear();\n",
       "            delete Bokeh.index[element_id];\n",
       "          }\n",
       "        }\n",
       "      });\n",
       "      // Destroy server and session\n",
       "      var cmd = \"import bokeh.io.notebook as ion; ion.destroy_server('\" + server_id + \"')\";\n",
       "      cell.notebook.kernel.execute(cmd);\n",
       "    }\n",
       "  }\n",
       "\n",
       "  /**\n",
       "   * Handle when a new output is added\n",
       "   */\n",
       "  function handleAddOutput(event, handle) {\n",
       "    var output_area = handle.output_area;\n",
       "    var output = handle.output;\n",
       "\n",
       "    // limit handleAddOutput to display_data with EXEC_MIME_TYPE content only\n",
       "    if ((output.output_type != \"display_data\") || (!output.data.hasOwnProperty(EXEC_MIME_TYPE))) {\n",
       "      return\n",
       "    }\n",
       "\n",
       "    var toinsert = output_area.element.find(\".\" + CLASS_NAME.split(' ')[0]);\n",
       "\n",
       "    if (output.metadata[EXEC_MIME_TYPE][\"id\"] !== undefined) {\n",
       "      toinsert[toinsert.length - 1].firstChild.textContent = output.data[JS_MIME_TYPE];\n",
       "      // store reference to embed id on output_area\n",
       "      output_area._bokeh_element_id = output.metadata[EXEC_MIME_TYPE][\"id\"];\n",
       "    }\n",
       "    if (output.metadata[EXEC_MIME_TYPE][\"server_id\"] !== undefined) {\n",
       "      var bk_div = document.createElement(\"div\");\n",
       "      bk_div.innerHTML = output.data[HTML_MIME_TYPE];\n",
       "      var script_attrs = bk_div.children[0].attributes;\n",
       "      for (var i = 0; i < script_attrs.length; i++) {\n",
       "        toinsert[toinsert.length - 1].firstChild.setAttribute(script_attrs[i].name, script_attrs[i].value);\n",
       "      }\n",
       "      // store reference to server id on output_area\n",
       "      output_area._bokeh_server_id = output.metadata[EXEC_MIME_TYPE][\"server_id\"];\n",
       "    }\n",
       "  }\n",
       "\n",
       "  function register_renderer(events, OutputArea) {\n",
       "\n",
       "    function append_mime(data, metadata, element) {\n",
       "      // create a DOM node to render to\n",
       "      var toinsert = this.create_output_subarea(\n",
       "        metadata,\n",
       "        CLASS_NAME,\n",
       "        EXEC_MIME_TYPE\n",
       "      );\n",
       "      this.keyboard_manager.register_events(toinsert);\n",
       "      // Render to node\n",
       "      var props = {data: data, metadata: metadata[EXEC_MIME_TYPE]};\n",
       "      render(props, toinsert[toinsert.length - 1]);\n",
       "      element.append(toinsert);\n",
       "      return toinsert\n",
       "    }\n",
       "\n",
       "    /* Handle when an output is cleared or removed */\n",
       "    events.on('clear_output.CodeCell', handleClearOutput);\n",
       "    events.on('delete.Cell', handleClearOutput);\n",
       "\n",
       "    /* Handle when a new output is added */\n",
       "    events.on('output_added.OutputArea', handleAddOutput);\n",
       "\n",
       "    /**\n",
       "     * Register the mime type and append_mime function with output_area\n",
       "     */\n",
       "    OutputArea.prototype.register_mime_type(EXEC_MIME_TYPE, append_mime, {\n",
       "      /* Is output safe? */\n",
       "      safe: true,\n",
       "      /* Index of renderer in `output_area.display_order` */\n",
       "      index: 0\n",
       "    });\n",
       "  }\n",
       "\n",
       "  // register the mime type if in Jupyter Notebook environment and previously unregistered\n",
       "  if (root.Jupyter !== undefined) {\n",
       "    var events = require('base/js/events');\n",
       "    var OutputArea = require('notebook/js/outputarea').OutputArea;\n",
       "\n",
       "    if (OutputArea.prototype.mime_types().indexOf(EXEC_MIME_TYPE) == -1) {\n",
       "      register_renderer(events, OutputArea);\n",
       "    }\n",
       "  }\n",
       "\n",
       "  \n",
       "  if (typeof (root._bokeh_timeout) === \"undefined\" || force === true) {\n",
       "    root._bokeh_timeout = Date.now() + 5000;\n",
       "    root._bokeh_failed_load = false;\n",
       "  }\n",
       "\n",
       "  var NB_LOAD_WARNING = {'data': {'text/html':\n",
       "     \"<div style='background-color: #fdd'>\\n\"+\n",
       "     \"<p>\\n\"+\n",
       "     \"BokehJS does not appear to have successfully loaded. If loading BokehJS from CDN, this \\n\"+\n",
       "     \"may be due to a slow or bad network connection. Possible fixes:\\n\"+\n",
       "     \"</p>\\n\"+\n",
       "     \"<ul>\\n\"+\n",
       "     \"<li>re-rerun `output_notebook()` to attempt to load from CDN again, or</li>\\n\"+\n",
       "     \"<li>use INLINE resources instead, as so:</li>\\n\"+\n",
       "     \"</ul>\\n\"+\n",
       "     \"<code>\\n\"+\n",
       "     \"from bokeh.resources import INLINE\\n\"+\n",
       "     \"output_notebook(resources=INLINE)\\n\"+\n",
       "     \"</code>\\n\"+\n",
       "     \"</div>\"}};\n",
       "\n",
       "  function display_loaded() {\n",
       "    var el = document.getElementById(\"16feddba-c3ef-4e3f-b285-725805dd0266\");\n",
       "    if (el != null) {\n",
       "      el.textContent = \"BokehJS is loading...\";\n",
       "    }\n",
       "    if (root.Bokeh !== undefined) {\n",
       "      if (el != null) {\n",
       "        el.textContent = \"BokehJS \" + root.Bokeh.version + \" successfully loaded.\";\n",
       "      }\n",
       "    } else if (Date.now() < root._bokeh_timeout) {\n",
       "      setTimeout(display_loaded, 100)\n",
       "    }\n",
       "  }\n",
       "\n",
       "\n",
       "  function run_callbacks() {\n",
       "    try {\n",
       "      root._bokeh_onload_callbacks.forEach(function(callback) { callback() });\n",
       "    }\n",
       "    finally {\n",
       "      delete root._bokeh_onload_callbacks\n",
       "    }\n",
       "    console.info(\"Bokeh: all callbacks have finished\");\n",
       "  }\n",
       "\n",
       "  function load_libs(js_urls, callback) {\n",
       "    root._bokeh_onload_callbacks.push(callback);\n",
       "    if (root._bokeh_is_loading > 0) {\n",
       "      console.log(\"Bokeh: BokehJS is being loaded, scheduling callback at\", now());\n",
       "      return null;\n",
       "    }\n",
       "    if (js_urls == null || js_urls.length === 0) {\n",
       "      run_callbacks();\n",
       "      return null;\n",
       "    }\n",
       "    console.log(\"Bokeh: BokehJS not loaded, scheduling load and callback at\", now());\n",
       "    root._bokeh_is_loading = js_urls.length;\n",
       "    for (var i = 0; i < js_urls.length; i++) {\n",
       "      var url = js_urls[i];\n",
       "      var s = document.createElement('script');\n",
       "      s.src = url;\n",
       "      s.async = false;\n",
       "      s.onreadystatechange = s.onload = function() {\n",
       "        root._bokeh_is_loading--;\n",
       "        if (root._bokeh_is_loading === 0) {\n",
       "          console.log(\"Bokeh: all BokehJS libraries loaded\");\n",
       "          run_callbacks()\n",
       "        }\n",
       "      };\n",
       "      s.onerror = function() {\n",
       "        console.warn(\"failed to load library \" + url);\n",
       "      };\n",
       "      console.log(\"Bokeh: injecting script tag for BokehJS library: \", url);\n",
       "      document.getElementsByTagName(\"head\")[0].appendChild(s);\n",
       "    }\n",
       "  };var element = document.getElementById(\"16feddba-c3ef-4e3f-b285-725805dd0266\");\n",
       "  if (element == null) {\n",
       "    console.log(\"Bokeh: ERROR: autoload.js configured with elementid '16feddba-c3ef-4e3f-b285-725805dd0266' but no matching script tag was found. \")\n",
       "    return false;\n",
       "  }\n",
       "\n",
       "  var js_urls = [\"https://cdn.pydata.org/bokeh/release/bokeh-0.12.16.min.js\", \"https://cdn.pydata.org/bokeh/release/bokeh-widgets-0.12.16.min.js\", \"https://cdn.pydata.org/bokeh/release/bokeh-tables-0.12.16.min.js\", \"https://cdn.pydata.org/bokeh/release/bokeh-gl-0.12.16.min.js\"];\n",
       "\n",
       "  var inline_js = [\n",
       "    function(Bokeh) {\n",
       "      Bokeh.set_log_level(\"info\");\n",
       "    },\n",
       "    \n",
       "    function(Bokeh) {\n",
       "      \n",
       "    },\n",
       "    function(Bokeh) {\n",
       "      console.log(\"Bokeh: injecting CSS: https://cdn.pydata.org/bokeh/release/bokeh-0.12.16.min.css\");\n",
       "      Bokeh.embed.inject_css(\"https://cdn.pydata.org/bokeh/release/bokeh-0.12.16.min.css\");\n",
       "      console.log(\"Bokeh: injecting CSS: https://cdn.pydata.org/bokeh/release/bokeh-widgets-0.12.16.min.css\");\n",
       "      Bokeh.embed.inject_css(\"https://cdn.pydata.org/bokeh/release/bokeh-widgets-0.12.16.min.css\");\n",
       "      console.log(\"Bokeh: injecting CSS: https://cdn.pydata.org/bokeh/release/bokeh-tables-0.12.16.min.css\");\n",
       "      Bokeh.embed.inject_css(\"https://cdn.pydata.org/bokeh/release/bokeh-tables-0.12.16.min.css\");\n",
       "    }\n",
       "  ];\n",
       "\n",
       "  function run_inline_js() {\n",
       "    \n",
       "    if ((root.Bokeh !== undefined) || (force === true)) {\n",
       "      for (var i = 0; i < inline_js.length; i++) {\n",
       "        inline_js[i].call(root, root.Bokeh);\n",
       "      }if (force === true) {\n",
       "        display_loaded();\n",
       "      }} else if (Date.now() < root._bokeh_timeout) {\n",
       "      setTimeout(run_inline_js, 100);\n",
       "    } else if (!root._bokeh_failed_load) {\n",
       "      console.log(\"Bokeh: BokehJS failed to load within specified timeout.\");\n",
       "      root._bokeh_failed_load = true;\n",
       "    } else if (force !== true) {\n",
       "      var cell = $(document.getElementById(\"16feddba-c3ef-4e3f-b285-725805dd0266\")).parents('.cell').data().cell;\n",
       "      cell.output_area.append_execute_result(NB_LOAD_WARNING)\n",
       "    }\n",
       "\n",
       "  }\n",
       "\n",
       "  if (root._bokeh_is_loading === 0) {\n",
       "    console.log(\"Bokeh: BokehJS loaded, going straight to plotting\");\n",
       "    run_inline_js();\n",
       "  } else {\n",
       "    load_libs(js_urls, function() {\n",
       "      console.log(\"Bokeh: BokehJS plotting callback run at\", now());\n",
       "      run_inline_js();\n",
       "    });\n",
       "  }\n",
       "}(window));"
      ],
      "application/vnd.bokehjs_load.v0+json": "\n(function(root) {\n  function now() {\n    return new Date();\n  }\n\n  var force = true;\n\n  if (typeof (root._bokeh_onload_callbacks) === \"undefined\" || force === true) {\n    root._bokeh_onload_callbacks = [];\n    root._bokeh_is_loading = undefined;\n  }\n\n  \n\n  \n  if (typeof (root._bokeh_timeout) === \"undefined\" || force === true) {\n    root._bokeh_timeout = Date.now() + 5000;\n    root._bokeh_failed_load = false;\n  }\n\n  var NB_LOAD_WARNING = {'data': {'text/html':\n     \"<div style='background-color: #fdd'>\\n\"+\n     \"<p>\\n\"+\n     \"BokehJS does not appear to have successfully loaded. If loading BokehJS from CDN, this \\n\"+\n     \"may be due to a slow or bad network connection. Possible fixes:\\n\"+\n     \"</p>\\n\"+\n     \"<ul>\\n\"+\n     \"<li>re-rerun `output_notebook()` to attempt to load from CDN again, or</li>\\n\"+\n     \"<li>use INLINE resources instead, as so:</li>\\n\"+\n     \"</ul>\\n\"+\n     \"<code>\\n\"+\n     \"from bokeh.resources import INLINE\\n\"+\n     \"output_notebook(resources=INLINE)\\n\"+\n     \"</code>\\n\"+\n     \"</div>\"}};\n\n  function display_loaded() {\n    var el = document.getElementById(\"16feddba-c3ef-4e3f-b285-725805dd0266\");\n    if (el != null) {\n      el.textContent = \"BokehJS is loading...\";\n    }\n    if (root.Bokeh !== undefined) {\n      if (el != null) {\n        el.textContent = \"BokehJS \" + root.Bokeh.version + \" successfully loaded.\";\n      }\n    } else if (Date.now() < root._bokeh_timeout) {\n      setTimeout(display_loaded, 100)\n    }\n  }\n\n\n  function run_callbacks() {\n    try {\n      root._bokeh_onload_callbacks.forEach(function(callback) { callback() });\n    }\n    finally {\n      delete root._bokeh_onload_callbacks\n    }\n    console.info(\"Bokeh: all callbacks have finished\");\n  }\n\n  function load_libs(js_urls, callback) {\n    root._bokeh_onload_callbacks.push(callback);\n    if (root._bokeh_is_loading > 0) {\n      console.log(\"Bokeh: BokehJS is being loaded, scheduling callback at\", now());\n      return null;\n    }\n    if (js_urls == null || js_urls.length === 0) {\n      run_callbacks();\n      return null;\n    }\n    console.log(\"Bokeh: BokehJS not loaded, scheduling load and callback at\", now());\n    root._bokeh_is_loading = js_urls.length;\n    for (var i = 0; i < js_urls.length; i++) {\n      var url = js_urls[i];\n      var s = document.createElement('script');\n      s.src = url;\n      s.async = false;\n      s.onreadystatechange = s.onload = function() {\n        root._bokeh_is_loading--;\n        if (root._bokeh_is_loading === 0) {\n          console.log(\"Bokeh: all BokehJS libraries loaded\");\n          run_callbacks()\n        }\n      };\n      s.onerror = function() {\n        console.warn(\"failed to load library \" + url);\n      };\n      console.log(\"Bokeh: injecting script tag for BokehJS library: \", url);\n      document.getElementsByTagName(\"head\")[0].appendChild(s);\n    }\n  };var element = document.getElementById(\"16feddba-c3ef-4e3f-b285-725805dd0266\");\n  if (element == null) {\n    console.log(\"Bokeh: ERROR: autoload.js configured with elementid '16feddba-c3ef-4e3f-b285-725805dd0266' but no matching script tag was found. \")\n    return false;\n  }\n\n  var js_urls = [\"https://cdn.pydata.org/bokeh/release/bokeh-0.12.16.min.js\", \"https://cdn.pydata.org/bokeh/release/bokeh-widgets-0.12.16.min.js\", \"https://cdn.pydata.org/bokeh/release/bokeh-tables-0.12.16.min.js\", \"https://cdn.pydata.org/bokeh/release/bokeh-gl-0.12.16.min.js\"];\n\n  var inline_js = [\n    function(Bokeh) {\n      Bokeh.set_log_level(\"info\");\n    },\n    \n    function(Bokeh) {\n      \n    },\n    function(Bokeh) {\n      console.log(\"Bokeh: injecting CSS: https://cdn.pydata.org/bokeh/release/bokeh-0.12.16.min.css\");\n      Bokeh.embed.inject_css(\"https://cdn.pydata.org/bokeh/release/bokeh-0.12.16.min.css\");\n      console.log(\"Bokeh: injecting CSS: https://cdn.pydata.org/bokeh/release/bokeh-widgets-0.12.16.min.css\");\n      Bokeh.embed.inject_css(\"https://cdn.pydata.org/bokeh/release/bokeh-widgets-0.12.16.min.css\");\n      console.log(\"Bokeh: injecting CSS: https://cdn.pydata.org/bokeh/release/bokeh-tables-0.12.16.min.css\");\n      Bokeh.embed.inject_css(\"https://cdn.pydata.org/bokeh/release/bokeh-tables-0.12.16.min.css\");\n    }\n  ];\n\n  function run_inline_js() {\n    \n    if ((root.Bokeh !== undefined) || (force === true)) {\n      for (var i = 0; i < inline_js.length; i++) {\n        inline_js[i].call(root, root.Bokeh);\n      }if (force === true) {\n        display_loaded();\n      }} else if (Date.now() < root._bokeh_timeout) {\n      setTimeout(run_inline_js, 100);\n    } else if (!root._bokeh_failed_load) {\n      console.log(\"Bokeh: BokehJS failed to load within specified timeout.\");\n      root._bokeh_failed_load = true;\n    } else if (force !== true) {\n      var cell = $(document.getElementById(\"16feddba-c3ef-4e3f-b285-725805dd0266\")).parents('.cell').data().cell;\n      cell.output_area.append_execute_result(NB_LOAD_WARNING)\n    }\n\n  }\n\n  if (root._bokeh_is_loading === 0) {\n    console.log(\"Bokeh: BokehJS loaded, going straight to plotting\");\n    run_inline_js();\n  } else {\n    load_libs(js_urls, function() {\n      console.log(\"Bokeh: BokehJS plotting callback run at\", now());\n      run_inline_js();\n    });\n  }\n}(window));"
     },
     "metadata": {},
     "output_type": "display_data"
    }
   ],
   "source": [
    "from sklearn.model_selection import train_test_split\n",
    "import pandas as pd\n",
    "from scipy.interpolate import UnivariateSpline as spline\n",
    "from sklearn.model_selection import ParameterGrid\n",
    "from sklearn import metrics\n",
    "from termcolor import colored\n",
    "import matplotlib.pyplot as plt\n",
    "import numpy as np\n",
    "from bokeh.plotting import figure, output_notebook, show\n",
    "from bokeh.models import Title, LabelSet, Label, ColumnDataSource\n",
    "from bokeh.layouts import row\n",
    "output_notebook()"
   ]
  },
  {
   "cell_type": "markdown",
   "metadata": {},
   "source": [
    "#### Load data and Preprocessing"
   ]
  },
  {
   "cell_type": "code",
   "execution_count": 2,
   "metadata": {},
   "outputs": [],
   "source": [
    "def data_preprocessing(input_name: str, output_name: str):\n",
    "    print(colored(\"LOADED FILE \" + input_name[5:7] + \" !!!\", 'blue'))\n",
    "    _data = pd.read_csv(input_name, sep=\"\\t\")\n",
    "    _data.index = range(_data.shape[0])\n",
    "    _data.columns = [\"y\"]\n",
    "    _data[\"x\"] = range(_data.shape[0])\n",
    "\n",
    "    # position of the missing prices\n",
    "    _pos_missing = _data.y.str.startswith(\"Missing\")\n",
    "\n",
    "    DATA_MISSING = _data[_pos_missing]\n",
    "\n",
    "    # training data set\n",
    "    DATA_TRAINING = _data[_pos_missing == False]\n",
    "\n",
    "    ACTUAL_PRICES = pd.read_csv(output_name, header=None)\n",
    "    return DATA_TRAINING, DATA_MISSING, ACTUAL_PRICES"
   ]
  },
  {
   "cell_type": "markdown",
   "metadata": {},
   "source": [
    "#### Build a grid search fuction"
   ]
  },
  {
   "cell_type": "code",
   "execution_count": 3,
   "metadata": {},
   "outputs": [],
   "source": [
    "def grid_search(data_training, model, param_grid):\n",
    "    \"\"\"\n",
    "    :param data_training:\n",
    "    :param model: the function that defines the model.\n",
    "    :param param_grid: Sklearn ParameterGrid\n",
    "    :return: sorted Pandas DataFrame of the gridsearch and the corresponding MSE.\n",
    "    \"\"\"\n",
    "\n",
    "    x_train, x_val, y_train, y_val = train_test_split(\n",
    "        data_training.x, data_training.y, test_size=0.1, random_state=42\n",
    "    )\n",
    "\n",
    "    # sort the data because the x value of spline must be increasing.\n",
    "    train_data = pd.DataFrame({\"x\": x_train, \"y\": y_train}).sort_values(\"x\")\n",
    "    val_data = pd.DataFrame({\"x\": x_val, \"y\": y_val}).sort_values(\"x\")\n",
    "\n",
    "    param_grid_result = pd.DataFrame.from_dict(list(param_grid))\n",
    "    val_MSE = []\n",
    "    tr_MES = []\n",
    "\n",
    "    for ind, grid in enumerate(param_grid):\n",
    "        trained_model = model(train_data, **grid)\n",
    "        y_predicted = trained_model(val_data.x)\n",
    "        val_error = metrics.mean_squared_error(y_predicted, val_data.y)\n",
    "        val_MSE.append(round(val_error, 6))\n",
    "        \n",
    "        training_pred = trained_model(train_data.x)\n",
    "        tr_error = metrics.mean_squared_error(training_pred, train_data.y)\n",
    "        tr_MES.append(round(tr_error, 6))\n",
    "        \n",
    "    \n",
    "    param_grid_result[\"Train_MSE\"] = tr_MES\n",
    "    param_grid_result[\"Validation_MSE\"] = val_MSE\n",
    "    return param_grid_result"
   ]
  },
  {
   "cell_type": "markdown",
   "metadata": {},
   "source": [
    "#### Build The Model"
   ]
  },
  {
   "cell_type": "code",
   "execution_count": 4,
   "metadata": {},
   "outputs": [],
   "source": [
    "def spline_interpolation(train, **kwargs):\n",
    "    \"\"\"\n",
    "    :param train: Pandas DataFrame - Stock prices with some missing values. dim = (n, 2)\n",
    "    :param kwargs: dict with keys degree_spline and smoothing_factor\n",
    "                1. degree_spline: int - Degree of the smoothing spline. Must be <= 5. \n",
    "                Default is k=3, a cubic spline.\n",
    "                2. smoothing_factor: float - Smoothing factor used to choose the \n",
    "                no. of knots. No. of knots will be increased until the smoothing \n",
    "                condition is satisfied.\n",
    "    :return: A function that holds the trained model.\n",
    "    \"\"\"\n",
    "\n",
    "    spline_model = spline(\n",
    "        train.x, train.y, k=kwargs[\"degree_spline\"], s=kwargs[\"smoothing_factor\"]\n",
    "    )\n",
    "\n",
    "    return spline_model"
   ]
  },
  {
   "cell_type": "code",
   "execution_count": 5,
   "metadata": {},
   "outputs": [],
   "source": [
    "def heatmap(metric, x_axis, y_axis, title):\n",
    "    \"\"\"\n",
    "    :param metric: the computed value - e.g MSE, RMSE\n",
    "    :param x_axis: values on the x-axis\n",
    "    :param y_axis: values on the y-axis\n",
    "    :param title: Plot title\n",
    "    :return: None - Renders the plot.\n",
    "    \"\"\"\n",
    "    plt.figure(figsize=(4, 4))\n",
    "    plt.subplots_adjust(left=.2, right=0.95, bottom=0.15, top=0.95)\n",
    "    plt.imshow(\n",
    "        np.reshape(list(metric), (4, 4)),\n",
    "        interpolation=\"nearest\",\n",
    "        cmap=plt.cm.hot\n",
    "    )\n",
    "    plt.xlabel(\"Degree of Spline\")\n",
    "    plt.ylabel(\"Smoothing Factor\")\n",
    "    plt.colorbar()\n",
    "    plt.xticks(np.arange(4), x_axis, rotation=45)\n",
    "    plt.yticks(np.arange(4), y_axis)\n",
    "    plt.title(title)\n",
    "    plt.show()"
   ]
  },
  {
   "cell_type": "markdown",
   "metadata": {},
   "source": [
    "# <u> Working With Dataset"
   ]
  },
  {
   "cell_type": "markdown",
   "metadata": {},
   "source": [
    "#### Specify the data to be loaded\n",
    "- Change the input data to work through other a specific file."
   ]
  },
  {
   "cell_type": "code",
   "execution_count": 6,
   "metadata": {},
   "outputs": [],
   "source": [
    "input_file = \"input00.txt\"\n",
    "output_file = \"output00.txt\""
   ]
  },
  {
   "cell_type": "code",
   "execution_count": 7,
   "metadata": {},
   "outputs": [
    {
     "name": "stdout",
     "output_type": "stream",
     "text": [
      "\u001b[34mLOADED FILE 00 !!!\u001b[0m\n"
     ]
    }
   ],
   "source": [
    "DATA_TRAINING, DATA_MISSING, ACTUAL_PRICES = data_preprocessing(input_file, output_file)"
   ]
  },
  {
   "cell_type": "markdown",
   "metadata": {},
   "source": [
    "#### Find optimal Parameters via grid search"
   ]
  },
  {
   "cell_type": "code",
   "execution_count": 8,
   "metadata": {},
   "outputs": [
    {
     "data": {
      "text/html": [
       "<div>\n",
       "<style scoped>\n",
       "    .dataframe tbody tr th:only-of-type {\n",
       "        vertical-align: middle;\n",
       "    }\n",
       "\n",
       "    .dataframe tbody tr th {\n",
       "        vertical-align: top;\n",
       "    }\n",
       "\n",
       "    .dataframe thead th {\n",
       "        text-align: right;\n",
       "    }\n",
       "</style>\n",
       "<table border=\"1\" class=\"dataframe\">\n",
       "  <thead>\n",
       "    <tr style=\"text-align: right;\">\n",
       "      <th></th>\n",
       "      <th>degree_spline</th>\n",
       "      <th>smoothing_factor</th>\n",
       "      <th>Train_MSE</th>\n",
       "      <th>Validation_MSE</th>\n",
       "    </tr>\n",
       "  </thead>\n",
       "  <tbody>\n",
       "    <tr>\n",
       "      <th>0</th>\n",
       "      <td>2</td>\n",
       "      <td>2</td>\n",
       "      <td>0.009659</td>\n",
       "      <td>0.132434</td>\n",
       "    </tr>\n",
       "    <tr>\n",
       "      <th>12</th>\n",
       "      <td>5</td>\n",
       "      <td>2</td>\n",
       "      <td>0.009660</td>\n",
       "      <td>0.134916</td>\n",
       "    </tr>\n",
       "    <tr>\n",
       "      <th>8</th>\n",
       "      <td>4</td>\n",
       "      <td>2</td>\n",
       "      <td>0.009661</td>\n",
       "      <td>0.121957</td>\n",
       "    </tr>\n",
       "    <tr>\n",
       "      <th>4</th>\n",
       "      <td>3</td>\n",
       "      <td>2</td>\n",
       "      <td>0.009663</td>\n",
       "      <td>0.118139</td>\n",
       "    </tr>\n",
       "    <tr>\n",
       "      <th>5</th>\n",
       "      <td>3</td>\n",
       "      <td>3</td>\n",
       "      <td>0.014486</td>\n",
       "      <td>0.100552</td>\n",
       "    </tr>\n",
       "  </tbody>\n",
       "</table>\n",
       "</div>"
      ],
      "text/plain": [
       "    degree_spline  smoothing_factor  Train_MSE  Validation_MSE\n",
       "0               2                 2   0.009659        0.132434\n",
       "12              5                 2   0.009660        0.134916\n",
       "8               4                 2   0.009661        0.121957\n",
       "4               3                 2   0.009663        0.118139\n",
       "5               3                 3   0.014486        0.100552"
      ]
     },
     "execution_count": 8,
     "metadata": {},
     "output_type": "execute_result"
    }
   ],
   "source": [
    "degree_spline = [2, 3, 4, 5]\n",
    "smoothing_factor = [2, 3, 4, 5]\n",
    "\n",
    "param_grid = ParameterGrid(\n",
    "    dict(degree_spline=degree_spline, smoothing_factor=smoothing_factor)\n",
    ")\n",
    "\n",
    "grid_search_result = grid_search(\n",
    "    DATA_TRAINING, model=spline_interpolation, param_grid=param_grid\n",
    ")\n",
    "\n",
    "grid_search_result.sort_values(['Train_MSE', 'Validation_MSE']).head()"
   ]
  },
  {
   "cell_type": "code",
   "execution_count": 9,
   "metadata": {},
   "outputs": [
    {
     "data": {
      "image/png": "[encoded data removed]",
      "text/plain": [
       "<Figure size 288x288 with 2 Axes>"
      ]
     },
     "metadata": {},
     "output_type": "display_data"
    },
    {
     "data": {
      "image/png": "[encoded data removed]",
      "text/plain": [
       "<Figure size 288x288 with 2 Axes>"
      ]
     },
     "metadata": {},
     "output_type": "display_data"
    }
   ],
   "source": [
    "heatmap(\n",
    "    grid_search_result.Train_MSE,\n",
    "    degree_spline,\n",
    "    smoothing_factor,\n",
    "    \"Heatmap of Training MSE\",\n",
    ")\n",
    "heatmap(\n",
    "    grid_search_result.Validation_MSE,\n",
    "    degree_spline,\n",
    "    smoothing_factor,\n",
    "    \"Heatmap of Validation MSE\",\n",
    ")"
   ]
  },
  {
   "cell_type": "markdown",
   "metadata": {},
   "source": [
    "#### Predict the missing stock prices\n",
    "- while choosing the set of parameters needed for bias-variance tradeoff.\n",
    "- degree_spline=3 and smoothing_factor=3 will be used because it performs better across the 3 input files."
   ]
  },
  {
   "cell_type": "code",
   "execution_count": 10,
   "metadata": {},
   "outputs": [],
   "source": [
    "pred_missing_prices = spline_interpolation(\n",
    "    DATA_TRAINING,\n",
    "    degree_spline=3,\n",
    "    smoothing_factor=3\n",
    ")(DATA_MISSING.x)"
   ]
  },
  {
   "cell_type": "code",
   "execution_count": 11,
   "metadata": {},
   "outputs": [
    {
     "data": {
      "text/html": [
       "<div>\n",
       "<style scoped>\n",
       "    .dataframe tbody tr th:only-of-type {\n",
       "        vertical-align: middle;\n",
       "    }\n",
       "\n",
       "    .dataframe tbody tr th {\n",
       "        vertical-align: top;\n",
       "    }\n",
       "\n",
       "    .dataframe thead th {\n",
       "        text-align: right;\n",
       "    }\n",
       "</style>\n",
       "<table border=\"1\" class=\"dataframe\">\n",
       "  <thead>\n",
       "    <tr style=\"text-align: right;\">\n",
       "      <th></th>\n",
       "      <th>predicted missing prices</th>\n",
       "      <th>Actual</th>\n",
       "    </tr>\n",
       "  </thead>\n",
       "  <tbody>\n",
       "    <tr>\n",
       "      <th>48</th>\n",
       "      <td>32.668939</td>\n",
       "      <td>32.69</td>\n",
       "    </tr>\n",
       "    <tr>\n",
       "      <th>54</th>\n",
       "      <td>32.025778</td>\n",
       "      <td>32.15</td>\n",
       "    </tr>\n",
       "    <tr>\n",
       "      <th>57</th>\n",
       "      <td>32.521154</td>\n",
       "      <td>32.61</td>\n",
       "    </tr>\n",
       "    <tr>\n",
       "      <th>99</th>\n",
       "      <td>29.395604</td>\n",
       "      <td>29.30</td>\n",
       "    </tr>\n",
       "    <tr>\n",
       "      <th>104</th>\n",
       "      <td>28.924277</td>\n",
       "      <td>28.96</td>\n",
       "    </tr>\n",
       "  </tbody>\n",
       "</table>\n",
       "</div>"
      ],
      "text/plain": [
       "     predicted missing prices  Actual\n",
       "48                  32.668939   32.69\n",
       "54                  32.025778   32.15\n",
       "57                  32.521154   32.61\n",
       "99                  29.395604   29.30\n",
       "104                 28.924277   28.96"
      ]
     },
     "execution_count": 11,
     "metadata": {},
     "output_type": "execute_result"
    }
   ],
   "source": [
    "pd.DataFrame(\n",
    "    {\n",
    "        \"predicted missing prices\": pred_missing_prices,\n",
    "        \"Actual\": ACTUAL_PRICES.iloc[:, 0].tolist(),\n",
    "    },\n",
    "    index=DATA_MISSING.x.tolist()\n",
    ").head()"
   ]
  },
  {
   "cell_type": "markdown",
   "metadata": {},
   "source": [
    "The Mean Square Error:"
   ]
  },
  {
   "cell_type": "code",
   "execution_count": 12,
   "metadata": {},
   "outputs": [
    {
     "data": {
      "text/plain": [
       "0.06727"
      ]
     },
     "execution_count": 12,
     "metadata": {},
     "output_type": "execute_result"
    }
   ],
   "source": [
    "round(metrics.mean_squared_error(pred_missing_prices, ACTUAL_PRICES), 6)"
   ]
  },
  {
   "cell_type": "markdown",
   "metadata": {},
   "source": [
    "# Visualization\n",
    "- Using an interactive plot"
   ]
  },
  {
   "cell_type": "markdown",
   "metadata": {},
   "source": [
    "#### Combine actual data with the predicted prices"
   ]
  },
  {
   "cell_type": "code",
   "execution_count": 13,
   "metadata": {},
   "outputs": [],
   "source": [
    "x_y_predictd = DATA_MISSING.copy()\n",
    "x_y_predictd.y = pred_missing_prices\n",
    "all_with_pred = pd.concat([DATA_TRAINING, x_y_predictd])\n",
    "all_with_pred = all_with_pred.sort_values('x')"
   ]
  },
  {
   "cell_type": "markdown",
   "metadata": {},
   "source": [
    "#### Combine actual data"
   ]
  },
  {
   "cell_type": "code",
   "execution_count": 14,
   "metadata": {},
   "outputs": [],
   "source": [
    "all_x_y_actual = DATA_MISSING.copy()\n",
    "all_x_y_actual.y = ACTUAL_PRICES.iloc[:, 0].tolist()\n",
    "all_with_actual = pd.concat([DATA_TRAINING, all_x_y_actual])"
   ]
  },
  {
   "cell_type": "code",
   "execution_count": 15,
   "metadata": {},
   "outputs": [
    {
     "data": {
      "text/html": [
       "\n",
       "<div class=\"bk-root\">\n",
       "    <div class=\"bk-plotdiv\" id=\"d43e6852-46a7-42e4-b64f-f9cca35f8922\"></div>\n",
       "</div>"
      ]
     },
     "metadata": {},
     "output_type": "display_data"
    },
    {
     "data": {
      "application/javascript": [
       "(function(root) {\n",
       "  function embed_document(root) {\n",
       "    \n",
       "  var docs_json = {\"53c8a3bf-6d1d-4a7b-a515-7f048278f83b\":{\"roots\":{\"references\":[{\"attributes\":{},\"id\":\"60492848-6022-4d22-be56-3e179c603ff7\",\"type\":\"BasicTickFormatter\"},{\"attributes\":{\"label\":{\"value\":\"Predicted\"},\"renderers\":[{\"id\":\"fba1c442-c2e7-49d6-bf6a-e863e9bf7dbd\",\"type\":\"GlyphRenderer\"}]},\"id\":\"fb68c449-0fff-4380-b1f9-ab198572f5b6\",\"type\":\"LegendItem\"},{\"attributes\":{},\"id\":\"50e3ee52-54a8-44cc-84c0-8f970d08f54f\",\"type\":\"BasicTickFormatter\"},{\"attributes\":{},\"id\":\"3dea70d1-fe21-475d-b211-e7ff5b5e5697\",\"type\":\"UnionRenderers\"},{\"attributes\":{\"fill_color\":{\"value\":\"firebrick\"},\"line_color\":{\"value\":\"firebrick\"},\"x\":{\"field\":\"x\"},\"y\":{\"field\":\"y\"}},\"id\":\"c273a8e7-1ca0-424a-949e-a9badfe240ba\",\"type\":\"Circle\"},{\"attributes\":{\"below\":[{\"id\":\"c4258df7-b0d4-4253-9bfb-03892e19a45a\",\"type\":\"LinearAxis\"}],\"left\":[{\"id\":\"181b22a8-d13a-4809-8ef2-db5d644777a9\",\"type\":\"LinearAxis\"}],\"plot_height\":700,\"plot_width\":950,\"renderers\":[{\"id\":\"c4258df7-b0d4-4253-9bfb-03892e19a45a\",\"type\":\"LinearAxis\"},{\"id\":\"3f49d306-6a38-444c-adbe-c437894199b2\",\"type\":\"Grid\"},{\"id\":\"181b22a8-d13a-4809-8ef2-db5d644777a9\",\"type\":\"LinearAxis\"},{\"id\":\"2a04bda1-e68c-4a54-9718-cb5be5864539\",\"type\":\"Grid\"},{\"id\":\"03e4a9d2-91b9-440f-bf6c-d9e27dcc93cc\",\"type\":\"BoxAnnotation\"},{\"id\":\"ddfeb076-2146-4777-a073-f630cb96a601\",\"type\":\"Legend\"},{\"id\":\"2efa206e-3cf3-4f91-b0d2-b0c89bde4d51\",\"type\":\"GlyphRenderer\"},{\"id\":\"fba1c442-c2e7-49d6-bf6a-e863e9bf7dbd\",\"type\":\"GlyphRenderer\"},{\"id\":\"f0db0cb4-7ebf-430b-abd8-fd9ec1388305\",\"type\":\"LabelSet\"}],\"title\":{\"id\":\"2ca9ad44-2772-4163-9722-259246bcd09a\",\"type\":\"Title\"},\"toolbar\":{\"id\":\"7b404714-ad09-48a1-bd2c-aaf32460db8f\",\"type\":\"Toolbar\"},\"x_range\":{\"id\":\"e8355ea5-8226-4ac9-a7aa-8f399e210a68\",\"type\":\"DataRange1d\"},\"x_scale\":{\"id\":\"69e9a61e-2289-44f2-b667-1e0791cc0ffa\",\"type\":\"LinearScale\"},\"y_range\":{\"id\":\"371e44dd-83e2-4a91-8483-d983c2190038\",\"type\":\"DataRange1d\"},\"y_scale\":{\"id\":\"c106482c-12de-453d-a199-d3fbf6c08d83\",\"type\":\"LinearScale\"}},\"id\":\"cc384ea1-ec6f-4167-a4f9-6bea8087eadb\",\"subtype\":\"Figure\",\"type\":\"Plot\"},{\"attributes\":{\"items\":[{\"id\":\"cc0aa78e-99c9-4bed-84f0-1464c9ac24ed\",\"type\":\"LegendItem\"},{\"id\":\"fb68c449-0fff-4380-b1f9-ab198572f5b6\",\"type\":\"LegendItem\"}],\"plot\":{\"id\":\"cc384ea1-ec6f-4167-a4f9-6bea8087eadb\",\"subtype\":\"Figure\",\"type\":\"Plot\"}},\"id\":\"ddfeb076-2146-4777-a073-f630cb96a601\",\"type\":\"Legend\"},{\"attributes\":{},\"id\":\"ca1680b3-278a-4e88-a34c-522f9f3805db\",\"type\":\"Selection\"},{\"attributes\":{\"data_source\":{\"id\":\"7928e480-3b8d-49bf-8343-798b444ea779\",\"type\":\"ColumnDataSource\"},\"glyph\":{\"id\":\"c273a8e7-1ca0-424a-949e-a9badfe240ba\",\"type\":\"Circle\"},\"hover_glyph\":null,\"muted_glyph\":null,\"nonselection_glyph\":{\"id\":\"5375f73a-f0f1-4dca-a393-57ef8f979e0e\",\"type\":\"Circle\"},\"selection_glyph\":null,\"view\":{\"id\":\"afb22706-50c7-46b3-ae9e-c26750f87c1e\",\"type\":\"CDSView\"}},\"id\":\"fba1c442-c2e7-49d6-bf6a-e863e9bf7dbd\",\"type\":\"GlyphRenderer\"},{\"attributes\":{\"source\":{\"id\":\"05497787-c275-4d4e-ad02-dd5368ede199\",\"type\":\"ColumnDataSource\"}},\"id\":\"e7919cf7-3c98-4f5a-82eb-c9f65e406a6a\",\"type\":\"CDSView\"},{\"attributes\":{\"plot\":null,\"text\":\"Viewing the closeness of Actual vs. Predicting values of the Missing Stock Prices\",\"text_font_size\":{\"value\":\"20px\"}},\"id\":\"2ca9ad44-2772-4163-9722-259246bcd09a\",\"type\":\"Title\"},{\"attributes\":{\"callback\":null,\"data\":{\"x\":[48,54,57,99,104,105,138,139,142,173,178,181,194,195,198,208,212,217,220,238],\"y\":{\"__ndarray__\":\"1vPdxp9VQEBh01OyTANAQNY9UC61QkBASD01UUZlPUBKzh1onew8QNpPVYhFnjxAP1VizGWEPkBWtnH9dOI9QMdGYF0UlT1AeAReR57/PkBMcQ4U3iw/QMvu2qDzgD9AAg7wh+udPUCOjRjT4Vo9QPWD2hWwlD1Aoi0zxrTtPEDM090q9ME9QDMUZcBLFzxAXwx6nZ22OkDo3sQMuF07QA==\",\"dtype\":\"float64\",\"shape\":[20]}},\"selected\":{\"id\":\"ca1680b3-278a-4e88-a34c-522f9f3805db\",\"type\":\"Selection\"},\"selection_policy\":{\"id\":\"57fc96b4-54b8-47f8-ba5a-7f00e7ca657b\",\"type\":\"UnionRenderers\"}},\"id\":\"7928e480-3b8d-49bf-8343-798b444ea779\",\"type\":\"ColumnDataSource\"},{\"attributes\":{\"callback\":null},\"id\":\"e8355ea5-8226-4ac9-a7aa-8f399e210a68\",\"type\":\"DataRange1d\"},{\"attributes\":{\"fill_alpha\":{\"value\":0.1},\"fill_color\":{\"value\":\"#1f77b4\"},\"line_alpha\":{\"value\":0.1},\"line_color\":{\"value\":\"#1f77b4\"},\"x\":{\"field\":\"x\"},\"y\":{\"field\":\"y\"}},\"id\":\"5375f73a-f0f1-4dca-a393-57ef8f979e0e\",\"type\":\"Circle\"},{\"attributes\":{\"active_drag\":\"auto\",\"active_inspect\":\"auto\",\"active_scroll\":\"auto\",\"active_tap\":\"auto\",\"tools\":[{\"id\":\"4b721a8c-85d9-4b04-85f4-ada5fbf2cc4e\",\"type\":\"PanTool\"},{\"id\":\"d0465dba-548b-4007-9472-d0b49be1196c\",\"type\":\"WheelZoomTool\"},{\"id\":\"152c8fee-08de-4589-88e5-3ee2a35d3d9e\",\"type\":\"BoxZoomTool\"},{\"id\":\"0a19f6d9-fbaf-4b0b-a1ee-c838d9c47190\",\"type\":\"SaveTool\"},{\"id\":\"87956b9e-6e90-4cc9-b4d9-a9e992355c07\",\"type\":\"ResetTool\"},{\"id\":\"dbc5cf1c-729e-4320-8a8a-6a9348e37ee8\",\"type\":\"HelpTool\"}]},\"id\":\"7b404714-ad09-48a1-bd2c-aaf32460db8f\",\"type\":\"Toolbar\"},{\"attributes\":{\"source\":{\"id\":\"7928e480-3b8d-49bf-8343-798b444ea779\",\"type\":\"ColumnDataSource\"}},\"id\":\"afb22706-50c7-46b3-ae9e-c26750f87c1e\",\"type\":\"CDSView\"},{\"attributes\":{\"label\":{\"value\":\"Actual\"},\"renderers\":[{\"id\":\"2efa206e-3cf3-4f91-b0d2-b0c89bde4d51\",\"type\":\"GlyphRenderer\"}]},\"id\":\"cc0aa78e-99c9-4bed-84f0-1464c9ac24ed\",\"type\":\"LegendItem\"},{\"attributes\":{},\"id\":\"57fc96b4-54b8-47f8-ba5a-7f00e7ca657b\",\"type\":\"UnionRenderers\"},{\"attributes\":{},\"id\":\"69e9a61e-2289-44f2-b667-1e0791cc0ffa\",\"type\":\"LinearScale\"},{\"attributes\":{},\"id\":\"0c990f6e-c4a3-4e8c-b7f0-a73fc4b12eb4\",\"type\":\"Selection\"},{\"attributes\":{\"callback\":null},\"id\":\"371e44dd-83e2-4a91-8483-d983c2190038\",\"type\":\"DataRange1d\"},{\"attributes\":{},\"id\":\"c106482c-12de-453d-a199-d3fbf6c08d83\",\"type\":\"LinearScale\"},{\"attributes\":{\"level\":\"glyph\",\"plot\":{\"id\":\"cc384ea1-ec6f-4167-a4f9-6bea8087eadb\",\"subtype\":\"Figure\",\"type\":\"Plot\"},\"source\":{\"id\":\"05497787-c275-4d4e-ad02-dd5368ede199\",\"type\":\"ColumnDataSource\"},\"text\":{\"field\":\"pointer\"},\"x\":{\"field\":\"x\"},\"x_offset\":{\"value\":5},\"y\":{\"field\":\"y\"},\"y_offset\":{\"value\":5}},\"id\":\"f0db0cb4-7ebf-430b-abd8-fd9ec1388305\",\"type\":\"LabelSet\"},{\"attributes\":{\"callback\":null,\"data\":{\"pointer\":[1,2,3,4,5,6,7,8,9,10,11,12,13,14,15,16,17,18,19,20],\"x\":[48,54,57,99,104,105,138,139,142,173,178,181,194,195,198,208,212,217,220,238],\"y\":{\"__ndarray__\":\"uB6F61FYQEAzMzMzMxNAQK5H4XoUTkBAzczMzMxMPUD2KFyPwvU8QEjhehSuxzxAzczMzMwMP0AUrkfhepQ9QAAAAAAAgD1AZmZmZmbmPkDD9Shcj0I/QHsUrkfhej9APQrXo3C9PUCPwvUoXE89QLgehetRuD1A4XoUrkfhPEAzMzMzMzM+QM3MzMzMTDtAMzMzMzOzOkCF61G4HoU7QA==\",\"dtype\":\"float64\",\"shape\":[20]}},\"selected\":{\"id\":\"0c990f6e-c4a3-4e8c-b7f0-a73fc4b12eb4\",\"type\":\"Selection\"},\"selection_policy\":{\"id\":\"3dea70d1-fe21-475d-b211-e7ff5b5e5697\",\"type\":\"UnionRenderers\"}},\"id\":\"05497787-c275-4d4e-ad02-dd5368ede199\",\"type\":\"ColumnDataSource\"},{\"attributes\":{\"axis_label\":\"Ordered Period (x)\",\"formatter\":{\"id\":\"50e3ee52-54a8-44cc-84c0-8f970d08f54f\",\"type\":\"BasicTickFormatter\"},\"plot\":{\"id\":\"cc384ea1-ec6f-4167-a4f9-6bea8087eadb\",\"subtype\":\"Figure\",\"type\":\"Plot\"},\"ticker\":{\"id\":\"f88b79d9-01e5-4244-aba1-b1e12f71d756\",\"type\":\"BasicTicker\"}},\"id\":\"c4258df7-b0d4-4253-9bfb-03892e19a45a\",\"type\":\"LinearAxis\"},{\"attributes\":{},\"id\":\"f88b79d9-01e5-4244-aba1-b1e12f71d756\",\"type\":\"BasicTicker\"},{\"attributes\":{\"plot\":{\"id\":\"cc384ea1-ec6f-4167-a4f9-6bea8087eadb\",\"subtype\":\"Figure\",\"type\":\"Plot\"},\"ticker\":{\"id\":\"f88b79d9-01e5-4244-aba1-b1e12f71d756\",\"type\":\"BasicTicker\"}},\"id\":\"3f49d306-6a38-444c-adbe-c437894199b2\",\"type\":\"Grid\"},{\"attributes\":{\"axis_label\":\"Stock Prices (y)\",\"formatter\":{\"id\":\"60492848-6022-4d22-be56-3e179c603ff7\",\"type\":\"BasicTickFormatter\"},\"plot\":{\"id\":\"cc384ea1-ec6f-4167-a4f9-6bea8087eadb\",\"subtype\":\"Figure\",\"type\":\"Plot\"},\"ticker\":{\"id\":\"b8adb541-ffe1-44de-8393-3d6aa9e460ba\",\"type\":\"BasicTicker\"}},\"id\":\"181b22a8-d13a-4809-8ef2-db5d644777a9\",\"type\":\"LinearAxis\"},{\"attributes\":{},\"id\":\"b8adb541-ffe1-44de-8393-3d6aa9e460ba\",\"type\":\"BasicTicker\"},{\"attributes\":{\"dimension\":1,\"plot\":{\"id\":\"cc384ea1-ec6f-4167-a4f9-6bea8087eadb\",\"subtype\":\"Figure\",\"type\":\"Plot\"},\"ticker\":{\"id\":\"b8adb541-ffe1-44de-8393-3d6aa9e460ba\",\"type\":\"BasicTicker\"}},\"id\":\"2a04bda1-e68c-4a54-9718-cb5be5864539\",\"type\":\"Grid\"},{\"attributes\":{\"bottom_units\":\"screen\",\"fill_alpha\":{\"value\":0.5},\"fill_color\":{\"value\":\"lightgrey\"},\"left_units\":\"screen\",\"level\":\"overlay\",\"line_alpha\":{\"value\":1.0},\"line_color\":{\"value\":\"black\"},\"line_dash\":[4,4],\"line_width\":{\"value\":2},\"plot\":null,\"render_mode\":\"css\",\"right_units\":\"screen\",\"top_units\":\"screen\"},\"id\":\"03e4a9d2-91b9-440f-bf6c-d9e27dcc93cc\",\"type\":\"BoxAnnotation\"},{\"attributes\":{\"fill_color\":{\"value\":\"navy\"},\"line_color\":{\"value\":\"navy\"},\"x\":{\"field\":\"x\"},\"y\":{\"field\":\"y\"}},\"id\":\"cbca56ea-731f-4aa9-a8f3-bc37d028efc2\",\"type\":\"Circle\"},{\"attributes\":{},\"id\":\"4b721a8c-85d9-4b04-85f4-ada5fbf2cc4e\",\"type\":\"PanTool\"},{\"attributes\":{\"fill_alpha\":{\"value\":0.1},\"fill_color\":{\"value\":\"#1f77b4\"},\"line_alpha\":{\"value\":0.1},\"line_color\":{\"value\":\"#1f77b4\"},\"x\":{\"field\":\"x\"},\"y\":{\"field\":\"y\"}},\"id\":\"550f320d-b581-4893-9650-b76dd4469186\",\"type\":\"Circle\"},{\"attributes\":{},\"id\":\"d0465dba-548b-4007-9472-d0b49be1196c\",\"type\":\"WheelZoomTool\"},{\"attributes\":{\"overlay\":{\"id\":\"03e4a9d2-91b9-440f-bf6c-d9e27dcc93cc\",\"type\":\"BoxAnnotation\"}},\"id\":\"152c8fee-08de-4589-88e5-3ee2a35d3d9e\",\"type\":\"BoxZoomTool\"},{\"attributes\":{},\"id\":\"0a19f6d9-fbaf-4b0b-a1ee-c838d9c47190\",\"type\":\"SaveTool\"},{\"attributes\":{},\"id\":\"87956b9e-6e90-4cc9-b4d9-a9e992355c07\",\"type\":\"ResetTool\"},{\"attributes\":{},\"id\":\"dbc5cf1c-729e-4320-8a8a-6a9348e37ee8\",\"type\":\"HelpTool\"},{\"attributes\":{\"data_source\":{\"id\":\"05497787-c275-4d4e-ad02-dd5368ede199\",\"type\":\"ColumnDataSource\"},\"glyph\":{\"id\":\"cbca56ea-731f-4aa9-a8f3-bc37d028efc2\",\"type\":\"Circle\"},\"hover_glyph\":null,\"muted_glyph\":null,\"nonselection_glyph\":{\"id\":\"550f320d-b581-4893-9650-b76dd4469186\",\"type\":\"Circle\"},\"selection_glyph\":null,\"view\":{\"id\":\"e7919cf7-3c98-4f5a-82eb-c9f65e406a6a\",\"type\":\"CDSView\"}},\"id\":\"2efa206e-3cf3-4f91-b0d2-b0c89bde4d51\",\"type\":\"GlyphRenderer\"}],\"root_ids\":[\"cc384ea1-ec6f-4167-a4f9-6bea8087eadb\"]},\"title\":\"Bokeh Application\",\"version\":\"0.12.16\"}};\n",
       "  var render_items = [{\"docid\":\"53c8a3bf-6d1d-4a7b-a515-7f048278f83b\",\"elementid\":\"d43e6852-46a7-42e4-b64f-f9cca35f8922\",\"modelid\":\"cc384ea1-ec6f-4167-a4f9-6bea8087eadb\"}];\n",
       "  root.Bokeh.embed.embed_items_notebook(docs_json, render_items);\n",
       "\n",
       "  }\n",
       "  if (root.Bokeh !== undefined) {\n",
       "    embed_document(root);\n",
       "  } else {\n",
       "    var attempts = 0;\n",
       "    var timer = setInterval(function(root) {\n",
       "      if (root.Bokeh !== undefined) {\n",
       "        embed_document(root);\n",
       "        clearInterval(timer);\n",
       "      }\n",
       "      attempts++;\n",
       "      if (attempts > 100) {\n",
       "        console.log(\"Bokeh: ERROR: Unable to run BokehJS code because BokehJS library is missing\")\n",
       "        clearInterval(timer);\n",
       "      }\n",
       "    }, 10, root)\n",
       "  }\n",
       "})(window);"
      ],
      "application/vnd.bokehjs_exec.v0+json": ""
     },
     "metadata": {
      "application/vnd.bokehjs_exec.v0+json": {
       "id": "cc384ea1-ec6f-4167-a4f9-6bea8087eadb"
      }
     },
     "output_type": "display_data"
    }
   ],
   "source": [
    "fig = figure(\n",
    "    title=\"Viewing the closeness of Actual vs. Predicting values of the Missing Stock Prices\",\n",
    "    width=950,\n",
    "    height=700,\n",
    ")\n",
    "\n",
    "fig.title.text_font_size = \"20px\"\n",
    "source = ColumnDataSource(\n",
    "    data=dict(x=all_x_y_actual.x, y=all_x_y_actual.y, pointer=range(1, 21))\n",
    ")\n",
    "fig.scatter(x=\"x\", y=\"y\", color=\"navy\", legend=[\"Actual\"], source=source)\n",
    "fig.scatter(x_y_predictd.x, x_y_predictd.y, color=\"firebrick\", legend=[\"Predicted\"])\n",
    "fig.xaxis[0].axis_label = \"Ordered Period (x)\"\n",
    "fig.yaxis[0].axis_label = \"Stock Prices (y)\"\n",
    "labels = LabelSet(\n",
    "    x=\"x\",\n",
    "    y=\"y\",\n",
    "    text=\"pointer\",\n",
    "    level=\"glyph\",\n",
    "    x_offset=5,\n",
    "    y_offset=5,\n",
    "    source=source,\n",
    "    render_mode=\"canvas\",\n",
    ")\n",
    "\n",
    "fig.add_layout(labels)\n",
    "show(fig)"
   ]
  },
  {
   "cell_type": "code",
   "execution_count": 16,
   "metadata": {},
   "outputs": [
    {
     "data": {
      "text/html": [
       "\n",
       "<div class=\"bk-root\">\n",
       "    <div class=\"bk-plotdiv\" id=\"cf9653e6-b9a9-4575-89e6-c985729f304c\"></div>\n",
       "</div>"
      ]
     },
     "metadata": {},
     "output_type": "display_data"
    },
    {
     "data": {
      "application/javascript": [
       "(function(root) {\n",
       "  function embed_document(root) {\n",
       "    \n",
       "  var docs_json = {\"de53387f-07ef-40b4-b84d-af0793262632\":{\"roots\":{\"references\":[{\"attributes\":{},\"id\":\"f7b5af8f-8762-45b0-9274-bf3d064e1691\",\"type\":\"BasicTicker\"},{\"attributes\":{\"callback\":null,\"data\":{\"x\":[0,1,2,3,4,5,6,7,8,9,10,11,12,13,14,15,16,17,18,19,20,21,22,23,24,25,26,27,28,29,30,31,32,33,34,35,36,37,38,39,40,41,42,43,44,45,46,47,49,50,51,52,53,55,56,58,59,60,61,62,63,64,65,66,67,68,69,70,71,72,73,74,75,76,77,78,79,80,81,82,83,84,85,86,87,88,89,90,91,92,93,94,95,96,97,98,100,101,102,103,106,107,108,109,110,111,112,113,114,115,116,117,118,119,120,121,122,123,124,125,126,127,128,129,130,131,132,133,134,135,136,137,140,141,143,144,145,146,147,148,149,150,151,152,153,154,155,156,157,158,159,160,161,162,163,164,165,166,167,168,169,170,171,172,174,175,176,177,179,180,182,183,184,185,186,187,188,189,190,191,192,193,196,197,199,200,201,202,203,204,205,206,207,209,210,211,213,214,215,216,218,219,221,222,223,224,225,226,227,228,229,230,231,232,233,234,235,236,237,239,240,241,242,243,244,245,246,247,248,249,48,54,57,99,104,105,138,139,142,173,178,181,194,195,198,208,212,217,220,238],\"y\":[\"26.96\",\"27.47\",\"27.728\",\"28.19\",\"28.1\",\"28.15\",\"27.98\",\"28.02\",\"28.25\",\"28.65\",\"28.4\",\"28.435\",\"29.74\",\"29.95\",\"29.5703\",\"29.65\",\"29.7\",\"29.53\",\"29.62\",\"29.7\",\"30.05\",\"30.17\",\"30.4\",\"30.22\",\"30.485\",\"30.67\",\"30.8\",\"30.8\",\"30.77\",\"30.46\",\"30.39\",\"31.55\",\"31.32\",\"31.61\",\"31.68\",\"31.59\",\"31.5\",\"31.5\",\"31.93\",\"32\",\"32.39\",\"32.44\",\"32.05\",\"31.98\",\"31.92\",\"32.21\",\"32.16\",\"32.2\",\"32.88\",\"32.94\",\"32.95\",\"32.61\",\"32.15\",\"32.09\",\"32.11\",\"32.7\",\"32.7\",\"32.19\",\"32.41\",\"32.46\",\"32.19\",\"31.69\",\"31.63\",\"31.4\",\"31.19\",\"30.53\",\"31.04\",\"31.16\",\"31.19\",\"31.61\",\"31.31\",\"31.68\",\"32.89\",\"32.5\",\"32.52\",\"32.32\",\"32.23\",\"32.22\",\"32.11\",\"32.335\",\"31.925\",\"31.9\",\"31.57\",\"30.86\",\"30.78\",\"30.83\",\"31.02\",\"31.54\",\"31.04\",\"30.795\",\"30.32\",\"30.2084\",\"29.81\",\"29.79\",\"29.88\",\"29.4\",\"29.36\",\"29.72\",\"29.479\",\"29.42\",\"28.75\",\"29.37\",\"29.7\",\"29.68\",\"29.81\",\"29.3\",\"29.44\",\"29.46\",\"30.08\",\"30.03\",\"31.11\",\"31.05\",\"31.14\",\"30.73\",\"30.32\",\"30.27\",\"30.5\",\"30.05\",\"30.69\",\"30.62\",\"30.76\",\"30.78\",\"30.7\",\"30.23\",\"30.22\",\"29.735\",\"29.18\",\"29.48\",\"29.53\",\"29.86\",\"30.45\",\"30.8\",\"29.36\",\"29.33\",\"29.85\",\"29.82\",\"29.71\",\"29.65\",\"29.525\",\"29.94\",\"30.11\",\"30.35\",\"30.47\",\"30.65\",\"30.62\",\"30.46\",\"30.39\",\"30.28\",\"30.94\",\"30.92\",\"30.85\",\"30.96\",\"30.76\",\"30.4\",\"30.63\",\"30.96\",\"30.8\",\"30.75\",\"30.61\",\"30.96\",\"30.66\",\"30.53\",\"31.36\",\"31.07\",\"30.91\",\"31.18\",\"31.18\",\"31.25\",\"31.21\",\"31.19\",\"31.61\",\"31.07\",\"31\",\"30.6\",\"30.4\",\"30.26\",\"29.98\",\"29.89\",\"29.99\",\"30.03\",\"30.25\",\"29.92\",\"29.25\",\"29.32\",\"29.74\",\"29.64\",\"29.73\",\"29.08\",\"28.83\",\"28.2\",\"28.2\",\"28.2\",\"28.34\",\"29.56\",\"29.77\",\"29.74\",\"29.825\",\"29.37\",\"29.19\",\"29.01\",\"27.29\",\"26.97\",\"26.8\",\"26.8\",\"27.1666\",\"27.77\",\"27.58\",\"27.38\",\"27.39\",\"27.36\",\"27.13\",\"26.82\",\"26.63\",\"26.93\",\"26.98\",\"26.82\",\"26.97\",\"27.49\",\"27.62\",\"27.13\",\"27.215\",\"27.63\",\"27.73\",\"27.68\",\"27.49\",\"27.25\",\"27.2\",\"27.09\",\"26.9\",\"26.77\",32.69,32.15,32.61,29.3,28.96,28.78,31.05,29.58,29.5,30.9,31.26,31.48,29.74,29.31,29.72,28.88,30.2,27.3,26.7,27.52]},\"selected\":{\"id\":\"66e6b06e-2102-4933-9989-5dd2bac1b404\",\"type\":\"Selection\"},\"selection_policy\":{\"id\":\"6defe63c-5573-4c33-a978-9ad88ccdc9d2\",\"type\":\"UnionRenderers\"}},\"id\":\"002d1a6e-35d2-450a-acab-2cf0e367ab9f\",\"type\":\"ColumnDataSource\"},{\"attributes\":{\"callback\":null,\"data\":{\"x\":[0,1,2,3,4,5,6,7,8,9,10,11,12,13,14,15,16,17,18,19,20,21,22,23,24,25,26,27,28,29,30,31,32,33,34,35,36,37,38,39,40,41,42,43,44,45,46,47,48,49,50,51,52,53,54,55,56,57,58,59,60,61,62,63,64,65,66,67,68,69,70,71,72,73,74,75,76,77,78,79,80,81,82,83,84,85,86,87,88,89,90,91,92,93,94,95,96,97,98,99,100,101,102,103,104,105,106,107,108,109,110,111,112,113,114,115,116,117,118,119,120,121,122,123,124,125,126,127,128,129,130,131,132,133,134,135,136,137,138,139,140,141,142,143,144,145,146,147,148,149,150,151,152,153,154,155,156,157,158,159,160,161,162,163,164,165,166,167,168,169,170,171,172,173,174,175,176,177,178,179,180,181,182,183,184,185,186,187,188,189,190,191,192,193,194,195,196,197,198,199,200,201,202,203,204,205,206,207,208,209,210,211,212,213,214,215,216,217,218,219,220,221,222,223,224,225,226,227,228,229,230,231,232,233,234,235,236,237,238,239,240,241,242,243,244,245,246,247,248,249],\"y\":[\"26.96\",\"27.47\",\"27.728\",\"28.19\",\"28.1\",\"28.15\",\"27.98\",\"28.02\",\"28.25\",\"28.65\",\"28.4\",\"28.435\",\"29.74\",\"29.95\",\"29.5703\",\"29.65\",\"29.7\",\"29.53\",\"29.62\",\"29.7\",\"30.05\",\"30.17\",\"30.4\",\"30.22\",\"30.485\",\"30.67\",\"30.8\",\"30.8\",\"30.77\",\"30.46\",\"30.39\",\"31.55\",\"31.32\",\"31.61\",\"31.68\",\"31.59\",\"31.5\",\"31.5\",\"31.93\",\"32\",\"32.39\",\"32.44\",\"32.05\",\"31.98\",\"31.92\",\"32.21\",\"32.16\",\"32.2\",32.668938501715886,\"32.88\",\"32.94\",\"32.95\",\"32.61\",\"32.15\",32.02577809422542,\"32.09\",\"32.11\",32.521154202633326,\"32.7\",\"32.7\",\"32.19\",\"32.41\",\"32.46\",\"32.19\",\"31.69\",\"31.63\",\"31.4\",\"31.19\",\"30.53\",\"31.04\",\"31.16\",\"31.19\",\"31.61\",\"31.31\",\"31.68\",\"32.89\",\"32.5\",\"32.52\",\"32.32\",\"32.23\",\"32.22\",\"32.11\",\"32.335\",\"31.925\",\"31.9\",\"31.57\",\"30.86\",\"30.78\",\"30.83\",\"31.02\",\"31.54\",\"31.04\",\"30.795\",\"30.32\",\"30.2084\",\"29.81\",\"29.79\",\"29.88\",\"29.4\",29.39560420560636,\"29.36\",\"29.72\",\"29.479\",\"29.42\",28.924276835705577,28.61824848254023,\"28.75\",\"29.37\",\"29.7\",\"29.68\",\"29.81\",\"29.3\",\"29.44\",\"29.46\",\"30.08\",\"30.03\",\"31.11\",\"31.05\",\"31.14\",\"30.73\",\"30.32\",\"30.27\",\"30.5\",\"30.05\",\"30.69\",\"30.62\",\"30.76\",\"30.78\",\"30.7\",\"30.23\",\"30.22\",\"29.735\",\"29.18\",\"29.48\",\"29.53\",\"29.86\",\"30.45\",\"30.8\",30.51717831993778,29.884597625982074,\"29.36\",\"29.33\",29.582341991429328,\"29.85\",\"29.82\",\"29.71\",\"29.65\",\"29.525\",\"29.94\",\"30.11\",\"30.35\",\"30.47\",\"30.65\",\"30.62\",\"30.46\",\"30.39\",\"30.28\",\"30.94\",\"30.92\",\"30.85\",\"30.96\",\"30.76\",\"30.4\",\"30.63\",\"30.96\",\"30.8\",\"30.75\",\"30.61\",\"30.96\",\"30.66\",\"30.53\",\"31.36\",\"31.07\",30.9985088924918,\"30.91\",\"31.18\",\"31.18\",\"31.25\",31.175263646627442,\"31.21\",\"31.19\",31.503717473459613,\"31.61\",\"31.07\",\"31\",\"30.6\",\"30.4\",\"30.26\",\"29.98\",\"29.89\",\"29.99\",\"30.03\",\"30.25\",\"29.92\",29.616875167948827,29.35500830983579,\"29.25\",\"29.32\",29.580811849449635,\"29.74\",\"29.64\",\"29.73\",\"29.08\",\"28.83\",\"28.2\",\"28.2\",\"28.2\",\"28.34\",28.92853964566678,\"29.56\",\"29.77\",\"29.74\",29.75763194957453,\"29.825\",\"29.37\",\"29.19\",\"29.01\",28.09099962680575,\"27.29\",\"26.97\",26.713342516228632,\"26.8\",\"26.8\",\"27.1666\",\"27.77\",\"27.58\",\"27.38\",\"27.39\",\"27.36\",\"27.13\",\"26.82\",\"26.63\",\"26.93\",\"26.98\",\"26.82\",\"26.97\",\"27.49\",\"27.62\",27.366089628280776,\"27.13\",\"27.215\",\"27.63\",\"27.73\",\"27.68\",\"27.49\",\"27.25\",\"27.2\",\"27.09\",\"26.9\",\"26.77\"]},\"selected\":{\"id\":\"7f3e3494-4b97-4a61-be85-d8bcf7fbc07b\",\"type\":\"Selection\"},\"selection_policy\":{\"id\":\"ac19d351-665a-4a56-9e9a-92b18050f7ee\",\"type\":\"UnionRenderers\"}},\"id\":\"ec73f742-0ef9-4491-a2a5-e5c59b00b886\",\"type\":\"ColumnDataSource\"},{\"attributes\":{\"below\":[{\"id\":\"34732376-de58-4772-863c-74aa2b08e2c0\",\"type\":\"LinearAxis\"}],\"left\":[{\"id\":\"ae978f75-7a80-43bd-a5e5-8da7fb739cb4\",\"type\":\"LinearAxis\"}],\"plot_height\":300,\"plot_width\":475,\"renderers\":[{\"id\":\"34732376-de58-4772-863c-74aa2b08e2c0\",\"type\":\"LinearAxis\"},{\"id\":\"7e8793aa-f0e2-436c-b97a-2cec91e941cd\",\"type\":\"Grid\"},{\"id\":\"ae978f75-7a80-43bd-a5e5-8da7fb739cb4\",\"type\":\"LinearAxis\"},{\"id\":\"662bdbc6-b225-43d0-94bf-6612aa279448\",\"type\":\"Grid\"},{\"id\":\"f4e30421-eabb-4cca-8cde-9b3c01602804\",\"type\":\"BoxAnnotation\"},{\"id\":\"4750d306-beb6-4155-97d5-3bf267518e25\",\"type\":\"GlyphRenderer\"}],\"title\":{\"id\":\"50ab4c49-de76-4970-baa0-2e6246d4e440\",\"type\":\"Title\"},\"toolbar\":{\"id\":\"566e0a7e-1b76-455d-bf14-e8668176b2a1\",\"type\":\"Toolbar\"},\"x_range\":{\"id\":\"5bd9452f-16c0-45f6-b177-d79111333e18\",\"type\":\"DataRange1d\"},\"x_scale\":{\"id\":\"93efff77-f904-46d3-8c07-ba8ee4834001\",\"type\":\"LinearScale\"},\"y_range\":{\"id\":\"7e3ac236-55f6-4ad4-a44b-05bb48ad64ff\",\"type\":\"DataRange1d\"},\"y_scale\":{\"id\":\"4d0d364b-ba00-4838-8004-7cd49757cb23\",\"type\":\"LinearScale\"}},\"id\":\"d5311b00-fa3e-42bc-83cf-e2d74bfc7cea\",\"subtype\":\"Figure\",\"type\":\"Plot\"},{\"attributes\":{\"bottom_units\":\"screen\",\"fill_alpha\":{\"value\":0.5},\"fill_color\":{\"value\":\"lightgrey\"},\"left_units\":\"screen\",\"level\":\"overlay\",\"line_alpha\":{\"value\":1.0},\"line_color\":{\"value\":\"black\"},\"line_dash\":[4,4],\"line_width\":{\"value\":2},\"plot\":null,\"render_mode\":\"css\",\"right_units\":\"screen\",\"top_units\":\"screen\"},\"id\":\"f4e30421-eabb-4cca-8cde-9b3c01602804\",\"type\":\"BoxAnnotation\"},{\"attributes\":{\"fill_alpha\":{\"value\":0.1},\"fill_color\":{\"value\":\"#1f77b4\"},\"line_alpha\":{\"value\":0.1},\"line_color\":{\"value\":\"#1f77b4\"},\"x\":{\"field\":\"x\"},\"y\":{\"field\":\"y\"}},\"id\":\"366a1bdd-8fed-4f1b-8b2e-30d45ad0f3d2\",\"type\":\"Circle\"},{\"attributes\":{},\"id\":\"08830b7d-6f13-4d19-8975-76e5f93cdd00\",\"type\":\"BasicTickFormatter\"},{\"attributes\":{},\"id\":\"d3f4ac54-bc5a-4c5f-8457-ce495da4b808\",\"type\":\"PanTool\"},{\"attributes\":{\"dimension\":1,\"plot\":{\"id\":\"d5311b00-fa3e-42bc-83cf-e2d74bfc7cea\",\"subtype\":\"Figure\",\"type\":\"Plot\"},\"ticker\":{\"id\":\"d222ec83-f125-4343-b096-544f5803104e\",\"type\":\"BasicTicker\"}},\"id\":\"662bdbc6-b225-43d0-94bf-6612aa279448\",\"type\":\"Grid\"},{\"attributes\":{},\"id\":\"a7c3cc66-eaaa-4f47-a7da-8f515dcd3e52\",\"type\":\"WheelZoomTool\"},{\"attributes\":{},\"id\":\"099e5166-ccd8-468a-aa6f-9f81d7cbd20d\",\"type\":\"SaveTool\"},{\"attributes\":{},\"id\":\"d222ec83-f125-4343-b096-544f5803104e\",\"type\":\"BasicTicker\"},{\"attributes\":{\"axis_label\":\"Stock Prices (y)\",\"formatter\":{\"id\":\"f568c3e5-3eb4-4b7a-b94c-471be537559a\",\"type\":\"BasicTickFormatter\"},\"plot\":{\"id\":\"d5311b00-fa3e-42bc-83cf-e2d74bfc7cea\",\"subtype\":\"Figure\",\"type\":\"Plot\"},\"ticker\":{\"id\":\"d222ec83-f125-4343-b096-544f5803104e\",\"type\":\"BasicTicker\"}},\"id\":\"ae978f75-7a80-43bd-a5e5-8da7fb739cb4\",\"type\":\"LinearAxis\"},{\"attributes\":{\"plot\":{\"id\":\"d5311b00-fa3e-42bc-83cf-e2d74bfc7cea\",\"subtype\":\"Figure\",\"type\":\"Plot\"},\"ticker\":{\"id\":\"fabe2dfd-533b-4a57-9ed2-64896a925801\",\"type\":\"BasicTicker\"}},\"id\":\"7e8793aa-f0e2-436c-b97a-2cec91e941cd\",\"type\":\"Grid\"},{\"attributes\":{\"overlay\":{\"id\":\"f4e30421-eabb-4cca-8cde-9b3c01602804\",\"type\":\"BoxAnnotation\"}},\"id\":\"d0404991-a24f-42c7-ad52-6d16488f5feb\",\"type\":\"BoxZoomTool\"},{\"attributes\":{\"overlay\":{\"id\":\"28ef0a45-9bfd-49b4-9260-dc9a874a6ec9\",\"type\":\"BoxAnnotation\"}},\"id\":\"283e3f6c-8001-4f77-a1c5-b17d2072bf25\",\"type\":\"BoxZoomTool\"},{\"attributes\":{},\"id\":\"4d0d364b-ba00-4838-8004-7cd49757cb23\",\"type\":\"LinearScale\"},{\"attributes\":{},\"id\":\"fabe2dfd-533b-4a57-9ed2-64896a925801\",\"type\":\"BasicTicker\"},{\"attributes\":{\"callback\":null},\"id\":\"5bd9452f-16c0-45f6-b177-d79111333e18\",\"type\":\"DataRange1d\"},{\"attributes\":{\"axis_label\":\"Ordered Period (x)\",\"formatter\":{\"id\":\"08830b7d-6f13-4d19-8975-76e5f93cdd00\",\"type\":\"BasicTickFormatter\"},\"plot\":{\"id\":\"2a318689-8b93-4003-ad35-af53fba30eec\",\"subtype\":\"Figure\",\"type\":\"Plot\"},\"ticker\":{\"id\":\"497da578-5278-4246-b352-cc925cabb545\",\"type\":\"BasicTicker\"}},\"id\":\"73124773-c429-4820-906e-3d748e1b712c\",\"type\":\"LinearAxis\"},{\"attributes\":{},\"id\":\"93efff77-f904-46d3-8c07-ba8ee4834001\",\"type\":\"LinearScale\"},{\"attributes\":{\"axis_label\":\"Ordered Period (x)\",\"formatter\":{\"id\":\"7dd05d02-cc86-4239-bba1-fa575b2ad98b\",\"type\":\"BasicTickFormatter\"},\"plot\":{\"id\":\"d5311b00-fa3e-42bc-83cf-e2d74bfc7cea\",\"subtype\":\"Figure\",\"type\":\"Plot\"},\"ticker\":{\"id\":\"fabe2dfd-533b-4a57-9ed2-64896a925801\",\"type\":\"BasicTicker\"}},\"id\":\"34732376-de58-4772-863c-74aa2b08e2c0\",\"type\":\"LinearAxis\"},{\"attributes\":{\"plot\":{\"id\":\"2a318689-8b93-4003-ad35-af53fba30eec\",\"subtype\":\"Figure\",\"type\":\"Plot\"},\"ticker\":{\"id\":\"497da578-5278-4246-b352-cc925cabb545\",\"type\":\"BasicTicker\"}},\"id\":\"1ae5724b-361e-4b5f-bad0-3e0d18507735\",\"type\":\"Grid\"},{\"attributes\":{},\"id\":\"849de352-17e7-4aa9-a8a3-cf08c4f6aaa8\",\"type\":\"WheelZoomTool\"},{\"attributes\":{},\"id\":\"b7eef978-073b-4f03-87f9-86b860c94a51\",\"type\":\"ResetTool\"},{\"attributes\":{},\"id\":\"7dd05d02-cc86-4239-bba1-fa575b2ad98b\",\"type\":\"BasicTickFormatter\"},{\"attributes\":{},\"id\":\"bb51e08e-281f-4867-a7e5-4cb5f6d4c3e8\",\"type\":\"SaveTool\"},{\"attributes\":{\"axis_label\":\"Stock Prices (y)\",\"formatter\":{\"id\":\"c5a30373-14a0-4c3d-b8ce-848dacbe51bd\",\"type\":\"BasicTickFormatter\"},\"plot\":{\"id\":\"2a318689-8b93-4003-ad35-af53fba30eec\",\"subtype\":\"Figure\",\"type\":\"Plot\"},\"ticker\":{\"id\":\"f7b5af8f-8762-45b0-9274-bf3d064e1691\",\"type\":\"BasicTicker\"}},\"id\":\"cd53f936-bf1b-4963-8d2e-23eec896afb8\",\"type\":\"LinearAxis\"},{\"attributes\":{\"data_source\":{\"id\":\"ec73f742-0ef9-4491-a2a5-e5c59b00b886\",\"type\":\"ColumnDataSource\"},\"glyph\":{\"id\":\"f8c08a09-6c92-4006-9a76-e7a2bbfd516e\",\"type\":\"Circle\"},\"hover_glyph\":null,\"muted_glyph\":null,\"nonselection_glyph\":{\"id\":\"acc0995e-e023-4ba1-96c3-ac2324f8679d\",\"type\":\"Circle\"},\"selection_glyph\":null,\"view\":{\"id\":\"63eb9ad4-3f4d-4f52-9fbe-d0ec548f7f6c\",\"type\":\"CDSView\"}},\"id\":\"4750d306-beb6-4155-97d5-3bf267518e25\",\"type\":\"GlyphRenderer\"},{\"attributes\":{\"fill_color\":{\"value\":\"navy\"},\"line_color\":{\"value\":\"navy\"},\"x\":{\"field\":\"x\"},\"y\":{\"field\":\"y\"}},\"id\":\"c3b19b70-0c69-4016-9364-f50f9a1e87f5\",\"type\":\"Circle\"},{\"attributes\":{\"source\":{\"id\":\"ec73f742-0ef9-4491-a2a5-e5c59b00b886\",\"type\":\"ColumnDataSource\"}},\"id\":\"63eb9ad4-3f4d-4f52-9fbe-d0ec548f7f6c\",\"type\":\"CDSView\"},{\"attributes\":{},\"id\":\"c5a30373-14a0-4c3d-b8ce-848dacbe51bd\",\"type\":\"BasicTickFormatter\"},{\"attributes\":{},\"id\":\"fc6c0e01-5ed3-4197-bf2a-88a488f5196f\",\"type\":\"PanTool\"},{\"attributes\":{\"below\":[{\"id\":\"73124773-c429-4820-906e-3d748e1b712c\",\"type\":\"LinearAxis\"}],\"left\":[{\"id\":\"cd53f936-bf1b-4963-8d2e-23eec896afb8\",\"type\":\"LinearAxis\"}],\"plot_height\":300,\"plot_width\":475,\"renderers\":[{\"id\":\"73124773-c429-4820-906e-3d748e1b712c\",\"type\":\"LinearAxis\"},{\"id\":\"1ae5724b-361e-4b5f-bad0-3e0d18507735\",\"type\":\"Grid\"},{\"id\":\"cd53f936-bf1b-4963-8d2e-23eec896afb8\",\"type\":\"LinearAxis\"},{\"id\":\"e1d3e906-ccd5-4e82-bda4-ff6aafea7a1b\",\"type\":\"Grid\"},{\"id\":\"28ef0a45-9bfd-49b4-9260-dc9a874a6ec9\",\"type\":\"BoxAnnotation\"},{\"id\":\"43910824-f9a1-4664-bec6-d0b4b628773b\",\"type\":\"GlyphRenderer\"}],\"title\":{\"id\":\"334d08dd-df66-44af-86a5-58d9125bfd0f\",\"type\":\"Title\"},\"toolbar\":{\"id\":\"481b44c9-501c-4ead-a694-51ce5b125135\",\"type\":\"Toolbar\"},\"x_range\":{\"id\":\"e4684d84-326d-495e-b1aa-ee19ca22eaf1\",\"type\":\"DataRange1d\"},\"x_scale\":{\"id\":\"7a0ac29f-2867-4e6e-9b0f-c2ed43a97efc\",\"type\":\"LinearScale\"},\"y_range\":{\"id\":\"19d76137-a4e6-411d-aa28-f24dcc567925\",\"type\":\"DataRange1d\"},\"y_scale\":{\"id\":\"da05945f-7986-4d04-b86e-3e39e6355ba9\",\"type\":\"LinearScale\"}},\"id\":\"2a318689-8b93-4003-ad35-af53fba30eec\",\"subtype\":\"Figure\",\"type\":\"Plot\"},{\"attributes\":{\"children\":[{\"id\":\"2a318689-8b93-4003-ad35-af53fba30eec\",\"subtype\":\"Figure\",\"type\":\"Plot\"},{\"id\":\"d5311b00-fa3e-42bc-83cf-e2d74bfc7cea\",\"subtype\":\"Figure\",\"type\":\"Plot\"}]},\"id\":\"f86eccee-636c-4323-9f44-92ad87494b17\",\"type\":\"Row\"},{\"attributes\":{\"dimension\":1,\"plot\":{\"id\":\"2a318689-8b93-4003-ad35-af53fba30eec\",\"subtype\":\"Figure\",\"type\":\"Plot\"},\"ticker\":{\"id\":\"f7b5af8f-8762-45b0-9274-bf3d064e1691\",\"type\":\"BasicTicker\"}},\"id\":\"e1d3e906-ccd5-4e82-bda4-ff6aafea7a1b\",\"type\":\"Grid\"},{\"attributes\":{},\"id\":\"6c29a027-0da5-4915-b7d4-924b1cc7e984\",\"type\":\"ResetTool\"},{\"attributes\":{\"source\":{\"id\":\"002d1a6e-35d2-450a-acab-2cf0e367ab9f\",\"type\":\"ColumnDataSource\"}},\"id\":\"4f117504-5152-423c-ac25-636101b702cf\",\"type\":\"CDSView\"},{\"attributes\":{\"plot\":null,\"text\":\"All data with the actual values of the missing prices\"},\"id\":\"334d08dd-df66-44af-86a5-58d9125bfd0f\",\"type\":\"Title\"},{\"attributes\":{},\"id\":\"f15d8f9f-2607-4b6c-9d8f-a1ce350691fc\",\"type\":\"HelpTool\"},{\"attributes\":{\"callback\":null},\"id\":\"e4684d84-326d-495e-b1aa-ee19ca22eaf1\",\"type\":\"DataRange1d\"},{\"attributes\":{\"callback\":null},\"id\":\"7e3ac236-55f6-4ad4-a44b-05bb48ad64ff\",\"type\":\"DataRange1d\"},{\"attributes\":{\"active_drag\":\"auto\",\"active_inspect\":\"auto\",\"active_scroll\":\"auto\",\"active_tap\":\"auto\",\"tools\":[{\"id\":\"d3f4ac54-bc5a-4c5f-8457-ce495da4b808\",\"type\":\"PanTool\"},{\"id\":\"a7c3cc66-eaaa-4f47-a7da-8f515dcd3e52\",\"type\":\"WheelZoomTool\"},{\"id\":\"283e3f6c-8001-4f77-a1c5-b17d2072bf25\",\"type\":\"BoxZoomTool\"},{\"id\":\"099e5166-ccd8-468a-aa6f-9f81d7cbd20d\",\"type\":\"SaveTool\"},{\"id\":\"b7eef978-073b-4f03-87f9-86b860c94a51\",\"type\":\"ResetTool\"},{\"id\":\"91b5804f-83c0-4aef-a236-17ac7cf3e5b3\",\"type\":\"HelpTool\"}]},\"id\":\"481b44c9-501c-4ead-a694-51ce5b125135\",\"type\":\"Toolbar\"},{\"attributes\":{\"data_source\":{\"id\":\"002d1a6e-35d2-450a-acab-2cf0e367ab9f\",\"type\":\"ColumnDataSource\"},\"glyph\":{\"id\":\"c3b19b70-0c69-4016-9364-f50f9a1e87f5\",\"type\":\"Circle\"},\"hover_glyph\":null,\"muted_glyph\":null,\"nonselection_glyph\":{\"id\":\"366a1bdd-8fed-4f1b-8b2e-30d45ad0f3d2\",\"type\":\"Circle\"},\"selection_glyph\":null,\"view\":{\"id\":\"4f117504-5152-423c-ac25-636101b702cf\",\"type\":\"CDSView\"}},\"id\":\"43910824-f9a1-4664-bec6-d0b4b628773b\",\"type\":\"GlyphRenderer\"},{\"attributes\":{\"active_drag\":\"auto\",\"active_inspect\":\"auto\",\"active_scroll\":\"auto\",\"active_tap\":\"auto\",\"tools\":[{\"id\":\"fc6c0e01-5ed3-4197-bf2a-88a488f5196f\",\"type\":\"PanTool\"},{\"id\":\"849de352-17e7-4aa9-a8a3-cf08c4f6aaa8\",\"type\":\"WheelZoomTool\"},{\"id\":\"d0404991-a24f-42c7-ad52-6d16488f5feb\",\"type\":\"BoxZoomTool\"},{\"id\":\"bb51e08e-281f-4867-a7e5-4cb5f6d4c3e8\",\"type\":\"SaveTool\"},{\"id\":\"6c29a027-0da5-4915-b7d4-924b1cc7e984\",\"type\":\"ResetTool\"},{\"id\":\"f15d8f9f-2607-4b6c-9d8f-a1ce350691fc\",\"type\":\"HelpTool\"}]},\"id\":\"566e0a7e-1b76-455d-bf14-e8668176b2a1\",\"type\":\"Toolbar\"},{\"attributes\":{},\"id\":\"7a0ac29f-2867-4e6e-9b0f-c2ed43a97efc\",\"type\":\"LinearScale\"},{\"attributes\":{\"fill_color\":{\"value\":\"firebrick\"},\"line_color\":{\"value\":\"firebrick\"},\"x\":{\"field\":\"x\"},\"y\":{\"field\":\"y\"}},\"id\":\"f8c08a09-6c92-4006-9a76-e7a2bbfd516e\",\"type\":\"Circle\"},{\"attributes\":{},\"id\":\"7f3e3494-4b97-4a61-be85-d8bcf7fbc07b\",\"type\":\"Selection\"},{\"attributes\":{\"callback\":null},\"id\":\"19d76137-a4e6-411d-aa28-f24dcc567925\",\"type\":\"DataRange1d\"},{\"attributes\":{\"fill_alpha\":{\"value\":0.1},\"fill_color\":{\"value\":\"#1f77b4\"},\"line_alpha\":{\"value\":0.1},\"line_color\":{\"value\":\"#1f77b4\"},\"x\":{\"field\":\"x\"},\"y\":{\"field\":\"y\"}},\"id\":\"acc0995e-e023-4ba1-96c3-ac2324f8679d\",\"type\":\"Circle\"},{\"attributes\":{},\"id\":\"da05945f-7986-4d04-b86e-3e39e6355ba9\",\"type\":\"LinearScale\"},{\"attributes\":{},\"id\":\"91b5804f-83c0-4aef-a236-17ac7cf3e5b3\",\"type\":\"HelpTool\"},{\"attributes\":{},\"id\":\"f568c3e5-3eb4-4b7a-b94c-471be537559a\",\"type\":\"BasicTickFormatter\"},{\"attributes\":{},\"id\":\"497da578-5278-4246-b352-cc925cabb545\",\"type\":\"BasicTicker\"},{\"attributes\":{},\"id\":\"6defe63c-5573-4c33-a978-9ad88ccdc9d2\",\"type\":\"UnionRenderers\"},{\"attributes\":{\"plot\":null,\"text\":\"All data with the estimated values of the missing prices\"},\"id\":\"50ab4c49-de76-4970-baa0-2e6246d4e440\",\"type\":\"Title\"},{\"attributes\":{},\"id\":\"ac19d351-665a-4a56-9e9a-92b18050f7ee\",\"type\":\"UnionRenderers\"},{\"attributes\":{\"bottom_units\":\"screen\",\"fill_alpha\":{\"value\":0.5},\"fill_color\":{\"value\":\"lightgrey\"},\"left_units\":\"screen\",\"level\":\"overlay\",\"line_alpha\":{\"value\":1.0},\"line_color\":{\"value\":\"black\"},\"line_dash\":[4,4],\"line_width\":{\"value\":2},\"plot\":null,\"render_mode\":\"css\",\"right_units\":\"screen\",\"top_units\":\"screen\"},\"id\":\"28ef0a45-9bfd-49b4-9260-dc9a874a6ec9\",\"type\":\"BoxAnnotation\"},{\"attributes\":{},\"id\":\"66e6b06e-2102-4933-9989-5dd2bac1b404\",\"type\":\"Selection\"}],\"root_ids\":[\"f86eccee-636c-4323-9f44-92ad87494b17\"]},\"title\":\"Bokeh Application\",\"version\":\"0.12.16\"}};\n",
       "  var render_items = [{\"docid\":\"de53387f-07ef-40b4-b84d-af0793262632\",\"elementid\":\"cf9653e6-b9a9-4575-89e6-c985729f304c\",\"modelid\":\"f86eccee-636c-4323-9f44-92ad87494b17\"}];\n",
       "  root.Bokeh.embed.embed_items_notebook(docs_json, render_items);\n",
       "\n",
       "  }\n",
       "  if (root.Bokeh !== undefined) {\n",
       "    embed_document(root);\n",
       "  } else {\n",
       "    var attempts = 0;\n",
       "    var timer = setInterval(function(root) {\n",
       "      if (root.Bokeh !== undefined) {\n",
       "        embed_document(root);\n",
       "        clearInterval(timer);\n",
       "      }\n",
       "      attempts++;\n",
       "      if (attempts > 100) {\n",
       "        console.log(\"Bokeh: ERROR: Unable to run BokehJS code because BokehJS library is missing\")\n",
       "        clearInterval(timer);\n",
       "      }\n",
       "    }, 10, root)\n",
       "  }\n",
       "})(window);"
      ],
      "application/vnd.bokehjs_exec.v0+json": ""
     },
     "metadata": {
      "application/vnd.bokehjs_exec.v0+json": {
       "id": "f86eccee-636c-4323-9f44-92ad87494b17"
      }
     },
     "output_type": "display_data"
    }
   ],
   "source": [
    "fig_act = figure(\n",
    "    plot_width=475,\n",
    "    plot_height=300,\n",
    "    title=\"All data with the actual values of the missing prices\",\n",
    ")\n",
    "fig_act.scatter(all_with_actual.x, all_with_actual.y, color=\"navy\")\n",
    "fig_act.xaxis[0].axis_label = \"Ordered Period (x)\"\n",
    "fig_act.yaxis[0].axis_label = \"Stock Prices (y)\"\n",
    "\n",
    "fig_pred = figure(\n",
    "    plot_width=475,\n",
    "    plot_height=300,\n",
    "    title=\"All data with the estimated values of the missing prices\",\n",
    ")\n",
    "fig_pred.scatter(all_with_pred.x, all_with_pred.y, color=\"firebrick\")\n",
    "fig_pred.xaxis[0].axis_label = \"Ordered Period (x)\"\n",
    "fig_pred.yaxis[0].axis_label = \"Stock Prices (y)\"\n",
    "\n",
    "show(row(fig_act, fig_pred))"
   ]
  },
  {
   "cell_type": "code",
   "execution_count": 17,
   "metadata": {},
   "outputs": [
    {
     "data": {
      "text/html": [
       "\n",
       "<div class=\"bk-root\">\n",
       "    <div class=\"bk-plotdiv\" id=\"b636756a-701b-413b-918c-0c6c1ec1796c\"></div>\n",
       "</div>"
      ]
     },
     "metadata": {},
     "output_type": "display_data"
    },
    {
     "data": {
      "application/javascript": [
       "(function(root) {\n",
       "  function embed_document(root) {\n",
       "    \n",
       "  var docs_json = {\"ab9ac57e-7e00-4a68-829a-d22ba960f5ed\":{\"roots\":{\"references\":[{\"attributes\":{\"plot\":null,\"text\":\"Positioning the side-by-side plots above in a single view\"},\"id\":\"22048ff5-3585-4990-9a81-59961fad91bb\",\"type\":\"Title\"},{\"attributes\":{},\"id\":\"e62df310-a8b7-45cd-b2fa-581310e3d10e\",\"type\":\"ResetTool\"},{\"attributes\":{},\"id\":\"d0889655-129e-4fbb-a5f0-290815985d16\",\"type\":\"BasicTickFormatter\"},{\"attributes\":{\"overlay\":{\"id\":\"d49e7790-2757-416b-9f24-5af0273f0ae2\",\"type\":\"BoxAnnotation\"}},\"id\":\"6b6c684f-4f5c-4591-9b6b-12128b84b897\",\"type\":\"BoxZoomTool\"},{\"attributes\":{\"below\":[{\"id\":\"8fc46305-70d1-4618-b511-8bc27663664e\",\"type\":\"LinearAxis\"}],\"left\":[{\"id\":\"3dcd563c-5bdd-4c97-989b-d46dfbce8240\",\"type\":\"LinearAxis\"}],\"plot_width\":900,\"renderers\":[{\"id\":\"8fc46305-70d1-4618-b511-8bc27663664e\",\"type\":\"LinearAxis\"},{\"id\":\"1f661157-67e1-444a-93b7-99f42c7f8512\",\"type\":\"Grid\"},{\"id\":\"3dcd563c-5bdd-4c97-989b-d46dfbce8240\",\"type\":\"LinearAxis\"},{\"id\":\"fa348270-47ae-4ab0-b501-f4866d3c22c7\",\"type\":\"Grid\"},{\"id\":\"d49e7790-2757-416b-9f24-5af0273f0ae2\",\"type\":\"BoxAnnotation\"},{\"id\":\"5d6970d1-40ce-4e31-93ce-4e6f59f88738\",\"type\":\"Legend\"},{\"id\":\"533f9673-65de-4434-a21d-e644cbdc87a5\",\"type\":\"GlyphRenderer\"},{\"id\":\"e1a16b11-88a1-4d27-be04-5e8f85695f1a\",\"type\":\"GlyphRenderer\"}],\"title\":{\"id\":\"22048ff5-3585-4990-9a81-59961fad91bb\",\"type\":\"Title\"},\"toolbar\":{\"id\":\"2de354ef-3437-4b97-afd1-1a3a6262c6b2\",\"type\":\"Toolbar\"},\"x_range\":{\"id\":\"1a1b05e6-3b80-4eef-8d64-24a312b9d47d\",\"type\":\"DataRange1d\"},\"x_scale\":{\"id\":\"205c35ac-4ecb-4177-82e3-a40d8c719173\",\"type\":\"LinearScale\"},\"y_range\":{\"id\":\"31a44483-0440-4c81-8b1a-87166f2e3231\",\"type\":\"DataRange1d\"},\"y_scale\":{\"id\":\"02a7c2a2-50e1-44d2-a253-d7e7128bccfb\",\"type\":\"LinearScale\"}},\"id\":\"04fb9076-d676-4059-af91-82536f1e7360\",\"subtype\":\"Figure\",\"type\":\"Plot\"},{\"attributes\":{\"data_source\":{\"id\":\"06d24625-e3e3-4863-921e-bdc0b7a425f6\",\"type\":\"ColumnDataSource\"},\"glyph\":{\"id\":\"8fb9ce1b-682a-4c13-8d38-3211f66faf14\",\"type\":\"Circle\"},\"hover_glyph\":null,\"muted_glyph\":null,\"nonselection_glyph\":{\"id\":\"f0c55b92-c757-43cc-ad64-c3ba88a7a43f\",\"type\":\"Circle\"},\"selection_glyph\":null,\"view\":{\"id\":\"582c214d-cc8e-48e5-8cfa-37560d46af80\",\"type\":\"CDSView\"}},\"id\":\"e1a16b11-88a1-4d27-be04-5e8f85695f1a\",\"type\":\"GlyphRenderer\"},{\"attributes\":{\"source\":{\"id\":\"08ac2ad4-9559-4b1c-a89a-5d72da086aa6\",\"type\":\"ColumnDataSource\"}},\"id\":\"09ef91d7-72b9-4238-b42a-df92ea0be5c3\",\"type\":\"CDSView\"},{\"attributes\":{},\"id\":\"2906aa45-6264-441c-bdde-773fe7accb77\",\"type\":\"WheelZoomTool\"},{\"attributes\":{\"active_drag\":\"auto\",\"active_inspect\":\"auto\",\"active_scroll\":\"auto\",\"active_tap\":\"auto\",\"tools\":[{\"id\":\"e92ae406-5846-4c78-9c24-173b79f88289\",\"type\":\"PanTool\"},{\"id\":\"2906aa45-6264-441c-bdde-773fe7accb77\",\"type\":\"WheelZoomTool\"},{\"id\":\"6b6c684f-4f5c-4591-9b6b-12128b84b897\",\"type\":\"BoxZoomTool\"},{\"id\":\"d1fa35c4-6cf3-442e-b5d1-eac12d22be8b\",\"type\":\"SaveTool\"},{\"id\":\"e62df310-a8b7-45cd-b2fa-581310e3d10e\",\"type\":\"ResetTool\"},{\"id\":\"01ed3026-8aec-4a97-9ee2-656bbc205e97\",\"type\":\"HelpTool\"}]},\"id\":\"2de354ef-3437-4b97-afd1-1a3a6262c6b2\",\"type\":\"Toolbar\"},{\"attributes\":{},\"id\":\"d1fa35c4-6cf3-442e-b5d1-eac12d22be8b\",\"type\":\"SaveTool\"},{\"attributes\":{},\"id\":\"02a7c2a2-50e1-44d2-a253-d7e7128bccfb\",\"type\":\"LinearScale\"},{\"attributes\":{\"plot\":{\"id\":\"04fb9076-d676-4059-af91-82536f1e7360\",\"subtype\":\"Figure\",\"type\":\"Plot\"},\"ticker\":{\"id\":\"326a71a5-97e3-4093-8a93-d68bfa3f3ede\",\"type\":\"BasicTicker\"}},\"id\":\"1f661157-67e1-444a-93b7-99f42c7f8512\",\"type\":\"Grid\"},{\"attributes\":{},\"id\":\"e92ae406-5846-4c78-9c24-173b79f88289\",\"type\":\"PanTool\"},{\"attributes\":{\"callback\":null},\"id\":\"1a1b05e6-3b80-4eef-8d64-24a312b9d47d\",\"type\":\"DataRange1d\"},{\"attributes\":{},\"id\":\"80baf2c9-a449-42b1-8c71-7b7b4f1ee28c\",\"type\":\"BasicTickFormatter\"},{\"attributes\":{},\"id\":\"01ed3026-8aec-4a97-9ee2-656bbc205e97\",\"type\":\"HelpTool\"},{\"attributes\":{\"axis_label\":\"Ordered Period (x)\",\"formatter\":{\"id\":\"d0889655-129e-4fbb-a5f0-290815985d16\",\"type\":\"BasicTickFormatter\"},\"plot\":{\"id\":\"04fb9076-d676-4059-af91-82536f1e7360\",\"subtype\":\"Figure\",\"type\":\"Plot\"},\"ticker\":{\"id\":\"326a71a5-97e3-4093-8a93-d68bfa3f3ede\",\"type\":\"BasicTicker\"}},\"id\":\"8fc46305-70d1-4618-b511-8bc27663664e\",\"type\":\"LinearAxis\"},{\"attributes\":{},\"id\":\"97601c64-f722-4247-b197-92943b4daa68\",\"type\":\"UnionRenderers\"},{\"attributes\":{},\"id\":\"205c35ac-4ecb-4177-82e3-a40d8c719173\",\"type\":\"LinearScale\"},{\"attributes\":{\"callback\":null},\"id\":\"31a44483-0440-4c81-8b1a-87166f2e3231\",\"type\":\"DataRange1d\"},{\"attributes\":{\"fill_alpha\":{\"value\":0.1},\"fill_color\":{\"value\":\"#1f77b4\"},\"line_alpha\":{\"value\":0.1},\"line_color\":{\"value\":\"#1f77b4\"},\"x\":{\"field\":\"x\"},\"y\":{\"field\":\"y\"}},\"id\":\"f0c55b92-c757-43cc-ad64-c3ba88a7a43f\",\"type\":\"Circle\"},{\"attributes\":{\"fill_alpha\":{\"value\":0.1},\"fill_color\":{\"value\":\"#1f77b4\"},\"line_alpha\":{\"value\":0.1},\"line_color\":{\"value\":\"#1f77b4\"},\"x\":{\"field\":\"x\"},\"y\":{\"field\":\"y\"}},\"id\":\"24fea658-f226-4546-b409-76bd22a009b2\",\"type\":\"Circle\"},{\"attributes\":{\"bottom_units\":\"screen\",\"fill_alpha\":{\"value\":0.5},\"fill_color\":{\"value\":\"lightgrey\"},\"left_units\":\"screen\",\"level\":\"overlay\",\"line_alpha\":{\"value\":1.0},\"line_color\":{\"value\":\"black\"},\"line_dash\":[4,4],\"line_width\":{\"value\":2},\"plot\":null,\"render_mode\":\"css\",\"right_units\":\"screen\",\"top_units\":\"screen\"},\"id\":\"d49e7790-2757-416b-9f24-5af0273f0ae2\",\"type\":\"BoxAnnotation\"},{\"attributes\":{\"fill_color\":{\"value\":\"navy\"},\"line_color\":{\"value\":\"navy\"},\"x\":{\"field\":\"x\"},\"y\":{\"field\":\"y\"}},\"id\":\"8fb9ce1b-682a-4c13-8d38-3211f66faf14\",\"type\":\"Circle\"},{\"attributes\":{},\"id\":\"326a71a5-97e3-4093-8a93-d68bfa3f3ede\",\"type\":\"BasicTicker\"},{\"attributes\":{\"source\":{\"id\":\"06d24625-e3e3-4863-921e-bdc0b7a425f6\",\"type\":\"ColumnDataSource\"}},\"id\":\"582c214d-cc8e-48e5-8cfa-37560d46af80\",\"type\":\"CDSView\"},{\"attributes\":{\"label\":{\"value\":\"Predicted\"},\"renderers\":[{\"id\":\"533f9673-65de-4434-a21d-e644cbdc87a5\",\"type\":\"GlyphRenderer\"}]},\"id\":\"c0f3ac33-e502-4a67-8615-772800634095\",\"type\":\"LegendItem\"},{\"attributes\":{\"fill_color\":{\"value\":\"firebrick\"},\"line_color\":{\"value\":\"firebrick\"},\"x\":{\"field\":\"x\"},\"y\":{\"field\":\"y\"}},\"id\":\"d37563e8-554d-4390-a640-da32d0cc3af8\",\"type\":\"Circle\"},{\"attributes\":{},\"id\":\"1e87af67-7753-46b9-b3ec-27074a5af935\",\"type\":\"Selection\"},{\"attributes\":{\"axis_label\":\"Stock Prices (y)\",\"formatter\":{\"id\":\"80baf2c9-a449-42b1-8c71-7b7b4f1ee28c\",\"type\":\"BasicTickFormatter\"},\"plot\":{\"id\":\"04fb9076-d676-4059-af91-82536f1e7360\",\"subtype\":\"Figure\",\"type\":\"Plot\"},\"ticker\":{\"id\":\"b6b5d13a-fe6d-43f2-ac69-f4e3d75b7e46\",\"type\":\"BasicTicker\"}},\"id\":\"3dcd563c-5bdd-4c97-989b-d46dfbce8240\",\"type\":\"LinearAxis\"},{\"attributes\":{\"data_source\":{\"id\":\"08ac2ad4-9559-4b1c-a89a-5d72da086aa6\",\"type\":\"ColumnDataSource\"},\"glyph\":{\"id\":\"d37563e8-554d-4390-a640-da32d0cc3af8\",\"type\":\"Circle\"},\"hover_glyph\":null,\"muted_glyph\":null,\"nonselection_glyph\":{\"id\":\"24fea658-f226-4546-b409-76bd22a009b2\",\"type\":\"Circle\"},\"selection_glyph\":null,\"view\":{\"id\":\"09ef91d7-72b9-4238-b42a-df92ea0be5c3\",\"type\":\"CDSView\"}},\"id\":\"533f9673-65de-4434-a21d-e644cbdc87a5\",\"type\":\"GlyphRenderer\"},{\"attributes\":{\"label\":{\"value\":\"Actual\"},\"renderers\":[{\"id\":\"e1a16b11-88a1-4d27-be04-5e8f85695f1a\",\"type\":\"GlyphRenderer\"}]},\"id\":\"193885b7-bd7c-492c-adb1-df8436dce838\",\"type\":\"LegendItem\"},{\"attributes\":{},\"id\":\"b6b5d13a-fe6d-43f2-ac69-f4e3d75b7e46\",\"type\":\"BasicTicker\"},{\"attributes\":{},\"id\":\"18f37bbb-280c-4693-8ca7-1c0720bf1bdf\",\"type\":\"Selection\"},{\"attributes\":{\"dimension\":1,\"plot\":{\"id\":\"04fb9076-d676-4059-af91-82536f1e7360\",\"subtype\":\"Figure\",\"type\":\"Plot\"},\"ticker\":{\"id\":\"b6b5d13a-fe6d-43f2-ac69-f4e3d75b7e46\",\"type\":\"BasicTicker\"}},\"id\":\"fa348270-47ae-4ab0-b501-f4866d3c22c7\",\"type\":\"Grid\"},{\"attributes\":{\"callback\":null,\"data\":{\"x\":[0,1,2,3,4,5,6,7,8,9,10,11,12,13,14,15,16,17,18,19,20,21,22,23,24,25,26,27,28,29,30,31,32,33,34,35,36,37,38,39,40,41,42,43,44,45,46,47,49,50,51,52,53,55,56,58,59,60,61,62,63,64,65,66,67,68,69,70,71,72,73,74,75,76,77,78,79,80,81,82,83,84,85,86,87,88,89,90,91,92,93,94,95,96,97,98,100,101,102,103,106,107,108,109,110,111,112,113,114,115,116,117,118,119,120,121,122,123,124,125,126,127,128,129,130,131,132,133,134,135,136,137,140,141,143,144,145,146,147,148,149,150,151,152,153,154,155,156,157,158,159,160,161,162,163,164,165,166,167,168,169,170,171,172,174,175,176,177,179,180,182,183,184,185,186,187,188,189,190,191,192,193,196,197,199,200,201,202,203,204,205,206,207,209,210,211,213,214,215,216,218,219,221,222,223,224,225,226,227,228,229,230,231,232,233,234,235,236,237,239,240,241,242,243,244,245,246,247,248,249,48,54,57,99,104,105,138,139,142,173,178,181,194,195,198,208,212,217,220,238],\"y\":[\"26.96\",\"27.47\",\"27.728\",\"28.19\",\"28.1\",\"28.15\",\"27.98\",\"28.02\",\"28.25\",\"28.65\",\"28.4\",\"28.435\",\"29.74\",\"29.95\",\"29.5703\",\"29.65\",\"29.7\",\"29.53\",\"29.62\",\"29.7\",\"30.05\",\"30.17\",\"30.4\",\"30.22\",\"30.485\",\"30.67\",\"30.8\",\"30.8\",\"30.77\",\"30.46\",\"30.39\",\"31.55\",\"31.32\",\"31.61\",\"31.68\",\"31.59\",\"31.5\",\"31.5\",\"31.93\",\"32\",\"32.39\",\"32.44\",\"32.05\",\"31.98\",\"31.92\",\"32.21\",\"32.16\",\"32.2\",\"32.88\",\"32.94\",\"32.95\",\"32.61\",\"32.15\",\"32.09\",\"32.11\",\"32.7\",\"32.7\",\"32.19\",\"32.41\",\"32.46\",\"32.19\",\"31.69\",\"31.63\",\"31.4\",\"31.19\",\"30.53\",\"31.04\",\"31.16\",\"31.19\",\"31.61\",\"31.31\",\"31.68\",\"32.89\",\"32.5\",\"32.52\",\"32.32\",\"32.23\",\"32.22\",\"32.11\",\"32.335\",\"31.925\",\"31.9\",\"31.57\",\"30.86\",\"30.78\",\"30.83\",\"31.02\",\"31.54\",\"31.04\",\"30.795\",\"30.32\",\"30.2084\",\"29.81\",\"29.79\",\"29.88\",\"29.4\",\"29.36\",\"29.72\",\"29.479\",\"29.42\",\"28.75\",\"29.37\",\"29.7\",\"29.68\",\"29.81\",\"29.3\",\"29.44\",\"29.46\",\"30.08\",\"30.03\",\"31.11\",\"31.05\",\"31.14\",\"30.73\",\"30.32\",\"30.27\",\"30.5\",\"30.05\",\"30.69\",\"30.62\",\"30.76\",\"30.78\",\"30.7\",\"30.23\",\"30.22\",\"29.735\",\"29.18\",\"29.48\",\"29.53\",\"29.86\",\"30.45\",\"30.8\",\"29.36\",\"29.33\",\"29.85\",\"29.82\",\"29.71\",\"29.65\",\"29.525\",\"29.94\",\"30.11\",\"30.35\",\"30.47\",\"30.65\",\"30.62\",\"30.46\",\"30.39\",\"30.28\",\"30.94\",\"30.92\",\"30.85\",\"30.96\",\"30.76\",\"30.4\",\"30.63\",\"30.96\",\"30.8\",\"30.75\",\"30.61\",\"30.96\",\"30.66\",\"30.53\",\"31.36\",\"31.07\",\"30.91\",\"31.18\",\"31.18\",\"31.25\",\"31.21\",\"31.19\",\"31.61\",\"31.07\",\"31\",\"30.6\",\"30.4\",\"30.26\",\"29.98\",\"29.89\",\"29.99\",\"30.03\",\"30.25\",\"29.92\",\"29.25\",\"29.32\",\"29.74\",\"29.64\",\"29.73\",\"29.08\",\"28.83\",\"28.2\",\"28.2\",\"28.2\",\"28.34\",\"29.56\",\"29.77\",\"29.74\",\"29.825\",\"29.37\",\"29.19\",\"29.01\",\"27.29\",\"26.97\",\"26.8\",\"26.8\",\"27.1666\",\"27.77\",\"27.58\",\"27.38\",\"27.39\",\"27.36\",\"27.13\",\"26.82\",\"26.63\",\"26.93\",\"26.98\",\"26.82\",\"26.97\",\"27.49\",\"27.62\",\"27.13\",\"27.215\",\"27.63\",\"27.73\",\"27.68\",\"27.49\",\"27.25\",\"27.2\",\"27.09\",\"26.9\",\"26.77\",32.69,32.15,32.61,29.3,28.96,28.78,31.05,29.58,29.5,30.9,31.26,31.48,29.74,29.31,29.72,28.88,30.2,27.3,26.7,27.52]},\"selected\":{\"id\":\"18f37bbb-280c-4693-8ca7-1c0720bf1bdf\",\"type\":\"Selection\"},\"selection_policy\":{\"id\":\"b7ccfa92-388b-4d65-bd4d-78922ce57132\",\"type\":\"UnionRenderers\"}},\"id\":\"06d24625-e3e3-4863-921e-bdc0b7a425f6\",\"type\":\"ColumnDataSource\"},{\"attributes\":{},\"id\":\"b7ccfa92-388b-4d65-bd4d-78922ce57132\",\"type\":\"UnionRenderers\"},{\"attributes\":{\"items\":[{\"id\":\"c0f3ac33-e502-4a67-8615-772800634095\",\"type\":\"LegendItem\"},{\"id\":\"193885b7-bd7c-492c-adb1-df8436dce838\",\"type\":\"LegendItem\"}],\"plot\":{\"id\":\"04fb9076-d676-4059-af91-82536f1e7360\",\"subtype\":\"Figure\",\"type\":\"Plot\"}},\"id\":\"5d6970d1-40ce-4e31-93ce-4e6f59f88738\",\"type\":\"Legend\"},{\"attributes\":{\"callback\":null,\"data\":{\"x\":[0,1,2,3,4,5,6,7,8,9,10,11,12,13,14,15,16,17,18,19,20,21,22,23,24,25,26,27,28,29,30,31,32,33,34,35,36,37,38,39,40,41,42,43,44,45,46,47,48,49,50,51,52,53,54,55,56,57,58,59,60,61,62,63,64,65,66,67,68,69,70,71,72,73,74,75,76,77,78,79,80,81,82,83,84,85,86,87,88,89,90,91,92,93,94,95,96,97,98,99,100,101,102,103,104,105,106,107,108,109,110,111,112,113,114,115,116,117,118,119,120,121,122,123,124,125,126,127,128,129,130,131,132,133,134,135,136,137,138,139,140,141,142,143,144,145,146,147,148,149,150,151,152,153,154,155,156,157,158,159,160,161,162,163,164,165,166,167,168,169,170,171,172,173,174,175,176,177,178,179,180,181,182,183,184,185,186,187,188,189,190,191,192,193,194,195,196,197,198,199,200,201,202,203,204,205,206,207,208,209,210,211,212,213,214,215,216,217,218,219,220,221,222,223,224,225,226,227,228,229,230,231,232,233,234,235,236,237,238,239,240,241,242,243,244,245,246,247,248,249],\"y\":[\"26.96\",\"27.47\",\"27.728\",\"28.19\",\"28.1\",\"28.15\",\"27.98\",\"28.02\",\"28.25\",\"28.65\",\"28.4\",\"28.435\",\"29.74\",\"29.95\",\"29.5703\",\"29.65\",\"29.7\",\"29.53\",\"29.62\",\"29.7\",\"30.05\",\"30.17\",\"30.4\",\"30.22\",\"30.485\",\"30.67\",\"30.8\",\"30.8\",\"30.77\",\"30.46\",\"30.39\",\"31.55\",\"31.32\",\"31.61\",\"31.68\",\"31.59\",\"31.5\",\"31.5\",\"31.93\",\"32\",\"32.39\",\"32.44\",\"32.05\",\"31.98\",\"31.92\",\"32.21\",\"32.16\",\"32.2\",32.668938501715886,\"32.88\",\"32.94\",\"32.95\",\"32.61\",\"32.15\",32.02577809422542,\"32.09\",\"32.11\",32.521154202633326,\"32.7\",\"32.7\",\"32.19\",\"32.41\",\"32.46\",\"32.19\",\"31.69\",\"31.63\",\"31.4\",\"31.19\",\"30.53\",\"31.04\",\"31.16\",\"31.19\",\"31.61\",\"31.31\",\"31.68\",\"32.89\",\"32.5\",\"32.52\",\"32.32\",\"32.23\",\"32.22\",\"32.11\",\"32.335\",\"31.925\",\"31.9\",\"31.57\",\"30.86\",\"30.78\",\"30.83\",\"31.02\",\"31.54\",\"31.04\",\"30.795\",\"30.32\",\"30.2084\",\"29.81\",\"29.79\",\"29.88\",\"29.4\",29.39560420560636,\"29.36\",\"29.72\",\"29.479\",\"29.42\",28.924276835705577,28.61824848254023,\"28.75\",\"29.37\",\"29.7\",\"29.68\",\"29.81\",\"29.3\",\"29.44\",\"29.46\",\"30.08\",\"30.03\",\"31.11\",\"31.05\",\"31.14\",\"30.73\",\"30.32\",\"30.27\",\"30.5\",\"30.05\",\"30.69\",\"30.62\",\"30.76\",\"30.78\",\"30.7\",\"30.23\",\"30.22\",\"29.735\",\"29.18\",\"29.48\",\"29.53\",\"29.86\",\"30.45\",\"30.8\",30.51717831993778,29.884597625982074,\"29.36\",\"29.33\",29.582341991429328,\"29.85\",\"29.82\",\"29.71\",\"29.65\",\"29.525\",\"29.94\",\"30.11\",\"30.35\",\"30.47\",\"30.65\",\"30.62\",\"30.46\",\"30.39\",\"30.28\",\"30.94\",\"30.92\",\"30.85\",\"30.96\",\"30.76\",\"30.4\",\"30.63\",\"30.96\",\"30.8\",\"30.75\",\"30.61\",\"30.96\",\"30.66\",\"30.53\",\"31.36\",\"31.07\",30.9985088924918,\"30.91\",\"31.18\",\"31.18\",\"31.25\",31.175263646627442,\"31.21\",\"31.19\",31.503717473459613,\"31.61\",\"31.07\",\"31\",\"30.6\",\"30.4\",\"30.26\",\"29.98\",\"29.89\",\"29.99\",\"30.03\",\"30.25\",\"29.92\",29.616875167948827,29.35500830983579,\"29.25\",\"29.32\",29.580811849449635,\"29.74\",\"29.64\",\"29.73\",\"29.08\",\"28.83\",\"28.2\",\"28.2\",\"28.2\",\"28.34\",28.92853964566678,\"29.56\",\"29.77\",\"29.74\",29.75763194957453,\"29.825\",\"29.37\",\"29.19\",\"29.01\",28.09099962680575,\"27.29\",\"26.97\",26.713342516228632,\"26.8\",\"26.8\",\"27.1666\",\"27.77\",\"27.58\",\"27.38\",\"27.39\",\"27.36\",\"27.13\",\"26.82\",\"26.63\",\"26.93\",\"26.98\",\"26.82\",\"26.97\",\"27.49\",\"27.62\",27.366089628280776,\"27.13\",\"27.215\",\"27.63\",\"27.73\",\"27.68\",\"27.49\",\"27.25\",\"27.2\",\"27.09\",\"26.9\",\"26.77\"]},\"selected\":{\"id\":\"1e87af67-7753-46b9-b3ec-27074a5af935\",\"type\":\"Selection\"},\"selection_policy\":{\"id\":\"97601c64-f722-4247-b197-92943b4daa68\",\"type\":\"UnionRenderers\"}},\"id\":\"08ac2ad4-9559-4b1c-a89a-5d72da086aa6\",\"type\":\"ColumnDataSource\"}],\"root_ids\":[\"04fb9076-d676-4059-af91-82536f1e7360\"]},\"title\":\"Bokeh Application\",\"version\":\"0.12.16\"}};\n",
       "  var render_items = [{\"docid\":\"ab9ac57e-7e00-4a68-829a-d22ba960f5ed\",\"elementid\":\"b636756a-701b-413b-918c-0c6c1ec1796c\",\"modelid\":\"04fb9076-d676-4059-af91-82536f1e7360\"}];\n",
       "  root.Bokeh.embed.embed_items_notebook(docs_json, render_items);\n",
       "\n",
       "  }\n",
       "  if (root.Bokeh !== undefined) {\n",
       "    embed_document(root);\n",
       "  } else {\n",
       "    var attempts = 0;\n",
       "    var timer = setInterval(function(root) {\n",
       "      if (root.Bokeh !== undefined) {\n",
       "        embed_document(root);\n",
       "        clearInterval(timer);\n",
       "      }\n",
       "      attempts++;\n",
       "      if (attempts > 100) {\n",
       "        console.log(\"Bokeh: ERROR: Unable to run BokehJS code because BokehJS library is missing\")\n",
       "        clearInterval(timer);\n",
       "      }\n",
       "    }, 10, root)\n",
       "  }\n",
       "})(window);"
      ],
      "application/vnd.bokehjs_exec.v0+json": ""
     },
     "metadata": {
      "application/vnd.bokehjs_exec.v0+json": {
       "id": "04fb9076-d676-4059-af91-82536f1e7360"
      }
     },
     "output_type": "display_data"
    }
   ],
   "source": [
    "fig = figure(\n",
    "    title=\"Positioning the side-by-side plots above in a single view\", width=900\n",
    ")\n",
    "fig.scatter(all_with_pred.x, all_with_pred.y, color=\"firebrick\", legend=[\"Predicted\"])\n",
    "fig.scatter(all_with_actual.x, all_with_actual.y, color=\"navy\", legend=[\"Actual\"])\n",
    "fig.xaxis[0].axis_label = \"Ordered Period (x)\"\n",
    "fig.yaxis[0].axis_label = \"Stock Prices (y)\"\n",
    "show(fig)\n"
   ]
  },
  {
   "cell_type": "code",
   "execution_count": null,
   "metadata": {},
   "outputs": [],
   "source": []
  },
  {
   "cell_type": "code",
   "execution_count": null,
   "metadata": {},
   "outputs": [],
   "source": []
  }
 ],
 "metadata": {
  "kernelspec": {
   "display_name": "Python 3",
   "language": "python",
   "name": "python3"
  },
  "language_info": {
   "codemirror_mode": {
    "name": "ipython",
    "version": 3
   },
   "file_extension": ".py",
   "mimetype": "text/x-python",
   "name": "python",
   "nbconvert_exporter": "python",
   "pygments_lexer": "ipython3",
   "version": "3.6.5"
  }
 },
 "nbformat": 4,
 "nbformat_minor": 2
}
