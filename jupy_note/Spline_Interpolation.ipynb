{
 "cells": [
  {
   "cell_type": "markdown",
   "metadata": {},
   "source": [
    "#### Import the needed libraries"
   ]
  },
  {
   "cell_type": "code",
   "execution_count": 1,
   "metadata": {},
   "outputs": [
    {
     "data": {
      "text/html": [
       "\n",
       "    <div class=\"bk-root\">\n",
       "        <a href=\"https://bokeh.pydata.org\" target=\"_blank\" class=\"bk-logo bk-logo-small bk-logo-notebook\"></a>\n",
       "        <span id=\"885895f9-bae8-46f3-bf3b-62c5e93be0e6\">Loading BokehJS ...</span>\n",
       "    </div>"
      ]
     },
     "metadata": {},
     "output_type": "display_data"
    },
    {
     "data": {
      "application/javascript": [
       "\n",
       "(function(root) {\n",
       "  function now() {\n",
       "    return new Date();\n",
       "  }\n",
       "\n",
       "  var force = true;\n",
       "\n",
       "  if (typeof (root._bokeh_onload_callbacks) === \"undefined\" || force === true) {\n",
       "    root._bokeh_onload_callbacks = [];\n",
       "    root._bokeh_is_loading = undefined;\n",
       "  }\n",
       "\n",
       "  var JS_MIME_TYPE = 'application/javascript';\n",
       "  var HTML_MIME_TYPE = 'text/html';\n",
       "  var EXEC_MIME_TYPE = 'application/vnd.bokehjs_exec.v0+json';\n",
       "  var CLASS_NAME = 'output_bokeh rendered_html';\n",
       "\n",
       "  /**\n",
       "   * Render data to the DOM node\n",
       "   */\n",
       "  function render(props, node) {\n",
       "    var script = document.createElement(\"script\");\n",
       "    node.appendChild(script);\n",
       "  }\n",
       "\n",
       "  /**\n",
       "   * Handle when an output is cleared or removed\n",
       "   */\n",
       "  function handleClearOutput(event, handle) {\n",
       "    var cell = handle.cell;\n",
       "\n",
       "    var id = cell.output_area._bokeh_element_id;\n",
       "    var server_id = cell.output_area._bokeh_server_id;\n",
       "    // Clean up Bokeh references\n",
       "    if (id !== undefined) {\n",
       "      Bokeh.index[id].model.document.clear();\n",
       "      delete Bokeh.index[id];\n",
       "    }\n",
       "\n",
       "    if (server_id !== undefined) {\n",
       "      // Clean up Bokeh references\n",
       "      var cmd = \"from bokeh.io.state import curstate; print(curstate().uuid_to_server['\" + server_id + \"'].get_sessions()[0].document.roots[0]._id)\";\n",
       "      cell.notebook.kernel.execute(cmd, {\n",
       "        iopub: {\n",
       "          output: function(msg) {\n",
       "            var element_id = msg.content.text.trim();\n",
       "            Bokeh.index[element_id].model.document.clear();\n",
       "            delete Bokeh.index[element_id];\n",
       "          }\n",
       "        }\n",
       "      });\n",
       "      // Destroy server and session\n",
       "      var cmd = \"import bokeh.io.notebook as ion; ion.destroy_server('\" + server_id + \"')\";\n",
       "      cell.notebook.kernel.execute(cmd);\n",
       "    }\n",
       "  }\n",
       "\n",
       "  /**\n",
       "   * Handle when a new output is added\n",
       "   */\n",
       "  function handleAddOutput(event, handle) {\n",
       "    var output_area = handle.output_area;\n",
       "    var output = handle.output;\n",
       "\n",
       "    // limit handleAddOutput to display_data with EXEC_MIME_TYPE content only\n",
       "    if ((output.output_type != \"display_data\") || (!output.data.hasOwnProperty(EXEC_MIME_TYPE))) {\n",
       "      return\n",
       "    }\n",
       "\n",
       "    var toinsert = output_area.element.find(\".\" + CLASS_NAME.split(' ')[0]);\n",
       "\n",
       "    if (output.metadata[EXEC_MIME_TYPE][\"id\"] !== undefined) {\n",
       "      toinsert[toinsert.length - 1].firstChild.textContent = output.data[JS_MIME_TYPE];\n",
       "      // store reference to embed id on output_area\n",
       "      output_area._bokeh_element_id = output.metadata[EXEC_MIME_TYPE][\"id\"];\n",
       "    }\n",
       "    if (output.metadata[EXEC_MIME_TYPE][\"server_id\"] !== undefined) {\n",
       "      var bk_div = document.createElement(\"div\");\n",
       "      bk_div.innerHTML = output.data[HTML_MIME_TYPE];\n",
       "      var script_attrs = bk_div.children[0].attributes;\n",
       "      for (var i = 0; i < script_attrs.length; i++) {\n",
       "        toinsert[toinsert.length - 1].firstChild.setAttribute(script_attrs[i].name, script_attrs[i].value);\n",
       "      }\n",
       "      // store reference to server id on output_area\n",
       "      output_area._bokeh_server_id = output.metadata[EXEC_MIME_TYPE][\"server_id\"];\n",
       "    }\n",
       "  }\n",
       "\n",
       "  function register_renderer(events, OutputArea) {\n",
       "\n",
       "    function append_mime(data, metadata, element) {\n",
       "      // create a DOM node to render to\n",
       "      var toinsert = this.create_output_subarea(\n",
       "        metadata,\n",
       "        CLASS_NAME,\n",
       "        EXEC_MIME_TYPE\n",
       "      );\n",
       "      this.keyboard_manager.register_events(toinsert);\n",
       "      // Render to node\n",
       "      var props = {data: data, metadata: metadata[EXEC_MIME_TYPE]};\n",
       "      render(props, toinsert[toinsert.length - 1]);\n",
       "      element.append(toinsert);\n",
       "      return toinsert\n",
       "    }\n",
       "\n",
       "    /* Handle when an output is cleared or removed */\n",
       "    events.on('clear_output.CodeCell', handleClearOutput);\n",
       "    events.on('delete.Cell', handleClearOutput);\n",
       "\n",
       "    /* Handle when a new output is added */\n",
       "    events.on('output_added.OutputArea', handleAddOutput);\n",
       "\n",
       "    /**\n",
       "     * Register the mime type and append_mime function with output_area\n",
       "     */\n",
       "    OutputArea.prototype.register_mime_type(EXEC_MIME_TYPE, append_mime, {\n",
       "      /* Is output safe? */\n",
       "      safe: true,\n",
       "      /* Index of renderer in `output_area.display_order` */\n",
       "      index: 0\n",
       "    });\n",
       "  }\n",
       "\n",
       "  // register the mime type if in Jupyter Notebook environment and previously unregistered\n",
       "  if (root.Jupyter !== undefined) {\n",
       "    var events = require('base/js/events');\n",
       "    var OutputArea = require('notebook/js/outputarea').OutputArea;\n",
       "\n",
       "    if (OutputArea.prototype.mime_types().indexOf(EXEC_MIME_TYPE) == -1) {\n",
       "      register_renderer(events, OutputArea);\n",
       "    }\n",
       "  }\n",
       "\n",
       "  \n",
       "  if (typeof (root._bokeh_timeout) === \"undefined\" || force === true) {\n",
       "    root._bokeh_timeout = Date.now() + 5000;\n",
       "    root._bokeh_failed_load = false;\n",
       "  }\n",
       "\n",
       "  var NB_LOAD_WARNING = {'data': {'text/html':\n",
       "     \"<div style='background-color: #fdd'>\\n\"+\n",
       "     \"<p>\\n\"+\n",
       "     \"BokehJS does not appear to have successfully loaded. If loading BokehJS from CDN, this \\n\"+\n",
       "     \"may be due to a slow or bad network connection. Possible fixes:\\n\"+\n",
       "     \"</p>\\n\"+\n",
       "     \"<ul>\\n\"+\n",
       "     \"<li>re-rerun `output_notebook()` to attempt to load from CDN again, or</li>\\n\"+\n",
       "     \"<li>use INLINE resources instead, as so:</li>\\n\"+\n",
       "     \"</ul>\\n\"+\n",
       "     \"<code>\\n\"+\n",
       "     \"from bokeh.resources import INLINE\\n\"+\n",
       "     \"output_notebook(resources=INLINE)\\n\"+\n",
       "     \"</code>\\n\"+\n",
       "     \"</div>\"}};\n",
       "\n",
       "  function display_loaded() {\n",
       "    var el = document.getElementById(\"885895f9-bae8-46f3-bf3b-62c5e93be0e6\");\n",
       "    if (el != null) {\n",
       "      el.textContent = \"BokehJS is loading...\";\n",
       "    }\n",
       "    if (root.Bokeh !== undefined) {\n",
       "      if (el != null) {\n",
       "        el.textContent = \"BokehJS \" + root.Bokeh.version + \" successfully loaded.\";\n",
       "      }\n",
       "    } else if (Date.now() < root._bokeh_timeout) {\n",
       "      setTimeout(display_loaded, 100)\n",
       "    }\n",
       "  }\n",
       "\n",
       "\n",
       "  function run_callbacks() {\n",
       "    try {\n",
       "      root._bokeh_onload_callbacks.forEach(function(callback) { callback() });\n",
       "    }\n",
       "    finally {\n",
       "      delete root._bokeh_onload_callbacks\n",
       "    }\n",
       "    console.info(\"Bokeh: all callbacks have finished\");\n",
       "  }\n",
       "\n",
       "  function load_libs(js_urls, callback) {\n",
       "    root._bokeh_onload_callbacks.push(callback);\n",
       "    if (root._bokeh_is_loading > 0) {\n",
       "      console.log(\"Bokeh: BokehJS is being loaded, scheduling callback at\", now());\n",
       "      return null;\n",
       "    }\n",
       "    if (js_urls == null || js_urls.length === 0) {\n",
       "      run_callbacks();\n",
       "      return null;\n",
       "    }\n",
       "    console.log(\"Bokeh: BokehJS not loaded, scheduling load and callback at\", now());\n",
       "    root._bokeh_is_loading = js_urls.length;\n",
       "    for (var i = 0; i < js_urls.length; i++) {\n",
       "      var url = js_urls[i];\n",
       "      var s = document.createElement('script');\n",
       "      s.src = url;\n",
       "      s.async = false;\n",
       "      s.onreadystatechange = s.onload = function() {\n",
       "        root._bokeh_is_loading--;\n",
       "        if (root._bokeh_is_loading === 0) {\n",
       "          console.log(\"Bokeh: all BokehJS libraries loaded\");\n",
       "          run_callbacks()\n",
       "        }\n",
       "      };\n",
       "      s.onerror = function() {\n",
       "        console.warn(\"failed to load library \" + url);\n",
       "      };\n",
       "      console.log(\"Bokeh: injecting script tag for BokehJS library: \", url);\n",
       "      document.getElementsByTagName(\"head\")[0].appendChild(s);\n",
       "    }\n",
       "  };var element = document.getElementById(\"885895f9-bae8-46f3-bf3b-62c5e93be0e6\");\n",
       "  if (element == null) {\n",
       "    console.log(\"Bokeh: ERROR: autoload.js configured with elementid '885895f9-bae8-46f3-bf3b-62c5e93be0e6' but no matching script tag was found. \")\n",
       "    return false;\n",
       "  }\n",
       "\n",
       "  var js_urls = [\"https://cdn.pydata.org/bokeh/release/bokeh-0.12.16.min.js\", \"https://cdn.pydata.org/bokeh/release/bokeh-widgets-0.12.16.min.js\", \"https://cdn.pydata.org/bokeh/release/bokeh-tables-0.12.16.min.js\", \"https://cdn.pydata.org/bokeh/release/bokeh-gl-0.12.16.min.js\"];\n",
       "\n",
       "  var inline_js = [\n",
       "    function(Bokeh) {\n",
       "      Bokeh.set_log_level(\"info\");\n",
       "    },\n",
       "    \n",
       "    function(Bokeh) {\n",
       "      \n",
       "    },\n",
       "    function(Bokeh) {\n",
       "      console.log(\"Bokeh: injecting CSS: https://cdn.pydata.org/bokeh/release/bokeh-0.12.16.min.css\");\n",
       "      Bokeh.embed.inject_css(\"https://cdn.pydata.org/bokeh/release/bokeh-0.12.16.min.css\");\n",
       "      console.log(\"Bokeh: injecting CSS: https://cdn.pydata.org/bokeh/release/bokeh-widgets-0.12.16.min.css\");\n",
       "      Bokeh.embed.inject_css(\"https://cdn.pydata.org/bokeh/release/bokeh-widgets-0.12.16.min.css\");\n",
       "      console.log(\"Bokeh: injecting CSS: https://cdn.pydata.org/bokeh/release/bokeh-tables-0.12.16.min.css\");\n",
       "      Bokeh.embed.inject_css(\"https://cdn.pydata.org/bokeh/release/bokeh-tables-0.12.16.min.css\");\n",
       "    }\n",
       "  ];\n",
       "\n",
       "  function run_inline_js() {\n",
       "    \n",
       "    if ((root.Bokeh !== undefined) || (force === true)) {\n",
       "      for (var i = 0; i < inline_js.length; i++) {\n",
       "        inline_js[i].call(root, root.Bokeh);\n",
       "      }if (force === true) {\n",
       "        display_loaded();\n",
       "      }} else if (Date.now() < root._bokeh_timeout) {\n",
       "      setTimeout(run_inline_js, 100);\n",
       "    } else if (!root._bokeh_failed_load) {\n",
       "      console.log(\"Bokeh: BokehJS failed to load within specified timeout.\");\n",
       "      root._bokeh_failed_load = true;\n",
       "    } else if (force !== true) {\n",
       "      var cell = $(document.getElementById(\"885895f9-bae8-46f3-bf3b-62c5e93be0e6\")).parents('.cell').data().cell;\n",
       "      cell.output_area.append_execute_result(NB_LOAD_WARNING)\n",
       "    }\n",
       "\n",
       "  }\n",
       "\n",
       "  if (root._bokeh_is_loading === 0) {\n",
       "    console.log(\"Bokeh: BokehJS loaded, going straight to plotting\");\n",
       "    run_inline_js();\n",
       "  } else {\n",
       "    load_libs(js_urls, function() {\n",
       "      console.log(\"Bokeh: BokehJS plotting callback run at\", now());\n",
       "      run_inline_js();\n",
       "    });\n",
       "  }\n",
       "}(window));"
      ],
      "application/vnd.bokehjs_load.v0+json": "\n(function(root) {\n  function now() {\n    return new Date();\n  }\n\n  var force = true;\n\n  if (typeof (root._bokeh_onload_callbacks) === \"undefined\" || force === true) {\n    root._bokeh_onload_callbacks = [];\n    root._bokeh_is_loading = undefined;\n  }\n\n  \n\n  \n  if (typeof (root._bokeh_timeout) === \"undefined\" || force === true) {\n    root._bokeh_timeout = Date.now() + 5000;\n    root._bokeh_failed_load = false;\n  }\n\n  var NB_LOAD_WARNING = {'data': {'text/html':\n     \"<div style='background-color: #fdd'>\\n\"+\n     \"<p>\\n\"+\n     \"BokehJS does not appear to have successfully loaded. If loading BokehJS from CDN, this \\n\"+\n     \"may be due to a slow or bad network connection. Possible fixes:\\n\"+\n     \"</p>\\n\"+\n     \"<ul>\\n\"+\n     \"<li>re-rerun `output_notebook()` to attempt to load from CDN again, or</li>\\n\"+\n     \"<li>use INLINE resources instead, as so:</li>\\n\"+\n     \"</ul>\\n\"+\n     \"<code>\\n\"+\n     \"from bokeh.resources import INLINE\\n\"+\n     \"output_notebook(resources=INLINE)\\n\"+\n     \"</code>\\n\"+\n     \"</div>\"}};\n\n  function display_loaded() {\n    var el = document.getElementById(\"885895f9-bae8-46f3-bf3b-62c5e93be0e6\");\n    if (el != null) {\n      el.textContent = \"BokehJS is loading...\";\n    }\n    if (root.Bokeh !== undefined) {\n      if (el != null) {\n        el.textContent = \"BokehJS \" + root.Bokeh.version + \" successfully loaded.\";\n      }\n    } else if (Date.now() < root._bokeh_timeout) {\n      setTimeout(display_loaded, 100)\n    }\n  }\n\n\n  function run_callbacks() {\n    try {\n      root._bokeh_onload_callbacks.forEach(function(callback) { callback() });\n    }\n    finally {\n      delete root._bokeh_onload_callbacks\n    }\n    console.info(\"Bokeh: all callbacks have finished\");\n  }\n\n  function load_libs(js_urls, callback) {\n    root._bokeh_onload_callbacks.push(callback);\n    if (root._bokeh_is_loading > 0) {\n      console.log(\"Bokeh: BokehJS is being loaded, scheduling callback at\", now());\n      return null;\n    }\n    if (js_urls == null || js_urls.length === 0) {\n      run_callbacks();\n      return null;\n    }\n    console.log(\"Bokeh: BokehJS not loaded, scheduling load and callback at\", now());\n    root._bokeh_is_loading = js_urls.length;\n    for (var i = 0; i < js_urls.length; i++) {\n      var url = js_urls[i];\n      var s = document.createElement('script');\n      s.src = url;\n      s.async = false;\n      s.onreadystatechange = s.onload = function() {\n        root._bokeh_is_loading--;\n        if (root._bokeh_is_loading === 0) {\n          console.log(\"Bokeh: all BokehJS libraries loaded\");\n          run_callbacks()\n        }\n      };\n      s.onerror = function() {\n        console.warn(\"failed to load library \" + url);\n      };\n      console.log(\"Bokeh: injecting script tag for BokehJS library: \", url);\n      document.getElementsByTagName(\"head\")[0].appendChild(s);\n    }\n  };var element = document.getElementById(\"885895f9-bae8-46f3-bf3b-62c5e93be0e6\");\n  if (element == null) {\n    console.log(\"Bokeh: ERROR: autoload.js configured with elementid '885895f9-bae8-46f3-bf3b-62c5e93be0e6' but no matching script tag was found. \")\n    return false;\n  }\n\n  var js_urls = [\"https://cdn.pydata.org/bokeh/release/bokeh-0.12.16.min.js\", \"https://cdn.pydata.org/bokeh/release/bokeh-widgets-0.12.16.min.js\", \"https://cdn.pydata.org/bokeh/release/bokeh-tables-0.12.16.min.js\", \"https://cdn.pydata.org/bokeh/release/bokeh-gl-0.12.16.min.js\"];\n\n  var inline_js = [\n    function(Bokeh) {\n      Bokeh.set_log_level(\"info\");\n    },\n    \n    function(Bokeh) {\n      \n    },\n    function(Bokeh) {\n      console.log(\"Bokeh: injecting CSS: https://cdn.pydata.org/bokeh/release/bokeh-0.12.16.min.css\");\n      Bokeh.embed.inject_css(\"https://cdn.pydata.org/bokeh/release/bokeh-0.12.16.min.css\");\n      console.log(\"Bokeh: injecting CSS: https://cdn.pydata.org/bokeh/release/bokeh-widgets-0.12.16.min.css\");\n      Bokeh.embed.inject_css(\"https://cdn.pydata.org/bokeh/release/bokeh-widgets-0.12.16.min.css\");\n      console.log(\"Bokeh: injecting CSS: https://cdn.pydata.org/bokeh/release/bokeh-tables-0.12.16.min.css\");\n      Bokeh.embed.inject_css(\"https://cdn.pydata.org/bokeh/release/bokeh-tables-0.12.16.min.css\");\n    }\n  ];\n\n  function run_inline_js() {\n    \n    if ((root.Bokeh !== undefined) || (force === true)) {\n      for (var i = 0; i < inline_js.length; i++) {\n        inline_js[i].call(root, root.Bokeh);\n      }if (force === true) {\n        display_loaded();\n      }} else if (Date.now() < root._bokeh_timeout) {\n      setTimeout(run_inline_js, 100);\n    } else if (!root._bokeh_failed_load) {\n      console.log(\"Bokeh: BokehJS failed to load within specified timeout.\");\n      root._bokeh_failed_load = true;\n    } else if (force !== true) {\n      var cell = $(document.getElementById(\"885895f9-bae8-46f3-bf3b-62c5e93be0e6\")).parents('.cell').data().cell;\n      cell.output_area.append_execute_result(NB_LOAD_WARNING)\n    }\n\n  }\n\n  if (root._bokeh_is_loading === 0) {\n    console.log(\"Bokeh: BokehJS loaded, going straight to plotting\");\n    run_inline_js();\n  } else {\n    load_libs(js_urls, function() {\n      console.log(\"Bokeh: BokehJS plotting callback run at\", now());\n      run_inline_js();\n    });\n  }\n}(window));"
     },
     "metadata": {},
     "output_type": "display_data"
    }
   ],
   "source": [
    "from sklearn.model_selection import train_test_split\n",
    "import pandas as pd\n",
    "from scipy.interpolate import UnivariateSpline as spline\n",
    "from sklearn.model_selection import ParameterGrid\n",
    "from sklearn import metrics\n",
    "from termcolor import colored\n",
    "import matplotlib.pyplot as plt\n",
    "import numpy as np\n",
    "from bokeh.plotting import figure, output_notebook, show\n",
    "from bokeh.models import LabelSet, ColumnDataSource\n",
    "from bokeh.layouts import row\n",
    "output_notebook()"
   ]
  },
  {
   "cell_type": "markdown",
   "metadata": {},
   "source": [
    "#### Load data and Preprocessing"
   ]
  },
  {
   "cell_type": "code",
   "execution_count": 2,
   "metadata": {},
   "outputs": [],
   "source": [
    "def data_preprocessing(input_name: str, output_name: str):\n",
    "    print(colored(\"LOADED FILE \" + input_name[5:7] + \" !!!\", 'blue'))\n",
    "    _data = pd.read_csv(input_name, sep=\"\\t\")\n",
    "    _data.index = range(_data.shape[0])\n",
    "    _data.columns = [\"y\"]\n",
    "    _data[\"x\"] = range(_data.shape[0])\n",
    "\n",
    "    # position of the missing prices\n",
    "    _pos_missing = _data.y.str.startswith(\"Missing\")\n",
    "\n",
    "    DATA_MISSING = _data[_pos_missing]\n",
    "\n",
    "    # training data set\n",
    "    DATA_TRAINING = _data[_pos_missing == False]\n",
    "\n",
    "    ACTUAL_PRICES = pd.read_csv(output_name, header=None)\n",
    "    return DATA_TRAINING, DATA_MISSING, ACTUAL_PRICES"
   ]
  },
  {
   "cell_type": "markdown",
   "metadata": {},
   "source": [
    "#### Build a grid search fuction"
   ]
  },
  {
   "cell_type": "code",
   "execution_count": 3,
   "metadata": {},
   "outputs": [],
   "source": [
    "def grid_search(data_training, model, param_grid):\n",
    "    \"\"\"\n",
    "    :param data_training:\n",
    "    :param model: the function that defines the model.\n",
    "    :param param_grid: Sklearn ParameterGrid\n",
    "    :return: sorted Pandas DataFrame of the gridsearch and the corresponding MSE.\n",
    "    \"\"\"\n",
    "\n",
    "    x_train, x_val, y_train, y_val = train_test_split(\n",
    "        data_training.x, data_training.y, test_size=0.1, random_state=42\n",
    "    )\n",
    "\n",
    "    # sort the data because the x value of spline must be increasing.\n",
    "    train_data = pd.DataFrame({\"x\": x_train, \"y\": y_train}).sort_values(\"x\")\n",
    "    val_data = pd.DataFrame({\"x\": x_val, \"y\": y_val}).sort_values(\"x\")\n",
    "\n",
    "    param_grid_result = pd.DataFrame.from_dict(list(param_grid))\n",
    "    val_MSE = []\n",
    "    tr_MES = []\n",
    "\n",
    "    for ind, grid in enumerate(param_grid):\n",
    "        trained_model = model(train_data, **grid)\n",
    "        y_predicted = trained_model(val_data.x)\n",
    "        val_error = metrics.mean_squared_error(y_predicted, val_data.y)\n",
    "        val_MSE.append(round(val_error, 6))\n",
    "        \n",
    "        training_pred = trained_model(train_data.x)\n",
    "        tr_error = metrics.mean_squared_error(training_pred, train_data.y)\n",
    "        tr_MES.append(round(tr_error, 6))\n",
    "        \n",
    "    \n",
    "    param_grid_result[\"Train_MSE\"] = tr_MES\n",
    "    param_grid_result[\"Validation_MSE\"] = val_MSE\n",
    "    return param_grid_result"
   ]
  },
  {
   "cell_type": "markdown",
   "metadata": {},
   "source": [
    "#### Build The Model"
   ]
  },
  {
   "cell_type": "code",
   "execution_count": 4,
   "metadata": {},
   "outputs": [],
   "source": [
    "def spline_interpolation(train, **kwargs):\n",
    "    \"\"\"\n",
    "    :param train: Pandas DataFrame - Stock prices with some missing values. dim = (n, 2)\n",
    "    :param kwargs: dict with keys degree_spline and smoothing_factor\n",
    "                1. degree_spline: int - Degree of the smoothing spline. Must be <= 5. \n",
    "                Default is k=3, a cubic spline.\n",
    "                2. smoothing_factor: float - Smoothing factor used to choose the \n",
    "                no. of knots. No. of knots will be increased until the smoothing \n",
    "                condition is satisfied.\n",
    "    :return: A function that holds the trained model.\n",
    "    \"\"\"\n",
    "\n",
    "    spline_model = spline(\n",
    "        train.x, train.y, k=kwargs[\"degree_spline\"], s=kwargs[\"smoothing_factor\"]\n",
    "    )\n",
    "\n",
    "    return spline_model"
   ]
  },
  {
   "cell_type": "markdown",
   "metadata": {},
   "source": [
    "#### For visualizing the result of grid search"
   ]
  },
  {
   "cell_type": "code",
   "execution_count": 5,
   "metadata": {},
   "outputs": [],
   "source": [
    "def heatmap(metric, x_axis, y_axis, title):\n",
    "    \"\"\"\n",
    "    :param metric: the computed value - e.g MSE, RMSE\n",
    "    :param x_axis: values on the x-axis\n",
    "    :param y_axis: values on the y-axis\n",
    "    :param title: Plot title\n",
    "    :return: None - Renders the plot.\n",
    "    \"\"\"\n",
    "    plt.figure(figsize=(4, 4))\n",
    "    plt.subplots_adjust(left=.2, right=0.95, bottom=0.15, top=0.95)\n",
    "    plt.imshow(\n",
    "        np.reshape(list(metric), (4, 4)),\n",
    "        interpolation=\"nearest\",\n",
    "        cmap=plt.cm.hot\n",
    "    )\n",
    "    plt.xlabel(\"Degree of Spline\")\n",
    "    plt.ylabel(\"Smoothing Factor\")\n",
    "    plt.colorbar()\n",
    "    plt.xticks(np.arange(4), x_axis, rotation=45)\n",
    "    plt.yticks(np.arange(4), y_axis)\n",
    "    plt.title(title)\n",
    "    plt.show()"
   ]
  },
  {
   "cell_type": "markdown",
   "metadata": {},
   "source": [
    "# <u> Working With Dataset"
   ]
  },
  {
   "cell_type": "markdown",
   "metadata": {},
   "source": [
    "#### Specify the data to be loaded\n",
    "- Change the input data to work through other a specific file."
   ]
  },
  {
   "cell_type": "code",
   "execution_count": 6,
   "metadata": {},
   "outputs": [],
   "source": [
    "input_file = \"input00.txt\"\n",
    "output_file = \"output00.txt\""
   ]
  },
  {
   "cell_type": "code",
   "execution_count": 7,
   "metadata": {},
   "outputs": [
    {
     "name": "stdout",
     "output_type": "stream",
     "text": [
      "\u001b[34mLOADED FILE 00 !!!\u001b[0m\n"
     ]
    }
   ],
   "source": [
    "DATA_TRAINING, DATA_MISSING, ACTUAL_PRICES = data_preprocessing(input_file, output_file)"
   ]
  },
  {
   "cell_type": "markdown",
   "metadata": {},
   "source": [
    "#### Find optimal Parameters via grid search"
   ]
  },
  {
   "cell_type": "code",
   "execution_count": 8,
   "metadata": {},
   "outputs": [
    {
     "data": {
      "text/html": [
       "<div>\n",
       "<style scoped>\n",
       "    .dataframe tbody tr th:only-of-type {\n",
       "        vertical-align: middle;\n",
       "    }\n",
       "\n",
       "    .dataframe tbody tr th {\n",
       "        vertical-align: top;\n",
       "    }\n",
       "\n",
       "    .dataframe thead th {\n",
       "        text-align: right;\n",
       "    }\n",
       "</style>\n",
       "<table border=\"1\" class=\"dataframe\">\n",
       "  <thead>\n",
       "    <tr style=\"text-align: right;\">\n",
       "      <th></th>\n",
       "      <th>degree_spline</th>\n",
       "      <th>smoothing_factor</th>\n",
       "      <th>Train_MSE</th>\n",
       "      <th>Validation_MSE</th>\n",
       "    </tr>\n",
       "  </thead>\n",
       "  <tbody>\n",
       "    <tr>\n",
       "      <th>0</th>\n",
       "      <td>2</td>\n",
       "      <td>2</td>\n",
       "      <td>0.009659</td>\n",
       "      <td>0.132434</td>\n",
       "    </tr>\n",
       "    <tr>\n",
       "      <th>12</th>\n",
       "      <td>5</td>\n",
       "      <td>2</td>\n",
       "      <td>0.009660</td>\n",
       "      <td>0.134916</td>\n",
       "    </tr>\n",
       "    <tr>\n",
       "      <th>8</th>\n",
       "      <td>4</td>\n",
       "      <td>2</td>\n",
       "      <td>0.009661</td>\n",
       "      <td>0.121957</td>\n",
       "    </tr>\n",
       "    <tr>\n",
       "      <th>4</th>\n",
       "      <td>3</td>\n",
       "      <td>2</td>\n",
       "      <td>0.009663</td>\n",
       "      <td>0.118139</td>\n",
       "    </tr>\n",
       "    <tr>\n",
       "      <th>5</th>\n",
       "      <td>3</td>\n",
       "      <td>3</td>\n",
       "      <td>0.014486</td>\n",
       "      <td>0.100552</td>\n",
       "    </tr>\n",
       "  </tbody>\n",
       "</table>\n",
       "</div>"
      ],
      "text/plain": [
       "    degree_spline  smoothing_factor  Train_MSE  Validation_MSE\n",
       "0               2                 2   0.009659        0.132434\n",
       "12              5                 2   0.009660        0.134916\n",
       "8               4                 2   0.009661        0.121957\n",
       "4               3                 2   0.009663        0.118139\n",
       "5               3                 3   0.014486        0.100552"
      ]
     },
     "execution_count": 8,
     "metadata": {},
     "output_type": "execute_result"
    }
   ],
   "source": [
    "degree_spline = [2, 3, 4, 5]\n",
    "smoothing_factor = [2, 3, 4, 5]\n",
    "\n",
    "param_grid = ParameterGrid(\n",
    "    dict(degree_spline=degree_spline, smoothing_factor=smoothing_factor)\n",
    ")\n",
    "\n",
    "grid_search_result = grid_search(\n",
    "    DATA_TRAINING, model=spline_interpolation, param_grid=param_grid\n",
    ")\n",
    "\n",
    "grid_search_result.sort_values(['Train_MSE', 'Validation_MSE']).head()"
   ]
  },
  {
   "cell_type": "code",
   "execution_count": 9,
   "metadata": {},
   "outputs": [
    {
     "data": {
      "image/png": "[encoded data removed]",
      "text/plain": [
       "<Figure size 288x288 with 2 Axes>"
      ]
     },
     "metadata": {},
     "output_type": "display_data"
    },
    {
     "data": {
      "image/png": "[encoded data removed]",
      "text/plain": [
       "<Figure size 288x288 with 2 Axes>"
      ]
     },
     "metadata": {},
     "output_type": "display_data"
    }
   ],
   "source": [
    "heatmap(\n",
    "    grid_search_result.Train_MSE,\n",
    "    degree_spline,\n",
    "    smoothing_factor,\n",
    "    \"Heatmap of Training MSE\",\n",
    ")\n",
    "heatmap(\n",
    "    grid_search_result.Validation_MSE,\n",
    "    degree_spline,\n",
    "    smoothing_factor,\n",
    "    \"Heatmap of Validation MSE\",\n",
    ")"
   ]
  },
  {
   "cell_type": "markdown",
   "metadata": {},
   "source": [
    "#### Predict the missing stock prices\n",
    "- while choosing the set of parameters needed for bias-variance tradeoff.\n",
    "- degree_spline=3 and smoothing_factor=3 will be used because it performs better across the 3 input files."
   ]
  },
  {
   "cell_type": "code",
   "execution_count": 10,
   "metadata": {},
   "outputs": [],
   "source": [
    "pred_missing_prices = spline_interpolation(\n",
    "    DATA_TRAINING,\n",
    "    degree_spline=3,\n",
    "    smoothing_factor=3\n",
    ")(DATA_MISSING.x)"
   ]
  },
  {
   "cell_type": "code",
   "execution_count": 11,
   "metadata": {},
   "outputs": [
    {
     "data": {
      "text/html": [
       "<div>\n",
       "<style scoped>\n",
       "    .dataframe tbody tr th:only-of-type {\n",
       "        vertical-align: middle;\n",
       "    }\n",
       "\n",
       "    .dataframe tbody tr th {\n",
       "        vertical-align: top;\n",
       "    }\n",
       "\n",
       "    .dataframe thead th {\n",
       "        text-align: right;\n",
       "    }\n",
       "</style>\n",
       "<table border=\"1\" class=\"dataframe\">\n",
       "  <thead>\n",
       "    <tr style=\"text-align: right;\">\n",
       "      <th></th>\n",
       "      <th>predicted missing prices</th>\n",
       "      <th>Actual</th>\n",
       "    </tr>\n",
       "  </thead>\n",
       "  <tbody>\n",
       "    <tr>\n",
       "      <th>48</th>\n",
       "      <td>32.668939</td>\n",
       "      <td>32.69</td>\n",
       "    </tr>\n",
       "    <tr>\n",
       "      <th>54</th>\n",
       "      <td>32.025778</td>\n",
       "      <td>32.15</td>\n",
       "    </tr>\n",
       "    <tr>\n",
       "      <th>57</th>\n",
       "      <td>32.521154</td>\n",
       "      <td>32.61</td>\n",
       "    </tr>\n",
       "    <tr>\n",
       "      <th>99</th>\n",
       "      <td>29.395604</td>\n",
       "      <td>29.30</td>\n",
       "    </tr>\n",
       "    <tr>\n",
       "      <th>104</th>\n",
       "      <td>28.924277</td>\n",
       "      <td>28.96</td>\n",
       "    </tr>\n",
       "  </tbody>\n",
       "</table>\n",
       "</div>"
      ],
      "text/plain": [
       "     predicted missing prices  Actual\n",
       "48                  32.668939   32.69\n",
       "54                  32.025778   32.15\n",
       "57                  32.521154   32.61\n",
       "99                  29.395604   29.30\n",
       "104                 28.924277   28.96"
      ]
     },
     "execution_count": 11,
     "metadata": {},
     "output_type": "execute_result"
    }
   ],
   "source": [
    "pd.DataFrame(\n",
    "    {\n",
    "        \"predicted missing prices\": pred_missing_prices,\n",
    "        \"Actual\": ACTUAL_PRICES.iloc[:, 0].tolist(),\n",
    "    },\n",
    "    index=DATA_MISSING.x.tolist()\n",
    ").head()"
   ]
  },
  {
   "cell_type": "markdown",
   "metadata": {},
   "source": [
    "The Mean Square Error:"
   ]
  },
  {
   "cell_type": "code",
   "execution_count": 12,
   "metadata": {},
   "outputs": [
    {
     "data": {
      "text/plain": [
       "0.06727"
      ]
     },
     "execution_count": 12,
     "metadata": {},
     "output_type": "execute_result"
    }
   ],
   "source": [
    "round(metrics.mean_squared_error(pred_missing_prices, ACTUAL_PRICES), 6)"
   ]
  },
  {
   "cell_type": "markdown",
   "metadata": {},
   "source": [
    "# Visualization\n",
    "- Using an interactive plot"
   ]
  },
  {
   "cell_type": "markdown",
   "metadata": {},
   "source": [
    "#### Combine actual data with the predicted prices"
   ]
  },
  {
   "cell_type": "code",
   "execution_count": 13,
   "metadata": {},
   "outputs": [],
   "source": [
    "x_y_predict = DATA_MISSING.copy()\n",
    "# (x, y) Pandas DataFrame of the predicted missing stock prices\n",
    "x_y_predict.y = pred_missing_prices \n",
    "# (x, y) Pandas DataFrame of all data with the actual missing stock prices\n",
    "all_with_pred = pd.concat([DATA_TRAINING, x_y_predict])\n",
    "all_with_pred = all_with_pred.sort_values('x')"
   ]
  },
  {
   "cell_type": "markdown",
   "metadata": {},
   "source": [
    "#### Combine actual data"
   ]
  },
  {
   "cell_type": "code",
   "execution_count": 14,
   "metadata": {},
   "outputs": [],
   "source": [
    "x_y_actual = DATA_MISSING.copy()\n",
    "# (x, y) Pandas DataFrame of the actual missing stock prices\n",
    "x_y_actual.y = ACTUAL_PRICES.iloc[:, 0].tolist()\n",
    "#(x, y) Pandas DataFrame of all data with the predicted missing stock prices\n",
    "all_with_actual = pd.concat([DATA_TRAINING, x_y_actual])"
   ]
  },
  {
   "cell_type": "markdown",
   "metadata": {},
   "source": [
    "###### PLOT 1"
   ]
  },
  {
   "cell_type": "code",
   "execution_count": 15,
   "metadata": {},
   "outputs": [
    {
     "data": {
      "text/html": [
       "\n",
       "<div class=\"bk-root\">\n",
       "    <div class=\"bk-plotdiv\" id=\"c7541961-4417-4bac-ba94-64ed6603d4f0\"></div>\n",
       "</div>"
      ]
     },
     "metadata": {},
     "output_type": "display_data"
    },
    {
     "data": {
      "application/javascript": [
       "(function(root) {\n",
       "  function embed_document(root) {\n",
       "    \n",
       "  var docs_json = {\"de0b8838-b73f-47c3-ae14-fa866e949828\":{\"roots\":{\"references\":[{\"attributes\":{},\"id\":\"b965781c-9765-4e3d-9327-b31efb8aaeb1\",\"type\":\"UnionRenderers\"},{\"attributes\":{},\"id\":\"6134c85c-3619-4e90-b303-00b43716f559\",\"type\":\"UnionRenderers\"},{\"attributes\":{},\"id\":\"42bfb26e-2088-499f-826b-c40a4c6b718e\",\"type\":\"BasicTickFormatter\"},{\"attributes\":{\"axis_label\":\"Ordered Period (x)\",\"formatter\":{\"id\":\"42bfb26e-2088-499f-826b-c40a4c6b718e\",\"type\":\"BasicTickFormatter\"},\"plot\":{\"id\":\"4d91ff80-941b-4eaf-bef3-e14d5756047e\",\"subtype\":\"Figure\",\"type\":\"Plot\"},\"ticker\":{\"id\":\"3c42796a-f6fe-45fe-8472-65d707feb90d\",\"type\":\"BasicTicker\"}},\"id\":\"bb894ef9-3da4-48e0-8ae5-e5dc003cfb2a\",\"type\":\"LinearAxis\"},{\"attributes\":{\"label\":{\"value\":\"Predicted\"},\"renderers\":[{\"id\":\"c4e7a678-378d-4ae5-a977-a7513b309bd4\",\"type\":\"GlyphRenderer\"}]},\"id\":\"46e2eb20-bb4a-4c37-81c9-bee76d763de1\",\"type\":\"LegendItem\"},{\"attributes\":{},\"id\":\"3c42796a-f6fe-45fe-8472-65d707feb90d\",\"type\":\"BasicTicker\"},{\"attributes\":{\"plot\":{\"id\":\"4d91ff80-941b-4eaf-bef3-e14d5756047e\",\"subtype\":\"Figure\",\"type\":\"Plot\"},\"ticker\":{\"id\":\"3c42796a-f6fe-45fe-8472-65d707feb90d\",\"type\":\"BasicTicker\"}},\"id\":\"75d238ab-ce6a-4a6d-9f96-5d0d892000b8\",\"type\":\"Grid\"},{\"attributes\":{\"data_source\":{\"id\":\"55e48087-0c30-4f17-a8a2-5f79760457d0\",\"type\":\"ColumnDataSource\"},\"glyph\":{\"id\":\"20f0b969-13d7-401a-be60-09ef84a4716f\",\"type\":\"Circle\"},\"hover_glyph\":null,\"muted_glyph\":null,\"nonselection_glyph\":{\"id\":\"f772bdbe-76ac-4be5-8538-c6a9c660a20b\",\"type\":\"Circle\"},\"selection_glyph\":null,\"view\":{\"id\":\"47b8eaf4-8b5a-4416-8346-446d8dd2adf4\",\"type\":\"CDSView\"}},\"id\":\"fd5c00ba-d293-465c-a98c-6f23cadfc3fc\",\"type\":\"GlyphRenderer\"},{\"attributes\":{},\"id\":\"0388f5b2-ac89-47e5-b4ff-32ac2f06bfe8\",\"type\":\"Selection\"},{\"attributes\":{\"source\":{\"id\":\"55e48087-0c30-4f17-a8a2-5f79760457d0\",\"type\":\"ColumnDataSource\"}},\"id\":\"47b8eaf4-8b5a-4416-8346-446d8dd2adf4\",\"type\":\"CDSView\"},{\"attributes\":{\"level\":\"glyph\",\"plot\":{\"id\":\"4d91ff80-941b-4eaf-bef3-e14d5756047e\",\"subtype\":\"Figure\",\"type\":\"Plot\"},\"source\":{\"id\":\"55e48087-0c30-4f17-a8a2-5f79760457d0\",\"type\":\"ColumnDataSource\"},\"text\":{\"field\":\"pointer\"},\"x\":{\"field\":\"x\"},\"x_offset\":{\"value\":5},\"y\":{\"field\":\"y\"},\"y_offset\":{\"value\":5}},\"id\":\"e2e0d280-8860-4e15-91b1-9d1b425a18c4\",\"type\":\"LabelSet\"},{\"attributes\":{\"axis_label\":\"Stock Prices (y)\",\"formatter\":{\"id\":\"26cafdc9-9af5-4f36-a2be-bac62a38d2a8\",\"type\":\"BasicTickFormatter\"},\"plot\":{\"id\":\"4d91ff80-941b-4eaf-bef3-e14d5756047e\",\"subtype\":\"Figure\",\"type\":\"Plot\"},\"ticker\":{\"id\":\"ed2ea7d9-141d-4093-b486-1e4adadf576f\",\"type\":\"BasicTicker\"}},\"id\":\"7e182ba2-3b61-4e0d-be52-f882aaaee7b1\",\"type\":\"LinearAxis\"},{\"attributes\":{},\"id\":\"ed2ea7d9-141d-4093-b486-1e4adadf576f\",\"type\":\"BasicTicker\"},{\"attributes\":{\"dimension\":1,\"plot\":{\"id\":\"4d91ff80-941b-4eaf-bef3-e14d5756047e\",\"subtype\":\"Figure\",\"type\":\"Plot\"},\"ticker\":{\"id\":\"ed2ea7d9-141d-4093-b486-1e4adadf576f\",\"type\":\"BasicTicker\"}},\"id\":\"a57ee322-0a2a-47aa-8012-82b97a3903ce\",\"type\":\"Grid\"},{\"attributes\":{\"bottom_units\":\"screen\",\"fill_alpha\":{\"value\":0.5},\"fill_color\":{\"value\":\"lightgrey\"},\"left_units\":\"screen\",\"level\":\"overlay\",\"line_alpha\":{\"value\":1.0},\"line_color\":{\"value\":\"black\"},\"line_dash\":[4,4],\"line_width\":{\"value\":2},\"plot\":null,\"render_mode\":\"css\",\"right_units\":\"screen\",\"top_units\":\"screen\"},\"id\":\"299cf055-5d21-4238-8194-cf66bb87382b\",\"type\":\"BoxAnnotation\"},{\"attributes\":{\"callback\":null,\"data\":{\"pointer\":[1,2,3,4,5,6,7,8,9,10,11,12,13,14,15,16,17,18,19,20],\"x\":[48,54,57,99,104,105,138,139,142,173,178,181,194,195,198,208,212,217,220,238],\"y\":{\"__ndarray__\":\"uB6F61FYQEAzMzMzMxNAQK5H4XoUTkBAzczMzMxMPUD2KFyPwvU8QEjhehSuxzxAzczMzMwMP0AUrkfhepQ9QAAAAAAAgD1AZmZmZmbmPkDD9Shcj0I/QHsUrkfhej9APQrXo3C9PUCPwvUoXE89QLgehetRuD1A4XoUrkfhPEAzMzMzMzM+QM3MzMzMTDtAMzMzMzOzOkCF61G4HoU7QA==\",\"dtype\":\"float64\",\"shape\":[20]}},\"selected\":{\"id\":\"d7e23359-8d7d-4eed-a8b6-a5310cf0c42b\",\"type\":\"Selection\"},\"selection_policy\":{\"id\":\"6134c85c-3619-4e90-b303-00b43716f559\",\"type\":\"UnionRenderers\"}},\"id\":\"55e48087-0c30-4f17-a8a2-5f79760457d0\",\"type\":\"ColumnDataSource\"},{\"attributes\":{},\"id\":\"e839f353-2d76-42f8-b131-9710ad01b164\",\"type\":\"PanTool\"},{\"attributes\":{\"fill_color\":{\"value\":\"navy\"},\"line_color\":{\"value\":\"navy\"},\"x\":{\"field\":\"x\"},\"y\":{\"field\":\"y\"}},\"id\":\"20f0b969-13d7-401a-be60-09ef84a4716f\",\"type\":\"Circle\"},{\"attributes\":{},\"id\":\"31221fb1-7e66-4f16-9da8-af8603641456\",\"type\":\"WheelZoomTool\"},{\"attributes\":{\"overlay\":{\"id\":\"299cf055-5d21-4238-8194-cf66bb87382b\",\"type\":\"BoxAnnotation\"}},\"id\":\"3bb0c5a7-cfd4-4aec-8d17-d5688c86a3d0\",\"type\":\"BoxZoomTool\"},{\"attributes\":{},\"id\":\"814bd9e4-2c3b-47c5-9985-2487beb50b9e\",\"type\":\"SaveTool\"},{\"attributes\":{},\"id\":\"05e08d7d-1f38-4110-bc09-cc028a0d6fbd\",\"type\":\"ResetTool\"},{\"attributes\":{},\"id\":\"6646a89a-ea5b-4469-99d2-1f2d55bf166e\",\"type\":\"HelpTool\"},{\"attributes\":{\"items\":[{\"id\":\"cf04233a-ec21-4785-bf46-2884807db7d3\",\"type\":\"LegendItem\"},{\"id\":\"46e2eb20-bb4a-4c37-81c9-bee76d763de1\",\"type\":\"LegendItem\"}],\"plot\":{\"id\":\"4d91ff80-941b-4eaf-bef3-e14d5756047e\",\"subtype\":\"Figure\",\"type\":\"Plot\"}},\"id\":\"fdd38057-f6e2-47d4-998f-3772122d4b1b\",\"type\":\"Legend\"},{\"attributes\":{\"fill_alpha\":{\"value\":0.1},\"fill_color\":{\"value\":\"#1f77b4\"},\"line_alpha\":{\"value\":0.1},\"line_color\":{\"value\":\"#1f77b4\"},\"x\":{\"field\":\"x\"},\"y\":{\"field\":\"y\"}},\"id\":\"f772bdbe-76ac-4be5-8538-c6a9c660a20b\",\"type\":\"Circle\"},{\"attributes\":{\"label\":{\"value\":\"Actual\"},\"renderers\":[{\"id\":\"fd5c00ba-d293-465c-a98c-6f23cadfc3fc\",\"type\":\"GlyphRenderer\"}]},\"id\":\"cf04233a-ec21-4785-bf46-2884807db7d3\",\"type\":\"LegendItem\"},{\"attributes\":{\"below\":[{\"id\":\"bb894ef9-3da4-48e0-8ae5-e5dc003cfb2a\",\"type\":\"LinearAxis\"}],\"left\":[{\"id\":\"7e182ba2-3b61-4e0d-be52-f882aaaee7b1\",\"type\":\"LinearAxis\"}],\"plot_height\":700,\"plot_width\":950,\"renderers\":[{\"id\":\"bb894ef9-3da4-48e0-8ae5-e5dc003cfb2a\",\"type\":\"LinearAxis\"},{\"id\":\"75d238ab-ce6a-4a6d-9f96-5d0d892000b8\",\"type\":\"Grid\"},{\"id\":\"7e182ba2-3b61-4e0d-be52-f882aaaee7b1\",\"type\":\"LinearAxis\"},{\"id\":\"a57ee322-0a2a-47aa-8012-82b97a3903ce\",\"type\":\"Grid\"},{\"id\":\"299cf055-5d21-4238-8194-cf66bb87382b\",\"type\":\"BoxAnnotation\"},{\"id\":\"fdd38057-f6e2-47d4-998f-3772122d4b1b\",\"type\":\"Legend\"},{\"id\":\"fd5c00ba-d293-465c-a98c-6f23cadfc3fc\",\"type\":\"GlyphRenderer\"},{\"id\":\"c4e7a678-378d-4ae5-a977-a7513b309bd4\",\"type\":\"GlyphRenderer\"},{\"id\":\"e2e0d280-8860-4e15-91b1-9d1b425a18c4\",\"type\":\"LabelSet\"}],\"title\":{\"id\":\"0561ec26-7e90-4bfe-be34-0e3a3249aa18\",\"type\":\"Title\"},\"toolbar\":{\"id\":\"5953767a-d8ae-4632-94c3-e59924145d49\",\"type\":\"Toolbar\"},\"x_range\":{\"id\":\"58e37b43-9f95-41a1-8c6a-1378b0cb4792\",\"type\":\"DataRange1d\"},\"x_scale\":{\"id\":\"8f80af7f-bae9-4ec5-9569-7fa69c8d11e7\",\"type\":\"LinearScale\"},\"y_range\":{\"id\":\"bd9347ba-4a7c-4d7d-b106-2e711a40f5c7\",\"type\":\"DataRange1d\"},\"y_scale\":{\"id\":\"03433814-7442-4e1e-b8a1-41f74668debc\",\"type\":\"LinearScale\"}},\"id\":\"4d91ff80-941b-4eaf-bef3-e14d5756047e\",\"subtype\":\"Figure\",\"type\":\"Plot\"},{\"attributes\":{},\"id\":\"26cafdc9-9af5-4f36-a2be-bac62a38d2a8\",\"type\":\"BasicTickFormatter\"},{\"attributes\":{\"data_source\":{\"id\":\"19e8340e-77af-4e87-bcde-a326dd6bd511\",\"type\":\"ColumnDataSource\"},\"glyph\":{\"id\":\"6ec0b264-8dcd-4a81-989d-7683b654907e\",\"type\":\"Circle\"},\"hover_glyph\":null,\"muted_glyph\":null,\"nonselection_glyph\":{\"id\":\"63eec675-6bb8-429b-a6ad-0678fb823031\",\"type\":\"Circle\"},\"selection_glyph\":null,\"view\":{\"id\":\"334b26fa-084a-4637-98f5-82d0b6a68544\",\"type\":\"CDSView\"}},\"id\":\"c4e7a678-378d-4ae5-a977-a7513b309bd4\",\"type\":\"GlyphRenderer\"},{\"attributes\":{\"plot\":null,\"text\":\"Viewing the closeness of Actual vs. Predicting values of the Missing Stock Prices\",\"text_font_size\":{\"value\":\"20px\"}},\"id\":\"0561ec26-7e90-4bfe-be34-0e3a3249aa18\",\"type\":\"Title\"},{\"attributes\":{},\"id\":\"d7e23359-8d7d-4eed-a8b6-a5310cf0c42b\",\"type\":\"Selection\"},{\"attributes\":{\"callback\":null},\"id\":\"58e37b43-9f95-41a1-8c6a-1378b0cb4792\",\"type\":\"DataRange1d\"},{\"attributes\":{\"fill_color\":{\"value\":\"firebrick\"},\"line_color\":{\"value\":\"firebrick\"},\"x\":{\"field\":\"x\"},\"y\":{\"field\":\"y\"}},\"id\":\"6ec0b264-8dcd-4a81-989d-7683b654907e\",\"type\":\"Circle\"},{\"attributes\":{\"active_drag\":\"auto\",\"active_inspect\":\"auto\",\"active_scroll\":\"auto\",\"active_tap\":\"auto\",\"tools\":[{\"id\":\"e839f353-2d76-42f8-b131-9710ad01b164\",\"type\":\"PanTool\"},{\"id\":\"31221fb1-7e66-4f16-9da8-af8603641456\",\"type\":\"WheelZoomTool\"},{\"id\":\"3bb0c5a7-cfd4-4aec-8d17-d5688c86a3d0\",\"type\":\"BoxZoomTool\"},{\"id\":\"814bd9e4-2c3b-47c5-9985-2487beb50b9e\",\"type\":\"SaveTool\"},{\"id\":\"05e08d7d-1f38-4110-bc09-cc028a0d6fbd\",\"type\":\"ResetTool\"},{\"id\":\"6646a89a-ea5b-4469-99d2-1f2d55bf166e\",\"type\":\"HelpTool\"}]},\"id\":\"5953767a-d8ae-4632-94c3-e59924145d49\",\"type\":\"Toolbar\"},{\"attributes\":{},\"id\":\"03433814-7442-4e1e-b8a1-41f74668debc\",\"type\":\"LinearScale\"},{\"attributes\":{\"callback\":null,\"data\":{\"x\":[48,54,57,99,104,105,138,139,142,173,178,181,194,195,198,208,212,217,220,238],\"y\":{\"__ndarray__\":\"1vPdxp9VQEBh01OyTANAQNY9UC61QkBASD01UUZlPUBKzh1onew8QNpPVYhFnjxAP1VizGWEPkBWtnH9dOI9QMdGYF0UlT1AeAReR57/PkBMcQ4U3iw/QMvu2qDzgD9AAg7wh+udPUCOjRjT4Vo9QPWD2hWwlD1Aoi0zxrTtPEDM090q9ME9QDMUZcBLFzxAXwx6nZ22OkDo3sQMuF07QA==\",\"dtype\":\"float64\",\"shape\":[20]}},\"selected\":{\"id\":\"0388f5b2-ac89-47e5-b4ff-32ac2f06bfe8\",\"type\":\"Selection\"},\"selection_policy\":{\"id\":\"b965781c-9765-4e3d-9327-b31efb8aaeb1\",\"type\":\"UnionRenderers\"}},\"id\":\"19e8340e-77af-4e87-bcde-a326dd6bd511\",\"type\":\"ColumnDataSource\"},{\"attributes\":{},\"id\":\"8f80af7f-bae9-4ec5-9569-7fa69c8d11e7\",\"type\":\"LinearScale\"},{\"attributes\":{\"fill_alpha\":{\"value\":0.1},\"fill_color\":{\"value\":\"#1f77b4\"},\"line_alpha\":{\"value\":0.1},\"line_color\":{\"value\":\"#1f77b4\"},\"x\":{\"field\":\"x\"},\"y\":{\"field\":\"y\"}},\"id\":\"63eec675-6bb8-429b-a6ad-0678fb823031\",\"type\":\"Circle\"},{\"attributes\":{\"callback\":null},\"id\":\"bd9347ba-4a7c-4d7d-b106-2e711a40f5c7\",\"type\":\"DataRange1d\"},{\"attributes\":{\"source\":{\"id\":\"19e8340e-77af-4e87-bcde-a326dd6bd511\",\"type\":\"ColumnDataSource\"}},\"id\":\"334b26fa-084a-4637-98f5-82d0b6a68544\",\"type\":\"CDSView\"}],\"root_ids\":[\"4d91ff80-941b-4eaf-bef3-e14d5756047e\"]},\"title\":\"Bokeh Application\",\"version\":\"0.12.16\"}};\n",
       "  var render_items = [{\"docid\":\"de0b8838-b73f-47c3-ae14-fa866e949828\",\"elementid\":\"c7541961-4417-4bac-ba94-64ed6603d4f0\",\"modelid\":\"4d91ff80-941b-4eaf-bef3-e14d5756047e\"}];\n",
       "  root.Bokeh.embed.embed_items_notebook(docs_json, render_items);\n",
       "\n",
       "  }\n",
       "  if (root.Bokeh !== undefined) {\n",
       "    embed_document(root);\n",
       "  } else {\n",
       "    var attempts = 0;\n",
       "    var timer = setInterval(function(root) {\n",
       "      if (root.Bokeh !== undefined) {\n",
       "        embed_document(root);\n",
       "        clearInterval(timer);\n",
       "      }\n",
       "      attempts++;\n",
       "      if (attempts > 100) {\n",
       "        console.log(\"Bokeh: ERROR: Unable to run BokehJS code because BokehJS library is missing\")\n",
       "        clearInterval(timer);\n",
       "      }\n",
       "    }, 10, root)\n",
       "  }\n",
       "})(window);"
      ],
      "application/vnd.bokehjs_exec.v0+json": ""
     },
     "metadata": {
      "application/vnd.bokehjs_exec.v0+json": {
       "id": "4d91ff80-941b-4eaf-bef3-e14d5756047e"
      }
     },
     "output_type": "display_data"
    }
   ],
   "source": [
    "fig = figure(\n",
    "    title=\"Viewing the closeness of Actual vs. Predicting values of the Missing Stock Prices\",\n",
    "    width=950,\n",
    "    height=700,\n",
    ")\n",
    "\n",
    "fig.title.text_font_size = \"20px\"\n",
    "source = ColumnDataSource(\n",
    "    data=dict(x=x_y_actual.x, y=x_y_actual.y, pointer=range(1, 21))\n",
    ")\n",
    "fig.scatter(x=\"x\", y=\"y\", color=\"navy\", legend=[\"Actual\"], source=source)\n",
    "fig.scatter(x_y_predict.x, x_y_predict.y, color=\"firebrick\", legend=[\"Predicted\"])\n",
    "fig.xaxis[0].axis_label = \"Ordered Period (x)\"\n",
    "fig.yaxis[0].axis_label = \"Stock Prices (y)\"\n",
    "labels = LabelSet(\n",
    "    x=\"x\",\n",
    "    y=\"y\",\n",
    "    text=\"pointer\",\n",
    "    level=\"glyph\",\n",
    "    x_offset=5,\n",
    "    y_offset=5,\n",
    "    source=source,\n",
    "    render_mode=\"canvas\",\n",
    ")\n",
    "\n",
    "fig.add_layout(labels)\n",
    "show(fig)"
   ]
  },
  {
   "cell_type": "markdown",
   "metadata": {},
   "source": [
    "###### PLOT 2"
   ]
  },
  {
   "cell_type": "code",
   "execution_count": 16,
   "metadata": {},
   "outputs": [
    {
     "data": {
      "text/html": [
       "\n",
       "<div class=\"bk-root\">\n",
       "    <div class=\"bk-plotdiv\" id=\"37242223-0b77-453e-bb02-7c73b27b71af\"></div>\n",
       "</div>"
      ]
     },
     "metadata": {},
     "output_type": "display_data"
    },
    {
     "data": {
      "application/javascript": [
       "(function(root) {\n",
       "  function embed_document(root) {\n",
       "    \n",
       "  var docs_json = {\"6e8127cf-47ea-4a66-af28-8b1230e7c9c3\":{\"roots\":{\"references\":[{\"attributes\":{},\"id\":\"e97082d3-42f9-4e1b-89c9-0dfb593b3cba\",\"type\":\"PanTool\"},{\"attributes\":{\"below\":[{\"id\":\"e0e51667-d8fe-4c0f-80d8-e600c17aa56b\",\"type\":\"LinearAxis\"}],\"left\":[{\"id\":\"44a6a8cc-4d18-428c-8345-4c8a945e90d4\",\"type\":\"LinearAxis\"}],\"plot_height\":300,\"plot_width\":475,\"renderers\":[{\"id\":\"e0e51667-d8fe-4c0f-80d8-e600c17aa56b\",\"type\":\"LinearAxis\"},{\"id\":\"56f561b2-591f-4e42-b7e6-5271bdf0ce58\",\"type\":\"Grid\"},{\"id\":\"44a6a8cc-4d18-428c-8345-4c8a945e90d4\",\"type\":\"LinearAxis\"},{\"id\":\"929a0b36-13b5-4e20-a456-775b70c567a7\",\"type\":\"Grid\"},{\"id\":\"06d8b6b1-80df-40e4-bdee-62db5288d37a\",\"type\":\"BoxAnnotation\"},{\"id\":\"313f8f5f-aef9-4e9e-9454-11b61f92b8cc\",\"type\":\"GlyphRenderer\"}],\"title\":{\"id\":\"eeb382ff-e038-4fd4-971a-7e12d8b420fa\",\"type\":\"Title\"},\"toolbar\":{\"id\":\"ba1395a0-8507-47da-b69f-db0687ff64d3\",\"type\":\"Toolbar\"},\"x_range\":{\"id\":\"0f6fd05f-4b46-4e00-a4c2-3868b5d64d50\",\"type\":\"DataRange1d\"},\"x_scale\":{\"id\":\"5c5744e7-c66c-485f-8f5e-3482180a7031\",\"type\":\"LinearScale\"},\"y_range\":{\"id\":\"b2c9a8b3-aa2a-4731-a1fb-b190245ff867\",\"type\":\"DataRange1d\"},\"y_scale\":{\"id\":\"eb30509d-cbe8-405e-9ee6-e619169a9cfe\",\"type\":\"LinearScale\"}},\"id\":\"fb2e4ae5-5181-425d-a3e0-f13363f7ffdc\",\"subtype\":\"Figure\",\"type\":\"Plot\"},{\"attributes\":{},\"id\":\"47fe89fa-2d6c-4883-b7a0-7e8eb8fbb05e\",\"type\":\"BasicTickFormatter\"},{\"attributes\":{\"fill_alpha\":{\"value\":0.1},\"fill_color\":{\"value\":\"#1f77b4\"},\"line_alpha\":{\"value\":0.1},\"line_color\":{\"value\":\"#1f77b4\"},\"x\":{\"field\":\"x\"},\"y\":{\"field\":\"y\"}},\"id\":\"7ca45153-7196-4444-9c61-65cd85343437\",\"type\":\"Circle\"},{\"attributes\":{\"plot\":null,\"text\":\"All data with the actual values of the missing prices\"},\"id\":\"eeb382ff-e038-4fd4-971a-7e12d8b420fa\",\"type\":\"Title\"},{\"attributes\":{\"callback\":null},\"id\":\"0f6fd05f-4b46-4e00-a4c2-3868b5d64d50\",\"type\":\"DataRange1d\"},{\"attributes\":{\"active_drag\":\"auto\",\"active_inspect\":\"auto\",\"active_scroll\":\"auto\",\"active_tap\":\"auto\",\"tools\":[{\"id\":\"f8fcb10e-a82b-4dea-bf6f-08db0076632b\",\"type\":\"PanTool\"},{\"id\":\"7e48daa0-4b58-4041-9620-06d2799d335c\",\"type\":\"WheelZoomTool\"},{\"id\":\"12ed7848-166c-453e-8c85-157dded5ea06\",\"type\":\"BoxZoomTool\"},{\"id\":\"1619365f-97a3-4fb0-a8c9-297377e7e917\",\"type\":\"SaveTool\"},{\"id\":\"f8bcc7f1-c3fc-4583-b8bb-cc2ce7b105b2\",\"type\":\"ResetTool\"},{\"id\":\"ca96d0c2-9e92-40ce-a33c-a3c58716ac9f\",\"type\":\"HelpTool\"}]},\"id\":\"ba1395a0-8507-47da-b69f-db0687ff64d3\",\"type\":\"Toolbar\"},{\"attributes\":{\"source\":{\"id\":\"19ce881c-e205-497d-8389-2474394eadee\",\"type\":\"ColumnDataSource\"}},\"id\":\"9c32888e-f49d-445f-a845-d2f288fda9e1\",\"type\":\"CDSView\"},{\"attributes\":{},\"id\":\"5c5744e7-c66c-485f-8f5e-3482180a7031\",\"type\":\"LinearScale\"},{\"attributes\":{\"bottom_units\":\"screen\",\"fill_alpha\":{\"value\":0.5},\"fill_color\":{\"value\":\"lightgrey\"},\"left_units\":\"screen\",\"level\":\"overlay\",\"line_alpha\":{\"value\":1.0},\"line_color\":{\"value\":\"black\"},\"line_dash\":[4,4],\"line_width\":{\"value\":2},\"plot\":null,\"render_mode\":\"css\",\"right_units\":\"screen\",\"top_units\":\"screen\"},\"id\":\"66251090-95c1-43e4-bced-e0da04919b85\",\"type\":\"BoxAnnotation\"},{\"attributes\":{\"callback\":null},\"id\":\"b2c9a8b3-aa2a-4731-a1fb-b190245ff867\",\"type\":\"DataRange1d\"},{\"attributes\":{},\"id\":\"d5c62e99-ea96-4fbd-a2aa-f47977cec809\",\"type\":\"HelpTool\"},{\"attributes\":{},\"id\":\"eb30509d-cbe8-405e-9ee6-e619169a9cfe\",\"type\":\"LinearScale\"},{\"attributes\":{\"plot\":{\"id\":\"fb2e4ae5-5181-425d-a3e0-f13363f7ffdc\",\"subtype\":\"Figure\",\"type\":\"Plot\"},\"ticker\":{\"id\":\"b6f9c2ca-31c1-4478-bad5-ac54221fe007\",\"type\":\"BasicTicker\"}},\"id\":\"56f561b2-591f-4e42-b7e6-5271bdf0ce58\",\"type\":\"Grid\"},{\"attributes\":{},\"id\":\"2038aca0-6372-403d-98b9-a8cf4d2866a3\",\"type\":\"Selection\"},{\"attributes\":{\"axis_label\":\"Ordered Period (x)\",\"formatter\":{\"id\":\"7db337b7-67f1-4053-ac2b-04a1d0c9b20a\",\"type\":\"BasicTickFormatter\"},\"plot\":{\"id\":\"fb2e4ae5-5181-425d-a3e0-f13363f7ffdc\",\"subtype\":\"Figure\",\"type\":\"Plot\"},\"ticker\":{\"id\":\"b6f9c2ca-31c1-4478-bad5-ac54221fe007\",\"type\":\"BasicTicker\"}},\"id\":\"e0e51667-d8fe-4c0f-80d8-e600c17aa56b\",\"type\":\"LinearAxis\"},{\"attributes\":{},\"id\":\"594fa3f9-f51d-4c89-9549-76a178459058\",\"type\":\"SaveTool\"},{\"attributes\":{},\"id\":\"b6f9c2ca-31c1-4478-bad5-ac54221fe007\",\"type\":\"BasicTicker\"},{\"attributes\":{\"data_source\":{\"id\":\"ca9c2af7-3f69-4069-ac0b-af8405c6c60e\",\"type\":\"ColumnDataSource\"},\"glyph\":{\"id\":\"d470839a-cdcf-44ff-a534-eff462b428ec\",\"type\":\"Circle\"},\"hover_glyph\":null,\"muted_glyph\":null,\"nonselection_glyph\":{\"id\":\"ecad3f4c-fc91-4aab-8af1-0b6f5ae0f8f5\",\"type\":\"Circle\"},\"selection_glyph\":null,\"view\":{\"id\":\"8347b4dc-5d58-4429-b56e-406aa7996d05\",\"type\":\"CDSView\"}},\"id\":\"93296f79-ea28-44b4-a113-eece6c99fc68\",\"type\":\"GlyphRenderer\"},{\"attributes\":{\"axis_label\":\"Stock Prices (y)\",\"formatter\":{\"id\":\"47fe89fa-2d6c-4883-b7a0-7e8eb8fbb05e\",\"type\":\"BasicTickFormatter\"},\"plot\":{\"id\":\"fb2e4ae5-5181-425d-a3e0-f13363f7ffdc\",\"subtype\":\"Figure\",\"type\":\"Plot\"},\"ticker\":{\"id\":\"01924781-31d5-43e4-9fb4-1b55045a01e9\",\"type\":\"BasicTicker\"}},\"id\":\"44a6a8cc-4d18-428c-8345-4c8a945e90d4\",\"type\":\"LinearAxis\"},{\"attributes\":{},\"id\":\"2e994dd9-2acf-4bd4-a011-c4eb4fdb6a34\",\"type\":\"Selection\"},{\"attributes\":{\"fill_color\":{\"value\":\"navy\"},\"line_color\":{\"value\":\"navy\"},\"x\":{\"field\":\"x\"},\"y\":{\"field\":\"y\"}},\"id\":\"7c18027d-ca0d-459b-b75b-6e775914aabd\",\"type\":\"Circle\"},{\"attributes\":{\"callback\":null,\"data\":{\"x\":[0,1,2,3,4,5,6,7,8,9,10,11,12,13,14,15,16,17,18,19,20,21,22,23,24,25,26,27,28,29,30,31,32,33,34,35,36,37,38,39,40,41,42,43,44,45,46,47,49,50,51,52,53,55,56,58,59,60,61,62,63,64,65,66,67,68,69,70,71,72,73,74,75,76,77,78,79,80,81,82,83,84,85,86,87,88,89,90,91,92,93,94,95,96,97,98,100,101,102,103,106,107,108,109,110,111,112,113,114,115,116,117,118,119,120,121,122,123,124,125,126,127,128,129,130,131,132,133,134,135,136,137,140,141,143,144,145,146,147,148,149,150,151,152,153,154,155,156,157,158,159,160,161,162,163,164,165,166,167,168,169,170,171,172,174,175,176,177,179,180,182,183,184,185,186,187,188,189,190,191,192,193,196,197,199,200,201,202,203,204,205,206,207,209,210,211,213,214,215,216,218,219,221,222,223,224,225,226,227,228,229,230,231,232,233,234,235,236,237,239,240,241,242,243,244,245,246,247,248,249,48,54,57,99,104,105,138,139,142,173,178,181,194,195,198,208,212,217,220,238],\"y\":[\"26.96\",\"27.47\",\"27.728\",\"28.19\",\"28.1\",\"28.15\",\"27.98\",\"28.02\",\"28.25\",\"28.65\",\"28.4\",\"28.435\",\"29.74\",\"29.95\",\"29.5703\",\"29.65\",\"29.7\",\"29.53\",\"29.62\",\"29.7\",\"30.05\",\"30.17\",\"30.4\",\"30.22\",\"30.485\",\"30.67\",\"30.8\",\"30.8\",\"30.77\",\"30.46\",\"30.39\",\"31.55\",\"31.32\",\"31.61\",\"31.68\",\"31.59\",\"31.5\",\"31.5\",\"31.93\",\"32\",\"32.39\",\"32.44\",\"32.05\",\"31.98\",\"31.92\",\"32.21\",\"32.16\",\"32.2\",\"32.88\",\"32.94\",\"32.95\",\"32.61\",\"32.15\",\"32.09\",\"32.11\",\"32.7\",\"32.7\",\"32.19\",\"32.41\",\"32.46\",\"32.19\",\"31.69\",\"31.63\",\"31.4\",\"31.19\",\"30.53\",\"31.04\",\"31.16\",\"31.19\",\"31.61\",\"31.31\",\"31.68\",\"32.89\",\"32.5\",\"32.52\",\"32.32\",\"32.23\",\"32.22\",\"32.11\",\"32.335\",\"31.925\",\"31.9\",\"31.57\",\"30.86\",\"30.78\",\"30.83\",\"31.02\",\"31.54\",\"31.04\",\"30.795\",\"30.32\",\"30.2084\",\"29.81\",\"29.79\",\"29.88\",\"29.4\",\"29.36\",\"29.72\",\"29.479\",\"29.42\",\"28.75\",\"29.37\",\"29.7\",\"29.68\",\"29.81\",\"29.3\",\"29.44\",\"29.46\",\"30.08\",\"30.03\",\"31.11\",\"31.05\",\"31.14\",\"30.73\",\"30.32\",\"30.27\",\"30.5\",\"30.05\",\"30.69\",\"30.62\",\"30.76\",\"30.78\",\"30.7\",\"30.23\",\"30.22\",\"29.735\",\"29.18\",\"29.48\",\"29.53\",\"29.86\",\"30.45\",\"30.8\",\"29.36\",\"29.33\",\"29.85\",\"29.82\",\"29.71\",\"29.65\",\"29.525\",\"29.94\",\"30.11\",\"30.35\",\"30.47\",\"30.65\",\"30.62\",\"30.46\",\"30.39\",\"30.28\",\"30.94\",\"30.92\",\"30.85\",\"30.96\",\"30.76\",\"30.4\",\"30.63\",\"30.96\",\"30.8\",\"30.75\",\"30.61\",\"30.96\",\"30.66\",\"30.53\",\"31.36\",\"31.07\",\"30.91\",\"31.18\",\"31.18\",\"31.25\",\"31.21\",\"31.19\",\"31.61\",\"31.07\",\"31\",\"30.6\",\"30.4\",\"30.26\",\"29.98\",\"29.89\",\"29.99\",\"30.03\",\"30.25\",\"29.92\",\"29.25\",\"29.32\",\"29.74\",\"29.64\",\"29.73\",\"29.08\",\"28.83\",\"28.2\",\"28.2\",\"28.2\",\"28.34\",\"29.56\",\"29.77\",\"29.74\",\"29.825\",\"29.37\",\"29.19\",\"29.01\",\"27.29\",\"26.97\",\"26.8\",\"26.8\",\"27.1666\",\"27.77\",\"27.58\",\"27.38\",\"27.39\",\"27.36\",\"27.13\",\"26.82\",\"26.63\",\"26.93\",\"26.98\",\"26.82\",\"26.97\",\"27.49\",\"27.62\",\"27.13\",\"27.215\",\"27.63\",\"27.73\",\"27.68\",\"27.49\",\"27.25\",\"27.2\",\"27.09\",\"26.9\",\"26.77\",32.69,32.15,32.61,29.3,28.96,28.78,31.05,29.58,29.5,30.9,31.26,31.48,29.74,29.31,29.72,28.88,30.2,27.3,26.7,27.52]},\"selected\":{\"id\":\"2e994dd9-2acf-4bd4-a011-c4eb4fdb6a34\",\"type\":\"Selection\"},\"selection_policy\":{\"id\":\"e5aa70e0-e0ae-4eca-8084-54335fa63da9\",\"type\":\"UnionRenderers\"}},\"id\":\"19ce881c-e205-497d-8389-2474394eadee\",\"type\":\"ColumnDataSource\"},{\"attributes\":{},\"id\":\"e5aa70e0-e0ae-4eca-8084-54335fa63da9\",\"type\":\"UnionRenderers\"},{\"attributes\":{\"data_source\":{\"id\":\"19ce881c-e205-497d-8389-2474394eadee\",\"type\":\"ColumnDataSource\"},\"glyph\":{\"id\":\"7c18027d-ca0d-459b-b75b-6e775914aabd\",\"type\":\"Circle\"},\"hover_glyph\":null,\"muted_glyph\":null,\"nonselection_glyph\":{\"id\":\"7ca45153-7196-4444-9c61-65cd85343437\",\"type\":\"Circle\"},\"selection_glyph\":null,\"view\":{\"id\":\"9c32888e-f49d-445f-a845-d2f288fda9e1\",\"type\":\"CDSView\"}},\"id\":\"313f8f5f-aef9-4e9e-9454-11b61f92b8cc\",\"type\":\"GlyphRenderer\"},{\"attributes\":{\"callback\":null,\"data\":{\"x\":[0,1,2,3,4,5,6,7,8,9,10,11,12,13,14,15,16,17,18,19,20,21,22,23,24,25,26,27,28,29,30,31,32,33,34,35,36,37,38,39,40,41,42,43,44,45,46,47,48,49,50,51,52,53,54,55,56,57,58,59,60,61,62,63,64,65,66,67,68,69,70,71,72,73,74,75,76,77,78,79,80,81,82,83,84,85,86,87,88,89,90,91,92,93,94,95,96,97,98,99,100,101,102,103,104,105,106,107,108,109,110,111,112,113,114,115,116,117,118,119,120,121,122,123,124,125,126,127,128,129,130,131,132,133,134,135,136,137,138,139,140,141,142,143,144,145,146,147,148,149,150,151,152,153,154,155,156,157,158,159,160,161,162,163,164,165,166,167,168,169,170,171,172,173,174,175,176,177,178,179,180,181,182,183,184,185,186,187,188,189,190,191,192,193,194,195,196,197,198,199,200,201,202,203,204,205,206,207,208,209,210,211,212,213,214,215,216,217,218,219,220,221,222,223,224,225,226,227,228,229,230,231,232,233,234,235,236,237,238,239,240,241,242,243,244,245,246,247,248,249],\"y\":[\"26.96\",\"27.47\",\"27.728\",\"28.19\",\"28.1\",\"28.15\",\"27.98\",\"28.02\",\"28.25\",\"28.65\",\"28.4\",\"28.435\",\"29.74\",\"29.95\",\"29.5703\",\"29.65\",\"29.7\",\"29.53\",\"29.62\",\"29.7\",\"30.05\",\"30.17\",\"30.4\",\"30.22\",\"30.485\",\"30.67\",\"30.8\",\"30.8\",\"30.77\",\"30.46\",\"30.39\",\"31.55\",\"31.32\",\"31.61\",\"31.68\",\"31.59\",\"31.5\",\"31.5\",\"31.93\",\"32\",\"32.39\",\"32.44\",\"32.05\",\"31.98\",\"31.92\",\"32.21\",\"32.16\",\"32.2\",32.668938501715886,\"32.88\",\"32.94\",\"32.95\",\"32.61\",\"32.15\",32.02577809422542,\"32.09\",\"32.11\",32.521154202633326,\"32.7\",\"32.7\",\"32.19\",\"32.41\",\"32.46\",\"32.19\",\"31.69\",\"31.63\",\"31.4\",\"31.19\",\"30.53\",\"31.04\",\"31.16\",\"31.19\",\"31.61\",\"31.31\",\"31.68\",\"32.89\",\"32.5\",\"32.52\",\"32.32\",\"32.23\",\"32.22\",\"32.11\",\"32.335\",\"31.925\",\"31.9\",\"31.57\",\"30.86\",\"30.78\",\"30.83\",\"31.02\",\"31.54\",\"31.04\",\"30.795\",\"30.32\",\"30.2084\",\"29.81\",\"29.79\",\"29.88\",\"29.4\",29.39560420560636,\"29.36\",\"29.72\",\"29.479\",\"29.42\",28.924276835705577,28.61824848254023,\"28.75\",\"29.37\",\"29.7\",\"29.68\",\"29.81\",\"29.3\",\"29.44\",\"29.46\",\"30.08\",\"30.03\",\"31.11\",\"31.05\",\"31.14\",\"30.73\",\"30.32\",\"30.27\",\"30.5\",\"30.05\",\"30.69\",\"30.62\",\"30.76\",\"30.78\",\"30.7\",\"30.23\",\"30.22\",\"29.735\",\"29.18\",\"29.48\",\"29.53\",\"29.86\",\"30.45\",\"30.8\",30.51717831993778,29.884597625982074,\"29.36\",\"29.33\",29.582341991429328,\"29.85\",\"29.82\",\"29.71\",\"29.65\",\"29.525\",\"29.94\",\"30.11\",\"30.35\",\"30.47\",\"30.65\",\"30.62\",\"30.46\",\"30.39\",\"30.28\",\"30.94\",\"30.92\",\"30.85\",\"30.96\",\"30.76\",\"30.4\",\"30.63\",\"30.96\",\"30.8\",\"30.75\",\"30.61\",\"30.96\",\"30.66\",\"30.53\",\"31.36\",\"31.07\",30.9985088924918,\"30.91\",\"31.18\",\"31.18\",\"31.25\",31.175263646627442,\"31.21\",\"31.19\",31.503717473459613,\"31.61\",\"31.07\",\"31\",\"30.6\",\"30.4\",\"30.26\",\"29.98\",\"29.89\",\"29.99\",\"30.03\",\"30.25\",\"29.92\",29.616875167948827,29.35500830983579,\"29.25\",\"29.32\",29.580811849449635,\"29.74\",\"29.64\",\"29.73\",\"29.08\",\"28.83\",\"28.2\",\"28.2\",\"28.2\",\"28.34\",28.92853964566678,\"29.56\",\"29.77\",\"29.74\",29.75763194957453,\"29.825\",\"29.37\",\"29.19\",\"29.01\",28.09099962680575,\"27.29\",\"26.97\",26.713342516228632,\"26.8\",\"26.8\",\"27.1666\",\"27.77\",\"27.58\",\"27.38\",\"27.39\",\"27.36\",\"27.13\",\"26.82\",\"26.63\",\"26.93\",\"26.98\",\"26.82\",\"26.97\",\"27.49\",\"27.62\",27.366089628280776,\"27.13\",\"27.215\",\"27.63\",\"27.73\",\"27.68\",\"27.49\",\"27.25\",\"27.2\",\"27.09\",\"26.9\",\"26.77\"]},\"selected\":{\"id\":\"2038aca0-6372-403d-98b9-a8cf4d2866a3\",\"type\":\"Selection\"},\"selection_policy\":{\"id\":\"414a8dd6-943f-47ed-b20d-996e635e2557\",\"type\":\"UnionRenderers\"}},\"id\":\"ca9c2af7-3f69-4069-ac0b-af8405c6c60e\",\"type\":\"ColumnDataSource\"},{\"attributes\":{},\"id\":\"d94ef2d7-4e4a-4dc0-9c9a-2f7eef4777d8\",\"type\":\"ResetTool\"},{\"attributes\":{\"children\":[{\"id\":\"fb2e4ae5-5181-425d-a3e0-f13363f7ffdc\",\"subtype\":\"Figure\",\"type\":\"Plot\"},{\"id\":\"1f69ce0c-20eb-4cbe-91a3-c71694c5d371\",\"subtype\":\"Figure\",\"type\":\"Plot\"}]},\"id\":\"3d758c1d-0555-4efb-904d-03b4d77b143e\",\"type\":\"Row\"},{\"attributes\":{},\"id\":\"f8fcb10e-a82b-4dea-bf6f-08db0076632b\",\"type\":\"PanTool\"},{\"attributes\":{\"below\":[{\"id\":\"0413b844-a413-42ed-9b1e-1b666e5bab1c\",\"type\":\"LinearAxis\"}],\"left\":[{\"id\":\"91d6ec0f-62a9-4d1b-8534-7fe72df6bd89\",\"type\":\"LinearAxis\"}],\"plot_height\":300,\"plot_width\":475,\"renderers\":[{\"id\":\"0413b844-a413-42ed-9b1e-1b666e5bab1c\",\"type\":\"LinearAxis\"},{\"id\":\"ddfc4db9-a34f-46ad-8001-d72eedd7f9c3\",\"type\":\"Grid\"},{\"id\":\"91d6ec0f-62a9-4d1b-8534-7fe72df6bd89\",\"type\":\"LinearAxis\"},{\"id\":\"77ab1109-0db6-4024-8bcc-c9b11f6e92b1\",\"type\":\"Grid\"},{\"id\":\"66251090-95c1-43e4-bced-e0da04919b85\",\"type\":\"BoxAnnotation\"},{\"id\":\"93296f79-ea28-44b4-a113-eece6c99fc68\",\"type\":\"GlyphRenderer\"}],\"title\":{\"id\":\"8b0fc9f7-e9d9-43b9-9228-2be9070f3e98\",\"type\":\"Title\"},\"toolbar\":{\"id\":\"b4f5a645-b2e1-45df-998e-e9b5f6543c1d\",\"type\":\"Toolbar\"},\"x_range\":{\"id\":\"cc57f12e-4a95-46ad-966b-d9a8d44ccc2c\",\"type\":\"DataRange1d\"},\"x_scale\":{\"id\":\"b518668e-b616-470c-b838-c99f81e970f3\",\"type\":\"LinearScale\"},\"y_range\":{\"id\":\"5b4540b8-b0d5-4ee1-98ea-b55215b72573\",\"type\":\"DataRange1d\"},\"y_scale\":{\"id\":\"0df69393-2c27-40ba-938c-64ceeeb48a5f\",\"type\":\"LinearScale\"}},\"id\":\"1f69ce0c-20eb-4cbe-91a3-c71694c5d371\",\"subtype\":\"Figure\",\"type\":\"Plot\"},{\"attributes\":{\"fill_alpha\":{\"value\":0.1},\"fill_color\":{\"value\":\"#1f77b4\"},\"line_alpha\":{\"value\":0.1},\"line_color\":{\"value\":\"#1f77b4\"},\"x\":{\"field\":\"x\"},\"y\":{\"field\":\"y\"}},\"id\":\"ecad3f4c-fc91-4aab-8af1-0b6f5ae0f8f5\",\"type\":\"Circle\"},{\"attributes\":{},\"id\":\"ca96d0c2-9e92-40ce-a33c-a3c58716ac9f\",\"type\":\"HelpTool\"},{\"attributes\":{},\"id\":\"cbbefe8f-69df-481e-afa1-f54b152e9ffa\",\"type\":\"BasicTicker\"},{\"attributes\":{},\"id\":\"ed30f604-e0a3-4128-94c8-088e92ab345f\",\"type\":\"WheelZoomTool\"},{\"attributes\":{\"active_drag\":\"auto\",\"active_inspect\":\"auto\",\"active_scroll\":\"auto\",\"active_tap\":\"auto\",\"tools\":[{\"id\":\"e97082d3-42f9-4e1b-89c9-0dfb593b3cba\",\"type\":\"PanTool\"},{\"id\":\"ed30f604-e0a3-4128-94c8-088e92ab345f\",\"type\":\"WheelZoomTool\"},{\"id\":\"eb864cf2-c6d2-493a-85bc-91454d7994ad\",\"type\":\"BoxZoomTool\"},{\"id\":\"594fa3f9-f51d-4c89-9549-76a178459058\",\"type\":\"SaveTool\"},{\"id\":\"d94ef2d7-4e4a-4dc0-9c9a-2f7eef4777d8\",\"type\":\"ResetTool\"},{\"id\":\"d5c62e99-ea96-4fbd-a2aa-f47977cec809\",\"type\":\"HelpTool\"}]},\"id\":\"b4f5a645-b2e1-45df-998e-e9b5f6543c1d\",\"type\":\"Toolbar\"},{\"attributes\":{},\"id\":\"7e48daa0-4b58-4041-9620-06d2799d335c\",\"type\":\"WheelZoomTool\"},{\"attributes\":{\"callback\":null},\"id\":\"5b4540b8-b0d5-4ee1-98ea-b55215b72573\",\"type\":\"DataRange1d\"},{\"attributes\":{},\"id\":\"1619365f-97a3-4fb0-a8c9-297377e7e917\",\"type\":\"SaveTool\"},{\"attributes\":{},\"id\":\"bf6b9c93-e23a-46a6-860d-0aee6c5ab6be\",\"type\":\"BasicTickFormatter\"},{\"attributes\":{\"overlay\":{\"id\":\"06d8b6b1-80df-40e4-bdee-62db5288d37a\",\"type\":\"BoxAnnotation\"}},\"id\":\"12ed7848-166c-453e-8c85-157dded5ea06\",\"type\":\"BoxZoomTool\"},{\"attributes\":{},\"id\":\"2f5c1049-fb88-4d0b-9b83-6089f714f743\",\"type\":\"BasicTickFormatter\"},{\"attributes\":{\"callback\":null},\"id\":\"cc57f12e-4a95-46ad-966b-d9a8d44ccc2c\",\"type\":\"DataRange1d\"},{\"attributes\":{},\"id\":\"f8bcc7f1-c3fc-4583-b8bb-cc2ce7b105b2\",\"type\":\"ResetTool\"},{\"attributes\":{},\"id\":\"414a8dd6-943f-47ed-b20d-996e635e2557\",\"type\":\"UnionRenderers\"},{\"attributes\":{\"axis_label\":\"Stock Prices (y)\",\"formatter\":{\"id\":\"2f5c1049-fb88-4d0b-9b83-6089f714f743\",\"type\":\"BasicTickFormatter\"},\"plot\":{\"id\":\"1f69ce0c-20eb-4cbe-91a3-c71694c5d371\",\"subtype\":\"Figure\",\"type\":\"Plot\"},\"ticker\":{\"id\":\"885f61c1-d3ff-4474-87d6-6de8d439e91f\",\"type\":\"BasicTicker\"}},\"id\":\"91d6ec0f-62a9-4d1b-8534-7fe72df6bd89\",\"type\":\"LinearAxis\"},{\"attributes\":{\"overlay\":{\"id\":\"66251090-95c1-43e4-bced-e0da04919b85\",\"type\":\"BoxAnnotation\"}},\"id\":\"eb864cf2-c6d2-493a-85bc-91454d7994ad\",\"type\":\"BoxZoomTool\"},{\"attributes\":{\"plot\":null,\"text\":\"All data with the estimated values of the missing prices\"},\"id\":\"8b0fc9f7-e9d9-43b9-9228-2be9070f3e98\",\"type\":\"Title\"},{\"attributes\":{},\"id\":\"7db337b7-67f1-4053-ac2b-04a1d0c9b20a\",\"type\":\"BasicTickFormatter\"},{\"attributes\":{\"source\":{\"id\":\"ca9c2af7-3f69-4069-ac0b-af8405c6c60e\",\"type\":\"ColumnDataSource\"}},\"id\":\"8347b4dc-5d58-4429-b56e-406aa7996d05\",\"type\":\"CDSView\"},{\"attributes\":{},\"id\":\"b518668e-b616-470c-b838-c99f81e970f3\",\"type\":\"LinearScale\"},{\"attributes\":{\"dimension\":1,\"plot\":{\"id\":\"1f69ce0c-20eb-4cbe-91a3-c71694c5d371\",\"subtype\":\"Figure\",\"type\":\"Plot\"},\"ticker\":{\"id\":\"885f61c1-d3ff-4474-87d6-6de8d439e91f\",\"type\":\"BasicTicker\"}},\"id\":\"77ab1109-0db6-4024-8bcc-c9b11f6e92b1\",\"type\":\"Grid\"},{\"attributes\":{},\"id\":\"0df69393-2c27-40ba-938c-64ceeeb48a5f\",\"type\":\"LinearScale\"},{\"attributes\":{\"axis_label\":\"Ordered Period (x)\",\"formatter\":{\"id\":\"bf6b9c93-e23a-46a6-860d-0aee6c5ab6be\",\"type\":\"BasicTickFormatter\"},\"plot\":{\"id\":\"1f69ce0c-20eb-4cbe-91a3-c71694c5d371\",\"subtype\":\"Figure\",\"type\":\"Plot\"},\"ticker\":{\"id\":\"cbbefe8f-69df-481e-afa1-f54b152e9ffa\",\"type\":\"BasicTicker\"}},\"id\":\"0413b844-a413-42ed-9b1e-1b666e5bab1c\",\"type\":\"LinearAxis\"},{\"attributes\":{\"bottom_units\":\"screen\",\"fill_alpha\":{\"value\":0.5},\"fill_color\":{\"value\":\"lightgrey\"},\"left_units\":\"screen\",\"level\":\"overlay\",\"line_alpha\":{\"value\":1.0},\"line_color\":{\"value\":\"black\"},\"line_dash\":[4,4],\"line_width\":{\"value\":2},\"plot\":null,\"render_mode\":\"css\",\"right_units\":\"screen\",\"top_units\":\"screen\"},\"id\":\"06d8b6b1-80df-40e4-bdee-62db5288d37a\",\"type\":\"BoxAnnotation\"},{\"attributes\":{\"plot\":{\"id\":\"1f69ce0c-20eb-4cbe-91a3-c71694c5d371\",\"subtype\":\"Figure\",\"type\":\"Plot\"},\"ticker\":{\"id\":\"cbbefe8f-69df-481e-afa1-f54b152e9ffa\",\"type\":\"BasicTicker\"}},\"id\":\"ddfc4db9-a34f-46ad-8001-d72eedd7f9c3\",\"type\":\"Grid\"},{\"attributes\":{\"dimension\":1,\"plot\":{\"id\":\"fb2e4ae5-5181-425d-a3e0-f13363f7ffdc\",\"subtype\":\"Figure\",\"type\":\"Plot\"},\"ticker\":{\"id\":\"01924781-31d5-43e4-9fb4-1b55045a01e9\",\"type\":\"BasicTicker\"}},\"id\":\"929a0b36-13b5-4e20-a456-775b70c567a7\",\"type\":\"Grid\"},{\"attributes\":{},\"id\":\"885f61c1-d3ff-4474-87d6-6de8d439e91f\",\"type\":\"BasicTicker\"},{\"attributes\":{\"fill_color\":{\"value\":\"firebrick\"},\"line_color\":{\"value\":\"firebrick\"},\"x\":{\"field\":\"x\"},\"y\":{\"field\":\"y\"}},\"id\":\"d470839a-cdcf-44ff-a534-eff462b428ec\",\"type\":\"Circle\"},{\"attributes\":{},\"id\":\"01924781-31d5-43e4-9fb4-1b55045a01e9\",\"type\":\"BasicTicker\"}],\"root_ids\":[\"3d758c1d-0555-4efb-904d-03b4d77b143e\"]},\"title\":\"Bokeh Application\",\"version\":\"0.12.16\"}};\n",
       "  var render_items = [{\"docid\":\"6e8127cf-47ea-4a66-af28-8b1230e7c9c3\",\"elementid\":\"37242223-0b77-453e-bb02-7c73b27b71af\",\"modelid\":\"3d758c1d-0555-4efb-904d-03b4d77b143e\"}];\n",
       "  root.Bokeh.embed.embed_items_notebook(docs_json, render_items);\n",
       "\n",
       "  }\n",
       "  if (root.Bokeh !== undefined) {\n",
       "    embed_document(root);\n",
       "  } else {\n",
       "    var attempts = 0;\n",
       "    var timer = setInterval(function(root) {\n",
       "      if (root.Bokeh !== undefined) {\n",
       "        embed_document(root);\n",
       "        clearInterval(timer);\n",
       "      }\n",
       "      attempts++;\n",
       "      if (attempts > 100) {\n",
       "        console.log(\"Bokeh: ERROR: Unable to run BokehJS code because BokehJS library is missing\")\n",
       "        clearInterval(timer);\n",
       "      }\n",
       "    }, 10, root)\n",
       "  }\n",
       "})(window);"
      ],
      "application/vnd.bokehjs_exec.v0+json": ""
     },
     "metadata": {
      "application/vnd.bokehjs_exec.v0+json": {
       "id": "3d758c1d-0555-4efb-904d-03b4d77b143e"
      }
     },
     "output_type": "display_data"
    }
   ],
   "source": [
    "fig_act = figure(\n",
    "    plot_width=475,\n",
    "    plot_height=300,\n",
    "    title=\"All data with the actual values of the missing prices\",\n",
    ")\n",
    "fig_act.scatter(all_with_actual.x, all_with_actual.y, color=\"navy\")\n",
    "fig_act.xaxis[0].axis_label = \"Ordered Period (x)\"\n",
    "fig_act.yaxis[0].axis_label = \"Stock Prices (y)\"\n",
    "\n",
    "fig_pred = figure(\n",
    "    plot_width=475,\n",
    "    plot_height=300,\n",
    "    title=\"All data with the estimated values of the missing prices\",\n",
    ")\n",
    "fig_pred.scatter(all_with_pred.x, all_with_pred.y, color=\"firebrick\")\n",
    "fig_pred.xaxis[0].axis_label = \"Ordered Period (x)\"\n",
    "fig_pred.yaxis[0].axis_label = \"Stock Prices (y)\"\n",
    "\n",
    "show(row(fig_act, fig_pred))"
   ]
  },
  {
   "cell_type": "markdown",
   "metadata": {},
   "source": [
    "###### PLOT 3"
   ]
  },
  {
   "cell_type": "code",
   "execution_count": 17,
   "metadata": {},
   "outputs": [
    {
     "data": {
      "text/html": [
       "\n",
       "<div class=\"bk-root\">\n",
       "    <div class=\"bk-plotdiv\" id=\"6222cd9d-dd6f-4bd7-be89-b865272650f5\"></div>\n",
       "</div>"
      ]
     },
     "metadata": {},
     "output_type": "display_data"
    },
    {
     "data": {
      "application/javascript": [
       "(function(root) {\n",
       "  function embed_document(root) {\n",
       "    \n",
       "  var docs_json = {\"323cfb4f-a625-490d-bee3-30a9db95052b\":{\"roots\":{\"references\":[{\"attributes\":{},\"id\":\"b619a8f8-a582-4174-95bd-fa7a58d80525\",\"type\":\"SaveTool\"},{\"attributes\":{\"fill_alpha\":{\"value\":0.1},\"fill_color\":{\"value\":\"#1f77b4\"},\"line_alpha\":{\"value\":0.1},\"line_color\":{\"value\":\"#1f77b4\"},\"x\":{\"field\":\"x\"},\"y\":{\"field\":\"y\"}},\"id\":\"d886c7f7-cd43-46f3-a5fb-f9be0523b6bd\",\"type\":\"Circle\"},{\"attributes\":{\"label\":{\"value\":\"Predicted\"},\"renderers\":[{\"id\":\"9eef9a83-bd2a-4734-a643-ecc50c0fb031\",\"type\":\"GlyphRenderer\"}]},\"id\":\"45247682-aed3-4a87-9bcf-a880637ff0fe\",\"type\":\"LegendItem\"},{\"attributes\":{\"fill_color\":{\"value\":\"firebrick\"},\"line_color\":{\"value\":\"firebrick\"},\"x\":{\"field\":\"x\"},\"y\":{\"field\":\"y\"}},\"id\":\"2e00214e-81f3-49bb-af36-ebd47dea2456\",\"type\":\"Circle\"},{\"attributes\":{},\"id\":\"7a1b11a8-7531-40ae-a07c-cbee8a9158fa\",\"type\":\"LinearScale\"},{\"attributes\":{},\"id\":\"d0cd0f68-a611-444b-a7cc-daa19e4c6363\",\"type\":\"BasicTickFormatter\"},{\"attributes\":{\"label\":{\"value\":\"Actual\"},\"renderers\":[{\"id\":\"7fef3ced-b7a2-44c5-b83e-da984361f8c4\",\"type\":\"GlyphRenderer\"}]},\"id\":\"0973a6be-bba7-454b-877b-8580101459f0\",\"type\":\"LegendItem\"},{\"attributes\":{\"below\":[{\"id\":\"997dabb9-fbcd-47a1-b3d6-0b4676ad9c8c\",\"type\":\"LinearAxis\"}],\"left\":[{\"id\":\"a27ec2f7-b222-44e1-b3e4-8bc5aac5d0d1\",\"type\":\"LinearAxis\"}],\"plot_width\":900,\"renderers\":[{\"id\":\"997dabb9-fbcd-47a1-b3d6-0b4676ad9c8c\",\"type\":\"LinearAxis\"},{\"id\":\"b70aefe4-a0f3-4efe-ad67-aa3606dac611\",\"type\":\"Grid\"},{\"id\":\"a27ec2f7-b222-44e1-b3e4-8bc5aac5d0d1\",\"type\":\"LinearAxis\"},{\"id\":\"49a4cd87-474d-4ab3-bd01-24e929e1d84e\",\"type\":\"Grid\"},{\"id\":\"0d0f9c3e-0958-425a-8111-839322958355\",\"type\":\"BoxAnnotation\"},{\"id\":\"c5fa3664-b5b3-4a72-8c6e-25081d64916b\",\"type\":\"Legend\"},{\"id\":\"9eef9a83-bd2a-4734-a643-ecc50c0fb031\",\"type\":\"GlyphRenderer\"},{\"id\":\"7fef3ced-b7a2-44c5-b83e-da984361f8c4\",\"type\":\"GlyphRenderer\"}],\"title\":{\"id\":\"d65b3328-e362-46ac-bb4c-0430846405f1\",\"type\":\"Title\"},\"toolbar\":{\"id\":\"bb2a7c6c-f1d6-459a-b02b-024f4374617f\",\"type\":\"Toolbar\"},\"x_range\":{\"id\":\"5a48edc7-9370-4e07-b923-104ea63b369e\",\"type\":\"DataRange1d\"},\"x_scale\":{\"id\":\"7a1b11a8-7531-40ae-a07c-cbee8a9158fa\",\"type\":\"LinearScale\"},\"y_range\":{\"id\":\"34fbaaa5-3ddc-4d31-beba-d5bc791b732e\",\"type\":\"DataRange1d\"},\"y_scale\":{\"id\":\"efe34298-6414-4243-bd71-762036883125\",\"type\":\"LinearScale\"}},\"id\":\"b82ccef0-4bd5-4446-ae0e-ccc448f4c806\",\"subtype\":\"Figure\",\"type\":\"Plot\"},{\"attributes\":{},\"id\":\"c7bd5a97-690f-48cb-a28c-9bf9d58d2601\",\"type\":\"WheelZoomTool\"},{\"attributes\":{\"data_source\":{\"id\":\"a35b3b6c-d749-4b5f-b09c-5ce565c9c384\",\"type\":\"ColumnDataSource\"},\"glyph\":{\"id\":\"258ec07d-d8c7-40b7-8619-0fccadc366e6\",\"type\":\"Circle\"},\"hover_glyph\":null,\"muted_glyph\":null,\"nonselection_glyph\":{\"id\":\"d886c7f7-cd43-46f3-a5fb-f9be0523b6bd\",\"type\":\"Circle\"},\"selection_glyph\":null,\"view\":{\"id\":\"e648baec-fcfa-40ed-a0c2-43f806b32e18\",\"type\":\"CDSView\"}},\"id\":\"7fef3ced-b7a2-44c5-b83e-da984361f8c4\",\"type\":\"GlyphRenderer\"},{\"attributes\":{\"items\":[{\"id\":\"45247682-aed3-4a87-9bcf-a880637ff0fe\",\"type\":\"LegendItem\"},{\"id\":\"0973a6be-bba7-454b-877b-8580101459f0\",\"type\":\"LegendItem\"}],\"plot\":{\"id\":\"b82ccef0-4bd5-4446-ae0e-ccc448f4c806\",\"subtype\":\"Figure\",\"type\":\"Plot\"}},\"id\":\"c5fa3664-b5b3-4a72-8c6e-25081d64916b\",\"type\":\"Legend\"},{\"attributes\":{},\"id\":\"efe34298-6414-4243-bd71-762036883125\",\"type\":\"LinearScale\"},{\"attributes\":{},\"id\":\"0e52d3f3-dfdd-4a70-b91e-89fb33b3db82\",\"type\":\"BasicTickFormatter\"},{\"attributes\":{},\"id\":\"2f891f3f-590f-4648-a44d-11be338e3306\",\"type\":\"Selection\"},{\"attributes\":{},\"id\":\"76e463c4-9cb9-4824-95f4-e519054f08b8\",\"type\":\"UnionRenderers\"},{\"attributes\":{\"fill_color\":{\"value\":\"navy\"},\"line_color\":{\"value\":\"navy\"},\"x\":{\"field\":\"x\"},\"y\":{\"field\":\"y\"}},\"id\":\"258ec07d-d8c7-40b7-8619-0fccadc366e6\",\"type\":\"Circle\"},{\"attributes\":{\"source\":{\"id\":\"a35b3b6c-d749-4b5f-b09c-5ce565c9c384\",\"type\":\"ColumnDataSource\"}},\"id\":\"e648baec-fcfa-40ed-a0c2-43f806b32e18\",\"type\":\"CDSView\"},{\"attributes\":{},\"id\":\"ba13c2ff-cf2d-4e5e-86a8-97227044856b\",\"type\":\"UnionRenderers\"},{\"attributes\":{},\"id\":\"43dc4a78-d265-4d1a-8be2-3aac97fce549\",\"type\":\"Selection\"},{\"attributes\":{\"callback\":null},\"id\":\"34fbaaa5-3ddc-4d31-beba-d5bc791b732e\",\"type\":\"DataRange1d\"},{\"attributes\":{\"active_drag\":\"auto\",\"active_inspect\":\"auto\",\"active_scroll\":\"auto\",\"active_tap\":\"auto\",\"tools\":[{\"id\":\"a807b2e8-4919-4639-9b48-1129ba6826d6\",\"type\":\"PanTool\"},{\"id\":\"c7bd5a97-690f-48cb-a28c-9bf9d58d2601\",\"type\":\"WheelZoomTool\"},{\"id\":\"fd8aff5e-71a0-4020-b833-d80047308f34\",\"type\":\"BoxZoomTool\"},{\"id\":\"b619a8f8-a582-4174-95bd-fa7a58d80525\",\"type\":\"SaveTool\"},{\"id\":\"7a1172ac-2d5c-4b74-891d-46398c77b6dd\",\"type\":\"ResetTool\"},{\"id\":\"8efbf09a-c570-46bc-affd-4b4e02025be1\",\"type\":\"HelpTool\"}]},\"id\":\"bb2a7c6c-f1d6-459a-b02b-024f4374617f\",\"type\":\"Toolbar\"},{\"attributes\":{\"callback\":null},\"id\":\"5a48edc7-9370-4e07-b923-104ea63b369e\",\"type\":\"DataRange1d\"},{\"attributes\":{\"axis_label\":\"Ordered Period (x)\",\"formatter\":{\"id\":\"d0cd0f68-a611-444b-a7cc-daa19e4c6363\",\"type\":\"BasicTickFormatter\"},\"plot\":{\"id\":\"b82ccef0-4bd5-4446-ae0e-ccc448f4c806\",\"subtype\":\"Figure\",\"type\":\"Plot\"},\"ticker\":{\"id\":\"f0cec0c0-830f-4fcf-9214-12fa0f7fff7f\",\"type\":\"BasicTicker\"}},\"id\":\"997dabb9-fbcd-47a1-b3d6-0b4676ad9c8c\",\"type\":\"LinearAxis\"},{\"attributes\":{},\"id\":\"7a1172ac-2d5c-4b74-891d-46398c77b6dd\",\"type\":\"ResetTool\"},{\"attributes\":{\"plot\":{\"id\":\"b82ccef0-4bd5-4446-ae0e-ccc448f4c806\",\"subtype\":\"Figure\",\"type\":\"Plot\"},\"ticker\":{\"id\":\"f0cec0c0-830f-4fcf-9214-12fa0f7fff7f\",\"type\":\"BasicTicker\"}},\"id\":\"b70aefe4-a0f3-4efe-ad67-aa3606dac611\",\"type\":\"Grid\"},{\"attributes\":{\"overlay\":{\"id\":\"0d0f9c3e-0958-425a-8111-839322958355\",\"type\":\"BoxAnnotation\"}},\"id\":\"fd8aff5e-71a0-4020-b833-d80047308f34\",\"type\":\"BoxZoomTool\"},{\"attributes\":{\"callback\":null,\"data\":{\"x\":[0,1,2,3,4,5,6,7,8,9,10,11,12,13,14,15,16,17,18,19,20,21,22,23,24,25,26,27,28,29,30,31,32,33,34,35,36,37,38,39,40,41,42,43,44,45,46,47,49,50,51,52,53,55,56,58,59,60,61,62,63,64,65,66,67,68,69,70,71,72,73,74,75,76,77,78,79,80,81,82,83,84,85,86,87,88,89,90,91,92,93,94,95,96,97,98,100,101,102,103,106,107,108,109,110,111,112,113,114,115,116,117,118,119,120,121,122,123,124,125,126,127,128,129,130,131,132,133,134,135,136,137,140,141,143,144,145,146,147,148,149,150,151,152,153,154,155,156,157,158,159,160,161,162,163,164,165,166,167,168,169,170,171,172,174,175,176,177,179,180,182,183,184,185,186,187,188,189,190,191,192,193,196,197,199,200,201,202,203,204,205,206,207,209,210,211,213,214,215,216,218,219,221,222,223,224,225,226,227,228,229,230,231,232,233,234,235,236,237,239,240,241,242,243,244,245,246,247,248,249,48,54,57,99,104,105,138,139,142,173,178,181,194,195,198,208,212,217,220,238],\"y\":[\"26.96\",\"27.47\",\"27.728\",\"28.19\",\"28.1\",\"28.15\",\"27.98\",\"28.02\",\"28.25\",\"28.65\",\"28.4\",\"28.435\",\"29.74\",\"29.95\",\"29.5703\",\"29.65\",\"29.7\",\"29.53\",\"29.62\",\"29.7\",\"30.05\",\"30.17\",\"30.4\",\"30.22\",\"30.485\",\"30.67\",\"30.8\",\"30.8\",\"30.77\",\"30.46\",\"30.39\",\"31.55\",\"31.32\",\"31.61\",\"31.68\",\"31.59\",\"31.5\",\"31.5\",\"31.93\",\"32\",\"32.39\",\"32.44\",\"32.05\",\"31.98\",\"31.92\",\"32.21\",\"32.16\",\"32.2\",\"32.88\",\"32.94\",\"32.95\",\"32.61\",\"32.15\",\"32.09\",\"32.11\",\"32.7\",\"32.7\",\"32.19\",\"32.41\",\"32.46\",\"32.19\",\"31.69\",\"31.63\",\"31.4\",\"31.19\",\"30.53\",\"31.04\",\"31.16\",\"31.19\",\"31.61\",\"31.31\",\"31.68\",\"32.89\",\"32.5\",\"32.52\",\"32.32\",\"32.23\",\"32.22\",\"32.11\",\"32.335\",\"31.925\",\"31.9\",\"31.57\",\"30.86\",\"30.78\",\"30.83\",\"31.02\",\"31.54\",\"31.04\",\"30.795\",\"30.32\",\"30.2084\",\"29.81\",\"29.79\",\"29.88\",\"29.4\",\"29.36\",\"29.72\",\"29.479\",\"29.42\",\"28.75\",\"29.37\",\"29.7\",\"29.68\",\"29.81\",\"29.3\",\"29.44\",\"29.46\",\"30.08\",\"30.03\",\"31.11\",\"31.05\",\"31.14\",\"30.73\",\"30.32\",\"30.27\",\"30.5\",\"30.05\",\"30.69\",\"30.62\",\"30.76\",\"30.78\",\"30.7\",\"30.23\",\"30.22\",\"29.735\",\"29.18\",\"29.48\",\"29.53\",\"29.86\",\"30.45\",\"30.8\",\"29.36\",\"29.33\",\"29.85\",\"29.82\",\"29.71\",\"29.65\",\"29.525\",\"29.94\",\"30.11\",\"30.35\",\"30.47\",\"30.65\",\"30.62\",\"30.46\",\"30.39\",\"30.28\",\"30.94\",\"30.92\",\"30.85\",\"30.96\",\"30.76\",\"30.4\",\"30.63\",\"30.96\",\"30.8\",\"30.75\",\"30.61\",\"30.96\",\"30.66\",\"30.53\",\"31.36\",\"31.07\",\"30.91\",\"31.18\",\"31.18\",\"31.25\",\"31.21\",\"31.19\",\"31.61\",\"31.07\",\"31\",\"30.6\",\"30.4\",\"30.26\",\"29.98\",\"29.89\",\"29.99\",\"30.03\",\"30.25\",\"29.92\",\"29.25\",\"29.32\",\"29.74\",\"29.64\",\"29.73\",\"29.08\",\"28.83\",\"28.2\",\"28.2\",\"28.2\",\"28.34\",\"29.56\",\"29.77\",\"29.74\",\"29.825\",\"29.37\",\"29.19\",\"29.01\",\"27.29\",\"26.97\",\"26.8\",\"26.8\",\"27.1666\",\"27.77\",\"27.58\",\"27.38\",\"27.39\",\"27.36\",\"27.13\",\"26.82\",\"26.63\",\"26.93\",\"26.98\",\"26.82\",\"26.97\",\"27.49\",\"27.62\",\"27.13\",\"27.215\",\"27.63\",\"27.73\",\"27.68\",\"27.49\",\"27.25\",\"27.2\",\"27.09\",\"26.9\",\"26.77\",32.69,32.15,32.61,29.3,28.96,28.78,31.05,29.58,29.5,30.9,31.26,31.48,29.74,29.31,29.72,28.88,30.2,27.3,26.7,27.52]},\"selected\":{\"id\":\"2f891f3f-590f-4648-a44d-11be338e3306\",\"type\":\"Selection\"},\"selection_policy\":{\"id\":\"76e463c4-9cb9-4824-95f4-e519054f08b8\",\"type\":\"UnionRenderers\"}},\"id\":\"a35b3b6c-d749-4b5f-b09c-5ce565c9c384\",\"type\":\"ColumnDataSource\"},{\"attributes\":{},\"id\":\"f0cec0c0-830f-4fcf-9214-12fa0f7fff7f\",\"type\":\"BasicTicker\"},{\"attributes\":{\"dimension\":1,\"plot\":{\"id\":\"b82ccef0-4bd5-4446-ae0e-ccc448f4c806\",\"subtype\":\"Figure\",\"type\":\"Plot\"},\"ticker\":{\"id\":\"c9ce98aa-4681-4ebc-895e-f82b49b28e85\",\"type\":\"BasicTicker\"}},\"id\":\"49a4cd87-474d-4ab3-bd01-24e929e1d84e\",\"type\":\"Grid\"},{\"attributes\":{\"source\":{\"id\":\"a1c113c6-bec4-4270-bf1d-4265e69eb679\",\"type\":\"ColumnDataSource\"}},\"id\":\"ce357509-8a51-41fc-8359-9ce349af5e13\",\"type\":\"CDSView\"},{\"attributes\":{\"bottom_units\":\"screen\",\"fill_alpha\":{\"value\":0.5},\"fill_color\":{\"value\":\"lightgrey\"},\"left_units\":\"screen\",\"level\":\"overlay\",\"line_alpha\":{\"value\":1.0},\"line_color\":{\"value\":\"black\"},\"line_dash\":[4,4],\"line_width\":{\"value\":2},\"plot\":null,\"render_mode\":\"css\",\"right_units\":\"screen\",\"top_units\":\"screen\"},\"id\":\"0d0f9c3e-0958-425a-8111-839322958355\",\"type\":\"BoxAnnotation\"},{\"attributes\":{},\"id\":\"c9ce98aa-4681-4ebc-895e-f82b49b28e85\",\"type\":\"BasicTicker\"},{\"attributes\":{\"callback\":null,\"data\":{\"x\":[0,1,2,3,4,5,6,7,8,9,10,11,12,13,14,15,16,17,18,19,20,21,22,23,24,25,26,27,28,29,30,31,32,33,34,35,36,37,38,39,40,41,42,43,44,45,46,47,48,49,50,51,52,53,54,55,56,57,58,59,60,61,62,63,64,65,66,67,68,69,70,71,72,73,74,75,76,77,78,79,80,81,82,83,84,85,86,87,88,89,90,91,92,93,94,95,96,97,98,99,100,101,102,103,104,105,106,107,108,109,110,111,112,113,114,115,116,117,118,119,120,121,122,123,124,125,126,127,128,129,130,131,132,133,134,135,136,137,138,139,140,141,142,143,144,145,146,147,148,149,150,151,152,153,154,155,156,157,158,159,160,161,162,163,164,165,166,167,168,169,170,171,172,173,174,175,176,177,178,179,180,181,182,183,184,185,186,187,188,189,190,191,192,193,194,195,196,197,198,199,200,201,202,203,204,205,206,207,208,209,210,211,212,213,214,215,216,217,218,219,220,221,222,223,224,225,226,227,228,229,230,231,232,233,234,235,236,237,238,239,240,241,242,243,244,245,246,247,248,249],\"y\":[\"26.96\",\"27.47\",\"27.728\",\"28.19\",\"28.1\",\"28.15\",\"27.98\",\"28.02\",\"28.25\",\"28.65\",\"28.4\",\"28.435\",\"29.74\",\"29.95\",\"29.5703\",\"29.65\",\"29.7\",\"29.53\",\"29.62\",\"29.7\",\"30.05\",\"30.17\",\"30.4\",\"30.22\",\"30.485\",\"30.67\",\"30.8\",\"30.8\",\"30.77\",\"30.46\",\"30.39\",\"31.55\",\"31.32\",\"31.61\",\"31.68\",\"31.59\",\"31.5\",\"31.5\",\"31.93\",\"32\",\"32.39\",\"32.44\",\"32.05\",\"31.98\",\"31.92\",\"32.21\",\"32.16\",\"32.2\",32.668938501715886,\"32.88\",\"32.94\",\"32.95\",\"32.61\",\"32.15\",32.02577809422542,\"32.09\",\"32.11\",32.521154202633326,\"32.7\",\"32.7\",\"32.19\",\"32.41\",\"32.46\",\"32.19\",\"31.69\",\"31.63\",\"31.4\",\"31.19\",\"30.53\",\"31.04\",\"31.16\",\"31.19\",\"31.61\",\"31.31\",\"31.68\",\"32.89\",\"32.5\",\"32.52\",\"32.32\",\"32.23\",\"32.22\",\"32.11\",\"32.335\",\"31.925\",\"31.9\",\"31.57\",\"30.86\",\"30.78\",\"30.83\",\"31.02\",\"31.54\",\"31.04\",\"30.795\",\"30.32\",\"30.2084\",\"29.81\",\"29.79\",\"29.88\",\"29.4\",29.39560420560636,\"29.36\",\"29.72\",\"29.479\",\"29.42\",28.924276835705577,28.61824848254023,\"28.75\",\"29.37\",\"29.7\",\"29.68\",\"29.81\",\"29.3\",\"29.44\",\"29.46\",\"30.08\",\"30.03\",\"31.11\",\"31.05\",\"31.14\",\"30.73\",\"30.32\",\"30.27\",\"30.5\",\"30.05\",\"30.69\",\"30.62\",\"30.76\",\"30.78\",\"30.7\",\"30.23\",\"30.22\",\"29.735\",\"29.18\",\"29.48\",\"29.53\",\"29.86\",\"30.45\",\"30.8\",30.51717831993778,29.884597625982074,\"29.36\",\"29.33\",29.582341991429328,\"29.85\",\"29.82\",\"29.71\",\"29.65\",\"29.525\",\"29.94\",\"30.11\",\"30.35\",\"30.47\",\"30.65\",\"30.62\",\"30.46\",\"30.39\",\"30.28\",\"30.94\",\"30.92\",\"30.85\",\"30.96\",\"30.76\",\"30.4\",\"30.63\",\"30.96\",\"30.8\",\"30.75\",\"30.61\",\"30.96\",\"30.66\",\"30.53\",\"31.36\",\"31.07\",30.9985088924918,\"30.91\",\"31.18\",\"31.18\",\"31.25\",31.175263646627442,\"31.21\",\"31.19\",31.503717473459613,\"31.61\",\"31.07\",\"31\",\"30.6\",\"30.4\",\"30.26\",\"29.98\",\"29.89\",\"29.99\",\"30.03\",\"30.25\",\"29.92\",29.616875167948827,29.35500830983579,\"29.25\",\"29.32\",29.580811849449635,\"29.74\",\"29.64\",\"29.73\",\"29.08\",\"28.83\",\"28.2\",\"28.2\",\"28.2\",\"28.34\",28.92853964566678,\"29.56\",\"29.77\",\"29.74\",29.75763194957453,\"29.825\",\"29.37\",\"29.19\",\"29.01\",28.09099962680575,\"27.29\",\"26.97\",26.713342516228632,\"26.8\",\"26.8\",\"27.1666\",\"27.77\",\"27.58\",\"27.38\",\"27.39\",\"27.36\",\"27.13\",\"26.82\",\"26.63\",\"26.93\",\"26.98\",\"26.82\",\"26.97\",\"27.49\",\"27.62\",27.366089628280776,\"27.13\",\"27.215\",\"27.63\",\"27.73\",\"27.68\",\"27.49\",\"27.25\",\"27.2\",\"27.09\",\"26.9\",\"26.77\"]},\"selected\":{\"id\":\"43dc4a78-d265-4d1a-8be2-3aac97fce549\",\"type\":\"Selection\"},\"selection_policy\":{\"id\":\"ba13c2ff-cf2d-4e5e-86a8-97227044856b\",\"type\":\"UnionRenderers\"}},\"id\":\"a1c113c6-bec4-4270-bf1d-4265e69eb679\",\"type\":\"ColumnDataSource\"},{\"attributes\":{\"axis_label\":\"Stock Prices (y)\",\"formatter\":{\"id\":\"0e52d3f3-dfdd-4a70-b91e-89fb33b3db82\",\"type\":\"BasicTickFormatter\"},\"plot\":{\"id\":\"b82ccef0-4bd5-4446-ae0e-ccc448f4c806\",\"subtype\":\"Figure\",\"type\":\"Plot\"},\"ticker\":{\"id\":\"c9ce98aa-4681-4ebc-895e-f82b49b28e85\",\"type\":\"BasicTicker\"}},\"id\":\"a27ec2f7-b222-44e1-b3e4-8bc5aac5d0d1\",\"type\":\"LinearAxis\"},{\"attributes\":{\"data_source\":{\"id\":\"a1c113c6-bec4-4270-bf1d-4265e69eb679\",\"type\":\"ColumnDataSource\"},\"glyph\":{\"id\":\"2e00214e-81f3-49bb-af36-ebd47dea2456\",\"type\":\"Circle\"},\"hover_glyph\":null,\"muted_glyph\":null,\"nonselection_glyph\":{\"id\":\"82fc32e5-cf53-43d5-97db-1b03e98e7a6e\",\"type\":\"Circle\"},\"selection_glyph\":null,\"view\":{\"id\":\"ce357509-8a51-41fc-8359-9ce349af5e13\",\"type\":\"CDSView\"}},\"id\":\"9eef9a83-bd2a-4734-a643-ecc50c0fb031\",\"type\":\"GlyphRenderer\"},{\"attributes\":{\"fill_alpha\":{\"value\":0.1},\"fill_color\":{\"value\":\"#1f77b4\"},\"line_alpha\":{\"value\":0.1},\"line_color\":{\"value\":\"#1f77b4\"},\"x\":{\"field\":\"x\"},\"y\":{\"field\":\"y\"}},\"id\":\"82fc32e5-cf53-43d5-97db-1b03e98e7a6e\",\"type\":\"Circle\"},{\"attributes\":{\"plot\":null,\"text\":\"Positioning the side-by-side plots above in a single view\"},\"id\":\"d65b3328-e362-46ac-bb4c-0430846405f1\",\"type\":\"Title\"},{\"attributes\":{},\"id\":\"a807b2e8-4919-4639-9b48-1129ba6826d6\",\"type\":\"PanTool\"},{\"attributes\":{},\"id\":\"8efbf09a-c570-46bc-affd-4b4e02025be1\",\"type\":\"HelpTool\"}],\"root_ids\":[\"b82ccef0-4bd5-4446-ae0e-ccc448f4c806\"]},\"title\":\"Bokeh Application\",\"version\":\"0.12.16\"}};\n",
       "  var render_items = [{\"docid\":\"323cfb4f-a625-490d-bee3-30a9db95052b\",\"elementid\":\"6222cd9d-dd6f-4bd7-be89-b865272650f5\",\"modelid\":\"b82ccef0-4bd5-4446-ae0e-ccc448f4c806\"}];\n",
       "  root.Bokeh.embed.embed_items_notebook(docs_json, render_items);\n",
       "\n",
       "  }\n",
       "  if (root.Bokeh !== undefined) {\n",
       "    embed_document(root);\n",
       "  } else {\n",
       "    var attempts = 0;\n",
       "    var timer = setInterval(function(root) {\n",
       "      if (root.Bokeh !== undefined) {\n",
       "        embed_document(root);\n",
       "        clearInterval(timer);\n",
       "      }\n",
       "      attempts++;\n",
       "      if (attempts > 100) {\n",
       "        console.log(\"Bokeh: ERROR: Unable to run BokehJS code because BokehJS library is missing\")\n",
       "        clearInterval(timer);\n",
       "      }\n",
       "    }, 10, root)\n",
       "  }\n",
       "})(window);"
      ],
      "application/vnd.bokehjs_exec.v0+json": ""
     },
     "metadata": {
      "application/vnd.bokehjs_exec.v0+json": {
       "id": "b82ccef0-4bd5-4446-ae0e-ccc448f4c806"
      }
     },
     "output_type": "display_data"
    }
   ],
   "source": [
    "fig = figure(\n",
    "    title=\"Positioning the side-by-side plots above in a single view\", width=900\n",
    ")\n",
    "fig.scatter(all_with_pred.x, all_with_pred.y, color=\"firebrick\", legend=[\"Predicted\"])\n",
    "fig.scatter(all_with_actual.x, all_with_actual.y, color=\"navy\", legend=[\"Actual\"])\n",
    "fig.xaxis[0].axis_label = \"Ordered Period (x)\"\n",
    "fig.yaxis[0].axis_label = \"Stock Prices (y)\"\n",
    "show(fig)\n"
   ]
  }
 ],
 "metadata": {
  "kernelspec": {
   "display_name": "Python 3",
   "language": "python",
   "name": "python3"
  },
  "language_info": {
   "codemirror_mode": {
    "name": "ipython",
    "version": 3
   },
   "file_extension": ".py",
   "mimetype": "text/x-python",
   "name": "python",
   "nbconvert_exporter": "python",
   "pygments_lexer": "ipython3",
   "version": "3.6.5"
  }
 },
 "nbformat": 4,
 "nbformat_minor": 2
}
